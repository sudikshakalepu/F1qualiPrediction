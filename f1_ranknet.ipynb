{
 "cells": [
  {
   "cell_type": "code",
   "execution_count": 1,
   "metadata": {},
   "outputs": [],
   "source": [
    "import matplotlib.pyplot as plt\n",
    "import pandas as pd\n",
    "from timple.timedelta import strftimedelta\n",
    "import numpy as np\n",
    "\n",
    "import fastf1\n",
    "import fastf1.plotting as f1plot\n",
    "from fastf1.core import Laps\n",
    "import seaborn as sns\n",
    "from fastf1.ergast import Ergast\n",
    "ergast = Ergast()\n",
    "\n",
    "import numpy as np\n",
    "import pandas as pd\n",
    "from sklearn.preprocessing import StandardScaler\n",
    "from sklearn.decomposition import PCA\n",
    "from sklearn.model_selection import train_test_split\n",
    "from sklearn.metrics import ndcg_score, mean_absolute_error\n",
    "from scipy.stats import spearmanr\n",
    "import tensorflow as tf\n",
    "\n",
    "import warnings\n",
    "warnings.filterwarnings('ignore')\n",
    "\n",
    "# black background\n",
    "f1plot.setup_mpl(mpl_timedelta_support=True, misc_mpl_mods=False,\n",
    "                          color_scheme='fastf1')\n",
    "\n",
    "# tire compound colors\n",
    "compound_colors = {'TEST_UNKNOWN': 'grey', 'SOFT': 'red', 'MEDIUM': 'yellow', 'HARD': 'white', 'INTER': 'green', 'WET': 'blue'}\n",
    "\n",
    "\n",
    "\n",
    "year = 2024"
   ]
  },
  {
   "cell_type": "code",
   "execution_count": 2,
   "metadata": {},
   "outputs": [
    {
     "name": "stderr",
     "output_type": "stream",
     "text": [
      "req         WARNING \tDEFAULT CACHE ENABLED! (4.16 GB) /Users/EmilyHuang/Library/Caches/fastf1\n"
     ]
    },
    {
     "data": {
      "text/html": [
       "<div>\n",
       "<style scoped>\n",
       "    .dataframe tbody tr th:only-of-type {\n",
       "        vertical-align: middle;\n",
       "    }\n",
       "\n",
       "    .dataframe tbody tr th {\n",
       "        vertical-align: top;\n",
       "    }\n",
       "\n",
       "    .dataframe thead th {\n",
       "        text-align: right;\n",
       "    }\n",
       "</style>\n",
       "<table border=\"1\" class=\"dataframe\">\n",
       "  <thead>\n",
       "    <tr style=\"text-align: right;\">\n",
       "      <th></th>\n",
       "      <th>RoundNumber</th>\n",
       "      <th>Country</th>\n",
       "      <th>Location</th>\n",
       "      <th>OfficialEventName</th>\n",
       "      <th>EventDate</th>\n",
       "      <th>EventName</th>\n",
       "      <th>EventFormat</th>\n",
       "      <th>Session1</th>\n",
       "      <th>Session1Date</th>\n",
       "      <th>Session1DateUtc</th>\n",
       "      <th>...</th>\n",
       "      <th>Session3</th>\n",
       "      <th>Session3Date</th>\n",
       "      <th>Session3DateUtc</th>\n",
       "      <th>Session4</th>\n",
       "      <th>Session4Date</th>\n",
       "      <th>Session4DateUtc</th>\n",
       "      <th>Session5</th>\n",
       "      <th>Session5Date</th>\n",
       "      <th>Session5DateUtc</th>\n",
       "      <th>F1ApiSupport</th>\n",
       "    </tr>\n",
       "  </thead>\n",
       "  <tbody>\n",
       "    <tr>\n",
       "      <th>0</th>\n",
       "      <td>1</td>\n",
       "      <td>Bahrain</td>\n",
       "      <td>Sakhir</td>\n",
       "      <td>FORMULA 1 GULF AIR BAHRAIN GRAND PRIX 2024</td>\n",
       "      <td>2024-03-02</td>\n",
       "      <td>Bahrain Grand Prix</td>\n",
       "      <td>conventional</td>\n",
       "      <td>Practice 1</td>\n",
       "      <td>2024-02-29 14:30:00+03:00</td>\n",
       "      <td>2024-02-29 11:30:00</td>\n",
       "      <td>...</td>\n",
       "      <td>Practice 3</td>\n",
       "      <td>2024-03-01 15:30:00+03:00</td>\n",
       "      <td>2024-03-01 12:30:00</td>\n",
       "      <td>Qualifying</td>\n",
       "      <td>2024-03-01 19:00:00+03:00</td>\n",
       "      <td>2024-03-01 16:00:00</td>\n",
       "      <td>Race</td>\n",
       "      <td>2024-03-02 18:00:00+03:00</td>\n",
       "      <td>2024-03-02 15:00:00</td>\n",
       "      <td>True</td>\n",
       "    </tr>\n",
       "    <tr>\n",
       "      <th>1</th>\n",
       "      <td>2</td>\n",
       "      <td>Saudi Arabia</td>\n",
       "      <td>Jeddah</td>\n",
       "      <td>FORMULA 1 STC SAUDI ARABIAN GRAND PRIX 2024</td>\n",
       "      <td>2024-03-09</td>\n",
       "      <td>Saudi Arabian Grand Prix</td>\n",
       "      <td>conventional</td>\n",
       "      <td>Practice 1</td>\n",
       "      <td>2024-03-07 16:30:00+03:00</td>\n",
       "      <td>2024-03-07 13:30:00</td>\n",
       "      <td>...</td>\n",
       "      <td>Practice 3</td>\n",
       "      <td>2024-03-08 16:30:00+03:00</td>\n",
       "      <td>2024-03-08 13:30:00</td>\n",
       "      <td>Qualifying</td>\n",
       "      <td>2024-03-08 20:00:00+03:00</td>\n",
       "      <td>2024-03-08 17:00:00</td>\n",
       "      <td>Race</td>\n",
       "      <td>2024-03-09 20:00:00+03:00</td>\n",
       "      <td>2024-03-09 17:00:00</td>\n",
       "      <td>True</td>\n",
       "    </tr>\n",
       "    <tr>\n",
       "      <th>2</th>\n",
       "      <td>3</td>\n",
       "      <td>Australia</td>\n",
       "      <td>Melbourne</td>\n",
       "      <td>FORMULA 1 ROLEX AUSTRALIAN GRAND PRIX 2024</td>\n",
       "      <td>2024-03-24</td>\n",
       "      <td>Australian Grand Prix</td>\n",
       "      <td>conventional</td>\n",
       "      <td>Practice 1</td>\n",
       "      <td>2024-03-22 12:30:00+11:00</td>\n",
       "      <td>2024-03-22 01:30:00</td>\n",
       "      <td>...</td>\n",
       "      <td>Practice 3</td>\n",
       "      <td>2024-03-23 12:30:00+11:00</td>\n",
       "      <td>2024-03-23 01:30:00</td>\n",
       "      <td>Qualifying</td>\n",
       "      <td>2024-03-23 16:00:00+11:00</td>\n",
       "      <td>2024-03-23 05:00:00</td>\n",
       "      <td>Race</td>\n",
       "      <td>2024-03-24 15:00:00+11:00</td>\n",
       "      <td>2024-03-24 04:00:00</td>\n",
       "      <td>True</td>\n",
       "    </tr>\n",
       "    <tr>\n",
       "      <th>3</th>\n",
       "      <td>4</td>\n",
       "      <td>Japan</td>\n",
       "      <td>Suzuka</td>\n",
       "      <td>FORMULA 1 MSC CRUISES JAPANESE GRAND PRIX 2024</td>\n",
       "      <td>2024-04-07</td>\n",
       "      <td>Japanese Grand Prix</td>\n",
       "      <td>conventional</td>\n",
       "      <td>Practice 1</td>\n",
       "      <td>2024-04-05 11:30:00+09:00</td>\n",
       "      <td>2024-04-05 02:30:00</td>\n",
       "      <td>...</td>\n",
       "      <td>Practice 3</td>\n",
       "      <td>2024-04-06 11:30:00+09:00</td>\n",
       "      <td>2024-04-06 02:30:00</td>\n",
       "      <td>Qualifying</td>\n",
       "      <td>2024-04-06 15:00:00+09:00</td>\n",
       "      <td>2024-04-06 06:00:00</td>\n",
       "      <td>Race</td>\n",
       "      <td>2024-04-07 14:00:00+09:00</td>\n",
       "      <td>2024-04-07 05:00:00</td>\n",
       "      <td>True</td>\n",
       "    </tr>\n",
       "    <tr>\n",
       "      <th>4</th>\n",
       "      <td>7</td>\n",
       "      <td>Italy</td>\n",
       "      <td>Imola</td>\n",
       "      <td>FORMULA 1 MSC CRUISES GRAN PREMIO DEL MADE IN ...</td>\n",
       "      <td>2024-05-19</td>\n",
       "      <td>Emilia Romagna Grand Prix</td>\n",
       "      <td>conventional</td>\n",
       "      <td>Practice 1</td>\n",
       "      <td>2024-05-17 13:30:00+02:00</td>\n",
       "      <td>2024-05-17 11:30:00</td>\n",
       "      <td>...</td>\n",
       "      <td>Practice 3</td>\n",
       "      <td>2024-05-18 12:30:00+02:00</td>\n",
       "      <td>2024-05-18 10:30:00</td>\n",
       "      <td>Qualifying</td>\n",
       "      <td>2024-05-18 16:00:00+02:00</td>\n",
       "      <td>2024-05-18 14:00:00</td>\n",
       "      <td>Race</td>\n",
       "      <td>2024-05-19 15:00:00+02:00</td>\n",
       "      <td>2024-05-19 13:00:00</td>\n",
       "      <td>True</td>\n",
       "    </tr>\n",
       "    <tr>\n",
       "      <th>5</th>\n",
       "      <td>8</td>\n",
       "      <td>Monaco</td>\n",
       "      <td>Monaco</td>\n",
       "      <td>FORMULA 1 GRAND PRIX DE MONACO 2024</td>\n",
       "      <td>2024-05-26</td>\n",
       "      <td>Monaco Grand Prix</td>\n",
       "      <td>conventional</td>\n",
       "      <td>Practice 1</td>\n",
       "      <td>2024-05-24 13:30:00+02:00</td>\n",
       "      <td>2024-05-24 11:30:00</td>\n",
       "      <td>...</td>\n",
       "      <td>Practice 3</td>\n",
       "      <td>2024-05-25 12:30:00+02:00</td>\n",
       "      <td>2024-05-25 10:30:00</td>\n",
       "      <td>Qualifying</td>\n",
       "      <td>2024-05-25 16:00:00+02:00</td>\n",
       "      <td>2024-05-25 14:00:00</td>\n",
       "      <td>Race</td>\n",
       "      <td>2024-05-26 15:00:00+02:00</td>\n",
       "      <td>2024-05-26 13:00:00</td>\n",
       "      <td>True</td>\n",
       "    </tr>\n",
       "    <tr>\n",
       "      <th>6</th>\n",
       "      <td>9</td>\n",
       "      <td>Canada</td>\n",
       "      <td>Montréal</td>\n",
       "      <td>FORMULA 1 AWS GRAND PRIX DU CANADA 2024</td>\n",
       "      <td>2024-06-09</td>\n",
       "      <td>Canadian Grand Prix</td>\n",
       "      <td>conventional</td>\n",
       "      <td>Practice 1</td>\n",
       "      <td>2024-06-07 13:30:00-04:00</td>\n",
       "      <td>2024-06-07 17:30:00</td>\n",
       "      <td>...</td>\n",
       "      <td>Practice 3</td>\n",
       "      <td>2024-06-08 12:30:00-04:00</td>\n",
       "      <td>2024-06-08 16:30:00</td>\n",
       "      <td>Qualifying</td>\n",
       "      <td>2024-06-08 16:00:00-04:00</td>\n",
       "      <td>2024-06-08 20:00:00</td>\n",
       "      <td>Race</td>\n",
       "      <td>2024-06-09 14:00:00-04:00</td>\n",
       "      <td>2024-06-09 18:00:00</td>\n",
       "      <td>True</td>\n",
       "    </tr>\n",
       "    <tr>\n",
       "      <th>7</th>\n",
       "      <td>10</td>\n",
       "      <td>Spain</td>\n",
       "      <td>Barcelona</td>\n",
       "      <td>FORMULA 1 ARAMCO GRAN PREMIO DE ESPAÑA 2024</td>\n",
       "      <td>2024-06-23</td>\n",
       "      <td>Spanish Grand Prix</td>\n",
       "      <td>conventional</td>\n",
       "      <td>Practice 1</td>\n",
       "      <td>2024-06-21 13:30:00+02:00</td>\n",
       "      <td>2024-06-21 11:30:00</td>\n",
       "      <td>...</td>\n",
       "      <td>Practice 3</td>\n",
       "      <td>2024-06-22 12:30:00+02:00</td>\n",
       "      <td>2024-06-22 10:30:00</td>\n",
       "      <td>Qualifying</td>\n",
       "      <td>2024-06-22 16:00:00+02:00</td>\n",
       "      <td>2024-06-22 14:00:00</td>\n",
       "      <td>Race</td>\n",
       "      <td>2024-06-23 15:00:00+02:00</td>\n",
       "      <td>2024-06-23 13:00:00</td>\n",
       "      <td>True</td>\n",
       "    </tr>\n",
       "    <tr>\n",
       "      <th>8</th>\n",
       "      <td>12</td>\n",
       "      <td>United Kingdom</td>\n",
       "      <td>Silverstone</td>\n",
       "      <td>FORMULA 1 QATAR AIRWAYS BRITISH GRAND PRIX 2024</td>\n",
       "      <td>2024-07-07</td>\n",
       "      <td>British Grand Prix</td>\n",
       "      <td>conventional</td>\n",
       "      <td>Practice 1</td>\n",
       "      <td>2024-07-05 12:30:00+01:00</td>\n",
       "      <td>2024-07-05 11:30:00</td>\n",
       "      <td>...</td>\n",
       "      <td>Practice 3</td>\n",
       "      <td>2024-07-06 11:30:00+01:00</td>\n",
       "      <td>2024-07-06 10:30:00</td>\n",
       "      <td>Qualifying</td>\n",
       "      <td>2024-07-06 15:00:00+01:00</td>\n",
       "      <td>2024-07-06 14:00:00</td>\n",
       "      <td>Race</td>\n",
       "      <td>2024-07-07 15:00:00+01:00</td>\n",
       "      <td>2024-07-07 14:00:00</td>\n",
       "      <td>True</td>\n",
       "    </tr>\n",
       "    <tr>\n",
       "      <th>9</th>\n",
       "      <td>13</td>\n",
       "      <td>Hungary</td>\n",
       "      <td>Budapest</td>\n",
       "      <td>FORMULA 1 HUNGARIAN GRAND PRIX 2024</td>\n",
       "      <td>2024-07-21</td>\n",
       "      <td>Hungarian Grand Prix</td>\n",
       "      <td>conventional</td>\n",
       "      <td>Practice 1</td>\n",
       "      <td>2024-07-19 13:30:00+02:00</td>\n",
       "      <td>2024-07-19 11:30:00</td>\n",
       "      <td>...</td>\n",
       "      <td>Practice 3</td>\n",
       "      <td>2024-07-20 12:30:00+02:00</td>\n",
       "      <td>2024-07-20 10:30:00</td>\n",
       "      <td>Qualifying</td>\n",
       "      <td>2024-07-20 16:00:00+02:00</td>\n",
       "      <td>2024-07-20 14:00:00</td>\n",
       "      <td>Race</td>\n",
       "      <td>2024-07-21 15:00:00+02:00</td>\n",
       "      <td>2024-07-21 13:00:00</td>\n",
       "      <td>True</td>\n",
       "    </tr>\n",
       "    <tr>\n",
       "      <th>10</th>\n",
       "      <td>14</td>\n",
       "      <td>Belgium</td>\n",
       "      <td>Spa-Francorchamps</td>\n",
       "      <td>FORMULA 1 ROLEX BELGIAN GRAND PRIX 2024</td>\n",
       "      <td>2024-07-28</td>\n",
       "      <td>Belgian Grand Prix</td>\n",
       "      <td>conventional</td>\n",
       "      <td>Practice 1</td>\n",
       "      <td>2024-07-26 13:30:00+02:00</td>\n",
       "      <td>2024-07-26 11:30:00</td>\n",
       "      <td>...</td>\n",
       "      <td>Practice 3</td>\n",
       "      <td>2024-07-27 12:30:00+02:00</td>\n",
       "      <td>2024-07-27 10:30:00</td>\n",
       "      <td>Qualifying</td>\n",
       "      <td>2024-07-27 16:00:00+02:00</td>\n",
       "      <td>2024-07-27 14:00:00</td>\n",
       "      <td>Race</td>\n",
       "      <td>2024-07-28 15:00:00+02:00</td>\n",
       "      <td>2024-07-28 13:00:00</td>\n",
       "      <td>True</td>\n",
       "    </tr>\n",
       "    <tr>\n",
       "      <th>11</th>\n",
       "      <td>15</td>\n",
       "      <td>Netherlands</td>\n",
       "      <td>Zandvoort</td>\n",
       "      <td>FORMULA 1 HEINEKEN DUTCH GRAND PRIX 2024</td>\n",
       "      <td>2024-08-25</td>\n",
       "      <td>Dutch Grand Prix</td>\n",
       "      <td>conventional</td>\n",
       "      <td>Practice 1</td>\n",
       "      <td>2024-08-23 12:30:00+02:00</td>\n",
       "      <td>2024-08-23 10:30:00</td>\n",
       "      <td>...</td>\n",
       "      <td>Practice 3</td>\n",
       "      <td>2024-08-24 11:30:00+02:00</td>\n",
       "      <td>2024-08-24 09:30:00</td>\n",
       "      <td>Qualifying</td>\n",
       "      <td>2024-08-24 15:00:00+02:00</td>\n",
       "      <td>2024-08-24 13:00:00</td>\n",
       "      <td>Race</td>\n",
       "      <td>2024-08-25 15:00:00+02:00</td>\n",
       "      <td>2024-08-25 13:00:00</td>\n",
       "      <td>True</td>\n",
       "    </tr>\n",
       "    <tr>\n",
       "      <th>12</th>\n",
       "      <td>16</td>\n",
       "      <td>Italy</td>\n",
       "      <td>Monza</td>\n",
       "      <td>FORMULA 1 PIRELLI GRAN PREMIO D’ITALIA 2024</td>\n",
       "      <td>2024-09-01</td>\n",
       "      <td>Italian Grand Prix</td>\n",
       "      <td>conventional</td>\n",
       "      <td>Practice 1</td>\n",
       "      <td>2024-08-30 13:30:00+02:00</td>\n",
       "      <td>2024-08-30 11:30:00</td>\n",
       "      <td>...</td>\n",
       "      <td>Practice 3</td>\n",
       "      <td>2024-08-31 12:30:00+02:00</td>\n",
       "      <td>2024-08-31 10:30:00</td>\n",
       "      <td>Qualifying</td>\n",
       "      <td>2024-08-31 16:00:00+02:00</td>\n",
       "      <td>2024-08-31 14:00:00</td>\n",
       "      <td>Race</td>\n",
       "      <td>2024-09-01 15:00:00+02:00</td>\n",
       "      <td>2024-09-01 13:00:00</td>\n",
       "      <td>True</td>\n",
       "    </tr>\n",
       "    <tr>\n",
       "      <th>13</th>\n",
       "      <td>17</td>\n",
       "      <td>Azerbaijan</td>\n",
       "      <td>Baku</td>\n",
       "      <td>FORMULA 1 QATAR AIRWAYS AZERBAIJAN GRAND PRIX ...</td>\n",
       "      <td>2024-09-15</td>\n",
       "      <td>Azerbaijan Grand Prix</td>\n",
       "      <td>conventional</td>\n",
       "      <td>Practice 1</td>\n",
       "      <td>2024-09-13 13:30:00+04:00</td>\n",
       "      <td>2024-09-13 09:30:00</td>\n",
       "      <td>...</td>\n",
       "      <td>Practice 3</td>\n",
       "      <td>2024-09-14 12:30:00+04:00</td>\n",
       "      <td>2024-09-14 08:30:00</td>\n",
       "      <td>Qualifying</td>\n",
       "      <td>2024-09-14 16:00:00+04:00</td>\n",
       "      <td>2024-09-14 12:00:00</td>\n",
       "      <td>Race</td>\n",
       "      <td>2024-09-15 15:00:00+04:00</td>\n",
       "      <td>2024-09-15 11:00:00</td>\n",
       "      <td>True</td>\n",
       "    </tr>\n",
       "    <tr>\n",
       "      <th>14</th>\n",
       "      <td>18</td>\n",
       "      <td>Singapore</td>\n",
       "      <td>Marina Bay</td>\n",
       "      <td>FORMULA 1 SINGAPORE AIRLINES SINGAPORE GRAND P...</td>\n",
       "      <td>2024-09-22</td>\n",
       "      <td>Singapore Grand Prix</td>\n",
       "      <td>conventional</td>\n",
       "      <td>Practice 1</td>\n",
       "      <td>2024-09-20 17:30:00+08:00</td>\n",
       "      <td>2024-09-20 09:30:00</td>\n",
       "      <td>...</td>\n",
       "      <td>Practice 3</td>\n",
       "      <td>2024-09-21 17:30:00+08:00</td>\n",
       "      <td>2024-09-21 09:30:00</td>\n",
       "      <td>Qualifying</td>\n",
       "      <td>2024-09-21 21:00:00+08:00</td>\n",
       "      <td>2024-09-21 13:00:00</td>\n",
       "      <td>Race</td>\n",
       "      <td>2024-09-22 20:00:00+08:00</td>\n",
       "      <td>2024-09-22 12:00:00</td>\n",
       "      <td>True</td>\n",
       "    </tr>\n",
       "    <tr>\n",
       "      <th>15</th>\n",
       "      <td>20</td>\n",
       "      <td>Mexico</td>\n",
       "      <td>Mexico City</td>\n",
       "      <td>FORMULA 1 GRAN PREMIO DE LA CIUDAD DE MÉXICO 2024</td>\n",
       "      <td>2024-10-27</td>\n",
       "      <td>Mexico City Grand Prix</td>\n",
       "      <td>conventional</td>\n",
       "      <td>Practice 1</td>\n",
       "      <td>2024-10-25 12:30:00-06:00</td>\n",
       "      <td>2024-10-25 18:30:00</td>\n",
       "      <td>...</td>\n",
       "      <td>Practice 3</td>\n",
       "      <td>2024-10-26 11:30:00-06:00</td>\n",
       "      <td>2024-10-26 17:30:00</td>\n",
       "      <td>Qualifying</td>\n",
       "      <td>2024-10-26 15:00:00-06:00</td>\n",
       "      <td>2024-10-26 21:00:00</td>\n",
       "      <td>Race</td>\n",
       "      <td>2024-10-27 14:00:00-06:00</td>\n",
       "      <td>2024-10-27 20:00:00</td>\n",
       "      <td>True</td>\n",
       "    </tr>\n",
       "    <tr>\n",
       "      <th>16</th>\n",
       "      <td>22</td>\n",
       "      <td>United States</td>\n",
       "      <td>Las Vegas</td>\n",
       "      <td>FORMULA 1 HEINEKEN SILVER LAS VEGAS GRAND PRIX...</td>\n",
       "      <td>2024-11-23</td>\n",
       "      <td>Las Vegas Grand Prix</td>\n",
       "      <td>conventional</td>\n",
       "      <td>Practice 1</td>\n",
       "      <td>2024-11-21 18:30:00-08:00</td>\n",
       "      <td>2024-11-22 02:30:00</td>\n",
       "      <td>...</td>\n",
       "      <td>Practice 3</td>\n",
       "      <td>2024-11-22 18:30:00-08:00</td>\n",
       "      <td>2024-11-23 02:30:00</td>\n",
       "      <td>Qualifying</td>\n",
       "      <td>2024-11-22 22:00:00-08:00</td>\n",
       "      <td>2024-11-23 06:00:00</td>\n",
       "      <td>Race</td>\n",
       "      <td>2024-11-23 22:00:00-08:00</td>\n",
       "      <td>2024-11-24 06:00:00</td>\n",
       "      <td>True</td>\n",
       "    </tr>\n",
       "    <tr>\n",
       "      <th>17</th>\n",
       "      <td>24</td>\n",
       "      <td>United Arab Emirates</td>\n",
       "      <td>Yas Island</td>\n",
       "      <td>FORMULA 1 ETIHAD AIRWAYS ABU DHABI GRAND PRIX ...</td>\n",
       "      <td>2024-12-08</td>\n",
       "      <td>Abu Dhabi Grand Prix</td>\n",
       "      <td>conventional</td>\n",
       "      <td>Practice 1</td>\n",
       "      <td>2024-12-06 13:30:00+04:00</td>\n",
       "      <td>2024-12-06 09:30:00</td>\n",
       "      <td>...</td>\n",
       "      <td>Practice 3</td>\n",
       "      <td>2024-12-07 14:30:00+04:00</td>\n",
       "      <td>2024-12-07 10:30:00</td>\n",
       "      <td>Qualifying</td>\n",
       "      <td>2024-12-07 18:00:00+04:00</td>\n",
       "      <td>2024-12-07 14:00:00</td>\n",
       "      <td>Race</td>\n",
       "      <td>2024-12-08 17:00:00+04:00</td>\n",
       "      <td>2024-12-08 13:00:00</td>\n",
       "      <td>True</td>\n",
       "    </tr>\n",
       "  </tbody>\n",
       "</table>\n",
       "<p>18 rows × 23 columns</p>\n",
       "</div>"
      ],
      "text/plain": [
       "    RoundNumber               Country           Location  \\\n",
       "0             1               Bahrain             Sakhir   \n",
       "1             2          Saudi Arabia             Jeddah   \n",
       "2             3             Australia          Melbourne   \n",
       "3             4                 Japan             Suzuka   \n",
       "4             7                 Italy              Imola   \n",
       "5             8                Monaco             Monaco   \n",
       "6             9                Canada           Montréal   \n",
       "7            10                 Spain          Barcelona   \n",
       "8            12        United Kingdom        Silverstone   \n",
       "9            13               Hungary           Budapest   \n",
       "10           14               Belgium  Spa-Francorchamps   \n",
       "11           15           Netherlands          Zandvoort   \n",
       "12           16                 Italy              Monza   \n",
       "13           17            Azerbaijan               Baku   \n",
       "14           18             Singapore         Marina Bay   \n",
       "15           20                Mexico        Mexico City   \n",
       "16           22         United States          Las Vegas   \n",
       "17           24  United Arab Emirates         Yas Island   \n",
       "\n",
       "                                    OfficialEventName  EventDate  \\\n",
       "0          FORMULA 1 GULF AIR BAHRAIN GRAND PRIX 2024 2024-03-02   \n",
       "1         FORMULA 1 STC SAUDI ARABIAN GRAND PRIX 2024 2024-03-09   \n",
       "2          FORMULA 1 ROLEX AUSTRALIAN GRAND PRIX 2024 2024-03-24   \n",
       "3      FORMULA 1 MSC CRUISES JAPANESE GRAND PRIX 2024 2024-04-07   \n",
       "4   FORMULA 1 MSC CRUISES GRAN PREMIO DEL MADE IN ... 2024-05-19   \n",
       "5                 FORMULA 1 GRAND PRIX DE MONACO 2024 2024-05-26   \n",
       "6             FORMULA 1 AWS GRAND PRIX DU CANADA 2024 2024-06-09   \n",
       "7         FORMULA 1 ARAMCO GRAN PREMIO DE ESPAÑA 2024 2024-06-23   \n",
       "8     FORMULA 1 QATAR AIRWAYS BRITISH GRAND PRIX 2024 2024-07-07   \n",
       "9                 FORMULA 1 HUNGARIAN GRAND PRIX 2024 2024-07-21   \n",
       "10            FORMULA 1 ROLEX BELGIAN GRAND PRIX 2024 2024-07-28   \n",
       "11           FORMULA 1 HEINEKEN DUTCH GRAND PRIX 2024 2024-08-25   \n",
       "12        FORMULA 1 PIRELLI GRAN PREMIO D’ITALIA 2024 2024-09-01   \n",
       "13  FORMULA 1 QATAR AIRWAYS AZERBAIJAN GRAND PRIX ... 2024-09-15   \n",
       "14  FORMULA 1 SINGAPORE AIRLINES SINGAPORE GRAND P... 2024-09-22   \n",
       "15  FORMULA 1 GRAN PREMIO DE LA CIUDAD DE MÉXICO 2024 2024-10-27   \n",
       "16  FORMULA 1 HEINEKEN SILVER LAS VEGAS GRAND PRIX... 2024-11-23   \n",
       "17  FORMULA 1 ETIHAD AIRWAYS ABU DHABI GRAND PRIX ... 2024-12-08   \n",
       "\n",
       "                    EventName   EventFormat    Session1  \\\n",
       "0          Bahrain Grand Prix  conventional  Practice 1   \n",
       "1    Saudi Arabian Grand Prix  conventional  Practice 1   \n",
       "2       Australian Grand Prix  conventional  Practice 1   \n",
       "3         Japanese Grand Prix  conventional  Practice 1   \n",
       "4   Emilia Romagna Grand Prix  conventional  Practice 1   \n",
       "5           Monaco Grand Prix  conventional  Practice 1   \n",
       "6         Canadian Grand Prix  conventional  Practice 1   \n",
       "7          Spanish Grand Prix  conventional  Practice 1   \n",
       "8          British Grand Prix  conventional  Practice 1   \n",
       "9        Hungarian Grand Prix  conventional  Practice 1   \n",
       "10         Belgian Grand Prix  conventional  Practice 1   \n",
       "11           Dutch Grand Prix  conventional  Practice 1   \n",
       "12         Italian Grand Prix  conventional  Practice 1   \n",
       "13      Azerbaijan Grand Prix  conventional  Practice 1   \n",
       "14       Singapore Grand Prix  conventional  Practice 1   \n",
       "15     Mexico City Grand Prix  conventional  Practice 1   \n",
       "16       Las Vegas Grand Prix  conventional  Practice 1   \n",
       "17       Abu Dhabi Grand Prix  conventional  Practice 1   \n",
       "\n",
       "                 Session1Date     Session1DateUtc  ...    Session3  \\\n",
       "0   2024-02-29 14:30:00+03:00 2024-02-29 11:30:00  ...  Practice 3   \n",
       "1   2024-03-07 16:30:00+03:00 2024-03-07 13:30:00  ...  Practice 3   \n",
       "2   2024-03-22 12:30:00+11:00 2024-03-22 01:30:00  ...  Practice 3   \n",
       "3   2024-04-05 11:30:00+09:00 2024-04-05 02:30:00  ...  Practice 3   \n",
       "4   2024-05-17 13:30:00+02:00 2024-05-17 11:30:00  ...  Practice 3   \n",
       "5   2024-05-24 13:30:00+02:00 2024-05-24 11:30:00  ...  Practice 3   \n",
       "6   2024-06-07 13:30:00-04:00 2024-06-07 17:30:00  ...  Practice 3   \n",
       "7   2024-06-21 13:30:00+02:00 2024-06-21 11:30:00  ...  Practice 3   \n",
       "8   2024-07-05 12:30:00+01:00 2024-07-05 11:30:00  ...  Practice 3   \n",
       "9   2024-07-19 13:30:00+02:00 2024-07-19 11:30:00  ...  Practice 3   \n",
       "10  2024-07-26 13:30:00+02:00 2024-07-26 11:30:00  ...  Practice 3   \n",
       "11  2024-08-23 12:30:00+02:00 2024-08-23 10:30:00  ...  Practice 3   \n",
       "12  2024-08-30 13:30:00+02:00 2024-08-30 11:30:00  ...  Practice 3   \n",
       "13  2024-09-13 13:30:00+04:00 2024-09-13 09:30:00  ...  Practice 3   \n",
       "14  2024-09-20 17:30:00+08:00 2024-09-20 09:30:00  ...  Practice 3   \n",
       "15  2024-10-25 12:30:00-06:00 2024-10-25 18:30:00  ...  Practice 3   \n",
       "16  2024-11-21 18:30:00-08:00 2024-11-22 02:30:00  ...  Practice 3   \n",
       "17  2024-12-06 13:30:00+04:00 2024-12-06 09:30:00  ...  Practice 3   \n",
       "\n",
       "                 Session3Date     Session3DateUtc    Session4  \\\n",
       "0   2024-03-01 15:30:00+03:00 2024-03-01 12:30:00  Qualifying   \n",
       "1   2024-03-08 16:30:00+03:00 2024-03-08 13:30:00  Qualifying   \n",
       "2   2024-03-23 12:30:00+11:00 2024-03-23 01:30:00  Qualifying   \n",
       "3   2024-04-06 11:30:00+09:00 2024-04-06 02:30:00  Qualifying   \n",
       "4   2024-05-18 12:30:00+02:00 2024-05-18 10:30:00  Qualifying   \n",
       "5   2024-05-25 12:30:00+02:00 2024-05-25 10:30:00  Qualifying   \n",
       "6   2024-06-08 12:30:00-04:00 2024-06-08 16:30:00  Qualifying   \n",
       "7   2024-06-22 12:30:00+02:00 2024-06-22 10:30:00  Qualifying   \n",
       "8   2024-07-06 11:30:00+01:00 2024-07-06 10:30:00  Qualifying   \n",
       "9   2024-07-20 12:30:00+02:00 2024-07-20 10:30:00  Qualifying   \n",
       "10  2024-07-27 12:30:00+02:00 2024-07-27 10:30:00  Qualifying   \n",
       "11  2024-08-24 11:30:00+02:00 2024-08-24 09:30:00  Qualifying   \n",
       "12  2024-08-31 12:30:00+02:00 2024-08-31 10:30:00  Qualifying   \n",
       "13  2024-09-14 12:30:00+04:00 2024-09-14 08:30:00  Qualifying   \n",
       "14  2024-09-21 17:30:00+08:00 2024-09-21 09:30:00  Qualifying   \n",
       "15  2024-10-26 11:30:00-06:00 2024-10-26 17:30:00  Qualifying   \n",
       "16  2024-11-22 18:30:00-08:00 2024-11-23 02:30:00  Qualifying   \n",
       "17  2024-12-07 14:30:00+04:00 2024-12-07 10:30:00  Qualifying   \n",
       "\n",
       "                 Session4Date     Session4DateUtc Session5  \\\n",
       "0   2024-03-01 19:00:00+03:00 2024-03-01 16:00:00     Race   \n",
       "1   2024-03-08 20:00:00+03:00 2024-03-08 17:00:00     Race   \n",
       "2   2024-03-23 16:00:00+11:00 2024-03-23 05:00:00     Race   \n",
       "3   2024-04-06 15:00:00+09:00 2024-04-06 06:00:00     Race   \n",
       "4   2024-05-18 16:00:00+02:00 2024-05-18 14:00:00     Race   \n",
       "5   2024-05-25 16:00:00+02:00 2024-05-25 14:00:00     Race   \n",
       "6   2024-06-08 16:00:00-04:00 2024-06-08 20:00:00     Race   \n",
       "7   2024-06-22 16:00:00+02:00 2024-06-22 14:00:00     Race   \n",
       "8   2024-07-06 15:00:00+01:00 2024-07-06 14:00:00     Race   \n",
       "9   2024-07-20 16:00:00+02:00 2024-07-20 14:00:00     Race   \n",
       "10  2024-07-27 16:00:00+02:00 2024-07-27 14:00:00     Race   \n",
       "11  2024-08-24 15:00:00+02:00 2024-08-24 13:00:00     Race   \n",
       "12  2024-08-31 16:00:00+02:00 2024-08-31 14:00:00     Race   \n",
       "13  2024-09-14 16:00:00+04:00 2024-09-14 12:00:00     Race   \n",
       "14  2024-09-21 21:00:00+08:00 2024-09-21 13:00:00     Race   \n",
       "15  2024-10-26 15:00:00-06:00 2024-10-26 21:00:00     Race   \n",
       "16  2024-11-22 22:00:00-08:00 2024-11-23 06:00:00     Race   \n",
       "17  2024-12-07 18:00:00+04:00 2024-12-07 14:00:00     Race   \n",
       "\n",
       "                 Session5Date     Session5DateUtc F1ApiSupport  \n",
       "0   2024-03-02 18:00:00+03:00 2024-03-02 15:00:00         True  \n",
       "1   2024-03-09 20:00:00+03:00 2024-03-09 17:00:00         True  \n",
       "2   2024-03-24 15:00:00+11:00 2024-03-24 04:00:00         True  \n",
       "3   2024-04-07 14:00:00+09:00 2024-04-07 05:00:00         True  \n",
       "4   2024-05-19 15:00:00+02:00 2024-05-19 13:00:00         True  \n",
       "5   2024-05-26 15:00:00+02:00 2024-05-26 13:00:00         True  \n",
       "6   2024-06-09 14:00:00-04:00 2024-06-09 18:00:00         True  \n",
       "7   2024-06-23 15:00:00+02:00 2024-06-23 13:00:00         True  \n",
       "8   2024-07-07 15:00:00+01:00 2024-07-07 14:00:00         True  \n",
       "9   2024-07-21 15:00:00+02:00 2024-07-21 13:00:00         True  \n",
       "10  2024-07-28 15:00:00+02:00 2024-07-28 13:00:00         True  \n",
       "11  2024-08-25 15:00:00+02:00 2024-08-25 13:00:00         True  \n",
       "12  2024-09-01 15:00:00+02:00 2024-09-01 13:00:00         True  \n",
       "13  2024-09-15 15:00:00+04:00 2024-09-15 11:00:00         True  \n",
       "14  2024-09-22 20:00:00+08:00 2024-09-22 12:00:00         True  \n",
       "15  2024-10-27 14:00:00-06:00 2024-10-27 20:00:00         True  \n",
       "16  2024-11-23 22:00:00-08:00 2024-11-24 06:00:00         True  \n",
       "17  2024-12-08 17:00:00+04:00 2024-12-08 13:00:00         True  \n",
       "\n",
       "[18 rows x 23 columns]"
      ]
     },
     "execution_count": 2,
     "metadata": {},
     "output_type": "execute_result"
    }
   ],
   "source": [
    "schedule = fastf1.get_event_schedule(year)\n",
    "schedule = schedule[schedule['EventFormat'] == 'conventional']\n",
    "schedule.reset_index(drop=True)"
   ]
  },
  {
   "cell_type": "code",
   "execution_count": 3,
   "metadata": {},
   "outputs": [],
   "source": [
    "import os\n",
    "def season_history(year):\n",
    "    if os.path.exists(f'{year}/quali_history.csv'):\n",
    "        return pd.read_csv(f'{year}/quali_history.csv', index_col=0)\n",
    "    # Get the event schedule for the season\n",
    "    schedule = fastf1.get_event_schedule(year)\n",
    "\n",
    "    # Initialize an empty dictionary to store qualifying results\n",
    "    qualifying_data = {}\n",
    "\n",
    "    # Loop through each race in the schedule\n",
    "    for round_number in schedule['RoundNumber'][1:-1]:\n",
    "        try:\n",
    "            # Load qualifying session data for the race\n",
    "            event = schedule[schedule['RoundNumber'] == round_number]\n",
    "            grand_prix = event['EventName'].iloc[0]\n",
    "            session = fastf1.get_session(year, grand_prix, 'Q')\n",
    "            session.load()\n",
    "\n",
    "            # Extract qualifying results\n",
    "            results = session.results[['Abbreviation', 'Position']]\n",
    "\n",
    "            # Add the round number as a column to the results\n",
    "            results.rename(columns={'Position': f'Round {round_number}'}, inplace=True)\n",
    "            results.set_index('Abbreviation', inplace=True)\n",
    "\n",
    "            # Merge the results into the qualifying_data dictionary\n",
    "            qualifying_data[round_number] = results[f'Round {round_number}']\n",
    "\n",
    "        except Exception as e:\n",
    "            print(f\"Could not process Round {round_number}: {e}\")\n",
    "\n",
    "    # Combine all rounds into a single DataFrame\n",
    "    qualifying_df = pd.concat(qualifying_data, axis=1)\n",
    "\n",
    "    # Sort the DataFrame by driver abbreviation\n",
    "    qualifying_df = qualifying_df.sort_index()\n",
    "\n",
    "    # Save the DataFrame to a CSV file\n",
    "    qualifying_df.to_csv(f'{year}/quali_history.csv')\n",
    "    return qualifying_df\n",
    "\n",
    "qualifying_history = season_history(year)"
   ]
  },
  {
   "cell_type": "code",
   "execution_count": 4,
   "metadata": {},
   "outputs": [
    {
     "name": "stderr",
     "output_type": "stream",
     "text": [
      "core           INFO \tLoading data for Bahrain Grand Prix - Qualifying [v3.4.4]\n",
      "req            INFO \tUsing cached data for session_info\n",
      "req            INFO \tUsing cached data for driver_info\n",
      "req            INFO \tUsing cached data for session_status_data\n",
      "req            INFO \tUsing cached data for track_status_data\n",
      "req            INFO \tUsing cached data for _extended_timing_data\n",
      "req            INFO \tUsing cached data for timing_app_data\n",
      "core           INFO \tProcessing timing data...\n",
      "req            INFO \tUsing cached data for car_data\n",
      "req            INFO \tUsing cached data for position_data\n",
      "req            INFO \tUsing cached data for weather_data\n",
      "req            INFO \tUsing cached data for race_control_messages\n",
      "core           INFO \tFinished loading data for 20 drivers: ['33', '44', '77', '16', '10', '3', '4', '55', '14', '18', '11', '99', '22', '7', '63', '31', '6', '5', '47', '9']\n",
      "core           INFO \tLoading data for Bahrain Grand Prix - Qualifying [v3.4.4]\n",
      "req            INFO \tUsing cached data for session_info\n",
      "req            INFO \tUsing cached data for driver_info\n",
      "req            INFO \tUsing cached data for session_status_data\n",
      "req            INFO \tUsing cached data for track_status_data\n",
      "req            INFO \tUsing cached data for _extended_timing_data\n",
      "req            INFO \tUsing cached data for timing_app_data\n",
      "core           INFO \tProcessing timing data...\n",
      "req            INFO \tUsing cached data for car_data\n",
      "req            INFO \tUsing cached data for position_data\n",
      "req            INFO \tUsing cached data for weather_data\n",
      "req            INFO \tUsing cached data for race_control_messages\n",
      "core           INFO \tFinished loading data for 20 drivers: ['16', '1', '55', '11', '44', '77', '20', '14', '63', '10', '31', '47', '4', '23', '24', '22', '27', '3', '18', '6']\n",
      "core           INFO \tLoading data for Bahrain Grand Prix - Qualifying [v3.4.4]\n",
      "req            INFO \tUsing cached data for session_info\n",
      "req            INFO \tUsing cached data for driver_info\n",
      "req            INFO \tUsing cached data for session_status_data\n",
      "req            INFO \tUsing cached data for track_status_data\n",
      "req            INFO \tUsing cached data for _extended_timing_data\n",
      "req            INFO \tUsing cached data for timing_app_data\n",
      "core           INFO \tProcessing timing data...\n",
      "req            INFO \tUsing cached data for car_data\n",
      "req            INFO \tUsing cached data for position_data\n",
      "req            INFO \tUsing cached data for weather_data\n",
      "req            INFO \tUsing cached data for race_control_messages\n",
      "core           INFO \tFinished loading data for 20 drivers: ['1', '11', '16', '55', '14', '63', '44', '18', '31', '27', '4', '77', '24', '22', '23', '2', '20', '81', '21', '10']\n",
      "core           INFO \tLoading data for Saudi Arabian Grand Prix - Qualifying [v3.4.4]\n",
      "req            INFO \tUsing cached data for session_info\n",
      "req            INFO \tUsing cached data for driver_info\n",
      "req            INFO \tUsing cached data for session_status_data\n",
      "req            INFO \tUsing cached data for track_status_data\n",
      "req            INFO \tUsing cached data for _extended_timing_data\n",
      "req            INFO \tUsing cached data for timing_app_data\n",
      "core           INFO \tProcessing timing data...\n",
      "req            INFO \tUsing cached data for car_data\n",
      "req            INFO \tUsing cached data for position_data\n",
      "req            INFO \tUsing cached data for weather_data\n",
      "req            INFO \tUsing cached data for race_control_messages\n",
      "core           INFO \tFinished loading data for 20 drivers: ['44', '77', '33', '16', '11', '10', '4', '22', '31', '99', '3', '7', '14', '63', '55', '6', '5', '18', '47', '9']\n",
      "core           INFO \tLoading data for Saudi Arabian Grand Prix - Qualifying [v3.4.4]\n",
      "req            INFO \tUsing cached data for session_info\n",
      "req            INFO \tUsing cached data for driver_info\n",
      "req            INFO \tUsing cached data for session_status_data\n",
      "req            INFO \tUsing cached data for track_status_data\n",
      "req            INFO \tUsing cached data for _extended_timing_data\n",
      "req            INFO \tUsing cached data for timing_app_data\n",
      "core           INFO \tProcessing timing data...\n",
      "core        WARNING \tDriver 55: Lap timing integrity check failed for 1 lap(s)\n",
      "core        WARNING \tDriver 18: Lap timing integrity check failed for 1 lap(s)\n",
      "req            INFO \tUsing cached data for car_data\n",
      "req            INFO \tUsing cached data for position_data\n",
      "req            INFO \tUsing cached data for weather_data\n",
      "req            INFO \tUsing cached data for race_control_messages\n",
      "core           INFO \tFinished loading data for 20 drivers: ['11', '16', '55', '1', '31', '63', '14', '77', '10', '20', '4', '3', '24', '47', '18', '44', '23', '27', '6', '22']\n",
      "core           INFO \tLoading data for Saudi Arabian Grand Prix - Qualifying [v3.4.4]\n",
      "req            INFO \tUsing cached data for session_info\n",
      "req            INFO \tUsing cached data for driver_info\n",
      "req            INFO \tUsing cached data for session_status_data\n",
      "req            INFO \tUsing cached data for track_status_data\n",
      "req            INFO \tUsing cached data for _extended_timing_data\n",
      "req            INFO \tUsing cached data for timing_app_data\n",
      "core           INFO \tProcessing timing data...\n",
      "req            INFO \tUsing cached data for car_data\n",
      "req            INFO \tUsing cached data for position_data\n",
      "req            INFO \tUsing cached data for weather_data\n",
      "req            INFO \tUsing cached data for race_control_messages\n",
      "core           INFO \tFinished loading data for 20 drivers: ['11', '16', '14', '63', '55', '18', '31', '44', '81', '10', '27', '24', '20', '77', '1', '22', '23', '21', '4', '2']\n",
      "events      WARNING \tCorrecting user input 'Australian Grand Prix' to 'Austrian Grand Prix'\n",
      "core           INFO \tLoading data for Austrian Grand Prix - Qualifying [v3.4.4]\n",
      "req            INFO \tUsing cached data for session_info\n",
      "req            INFO \tUsing cached data for driver_info\n",
      "req            INFO \tUsing cached data for session_status_data\n",
      "req            INFO \tUsing cached data for track_status_data\n",
      "req            INFO \tUsing cached data for _extended_timing_data\n",
      "req            INFO \tUsing cached data for timing_app_data\n",
      "core           INFO \tProcessing timing data...\n",
      "req            INFO \tUsing cached data for car_data\n",
      "req            INFO \tUsing cached data for position_data\n",
      "req            INFO \tUsing cached data for weather_data\n",
      "req            INFO \tUsing cached data for race_control_messages\n",
      "core           INFO \tFinished loading data for 20 drivers: ['33', '4', '11', '44', '77', '10', '22', '5', '63', '18', '55', '16', '3', '14', '99', '7', '31', '6', '47', '9']\n",
      "core           INFO \tLoading data for Australian Grand Prix - Qualifying [v3.4.4]\n",
      "req            INFO \tUsing cached data for session_info\n",
      "req            INFO \tUsing cached data for driver_info\n",
      "req            INFO \tUsing cached data for session_status_data\n",
      "req            INFO \tUsing cached data for track_status_data\n",
      "req            INFO \tUsing cached data for _extended_timing_data\n",
      "req            INFO \tUsing cached data for timing_app_data\n",
      "core           INFO \tProcessing timing data...\n",
      "req            INFO \tUsing cached data for car_data\n",
      "req            INFO \tUsing cached data for position_data\n",
      "req            INFO \tUsing cached data for weather_data\n",
      "req            INFO \tUsing cached data for race_control_messages\n",
      "core           INFO \tFinished loading data for 20 drivers: ['16', '1', '11', '4', '44', '63', '3', '31', '55', '14', '10', '77', '22', '24', '47', '23', '20', '5', '6', '18']\n",
      "core           INFO \tLoading data for Australian Grand Prix - Qualifying [v3.4.4]\n",
      "req            INFO \tUsing cached data for session_info\n",
      "req            INFO \tUsing cached data for driver_info\n",
      "req            INFO \tUsing cached data for session_status_data\n",
      "req            INFO \tUsing cached data for track_status_data\n",
      "req            INFO \tUsing cached data for _extended_timing_data\n",
      "req            INFO \tUsing cached data for timing_app_data\n",
      "core           INFO \tProcessing timing data...\n",
      "req            INFO \tUsing cached data for car_data\n",
      "req            INFO \tUsing cached data for position_data\n",
      "req            INFO \tUsing cached data for weather_data\n",
      "req            INFO \tUsing cached data for race_control_messages\n",
      "core           INFO \tFinished loading data for 20 drivers: ['1', '63', '44', '14', '55', '18', '16', '23', '10', '27', '31', '22', '4', '20', '21', '81', '24', '2', '77', '11']\n",
      "events      WARNING \tCorrecting user input 'Japanese Grand Prix' to 'Spanish Grand Prix'\n",
      "core           INFO \tLoading data for Spanish Grand Prix - Qualifying [v3.4.4]\n",
      "req            INFO \tUsing cached data for session_info\n",
      "req            INFO \tUsing cached data for driver_info\n",
      "req            INFO \tUsing cached data for session_status_data\n",
      "req            INFO \tUsing cached data for track_status_data\n",
      "req            INFO \tUsing cached data for _extended_timing_data\n",
      "req            INFO \tUsing cached data for timing_app_data\n",
      "core           INFO \tProcessing timing data...\n",
      "req            INFO \tUsing cached data for car_data\n",
      "req            INFO \tUsing cached data for position_data\n",
      "req            INFO \tUsing cached data for weather_data\n",
      "req            INFO \tUsing cached data for race_control_messages\n",
      "core           INFO \tFinished loading data for 20 drivers: ['44', '33', '77', '16', '31', '55', '3', '11', '4', '14', '18', '10', '5', '99', '63', '22', '7', '47', '6', '9']\n",
      "core           INFO \tLoading data for Japanese Grand Prix - Qualifying [v3.4.4]\n",
      "req            INFO \tUsing cached data for session_info\n",
      "req            INFO \tUsing cached data for driver_info\n",
      "req            INFO \tUsing cached data for session_status_data\n",
      "req            INFO \tUsing cached data for track_status_data\n",
      "req            INFO \tUsing cached data for _extended_timing_data\n",
      "req            INFO \tUsing cached data for timing_app_data\n",
      "core           INFO \tProcessing timing data...\n",
      "req            INFO \tUsing cached data for car_data\n",
      "req            INFO \tUsing cached data for position_data\n",
      "req            INFO \tUsing cached data for weather_data\n",
      "req            INFO \tUsing cached data for race_control_messages\n",
      "core           INFO \tFinished loading data for 20 drivers: ['1', '16', '55', '11', '31', '44', '14', '63', '5', '4', '3', '77', '22', '24', '47', '23', '10', '20', '18', '6']\n",
      "core           INFO \tLoading data for Japanese Grand Prix - Qualifying [v3.4.4]\n",
      "req            INFO \tUsing cached data for session_info\n",
      "req            INFO \tUsing cached data for driver_info\n",
      "req            INFO \tUsing cached data for session_status_data\n",
      "req            INFO \tUsing cached data for track_status_data\n",
      "req            INFO \tUsing cached data for _extended_timing_data\n",
      "req            INFO \tUsing cached data for timing_app_data\n",
      "core           INFO \tProcessing timing data...\n",
      "req            INFO \tUsing cached data for car_data\n",
      "req            INFO \tUsing cached data for position_data\n",
      "req            INFO \tUsing cached data for weather_data\n",
      "req            INFO \tUsing cached data for race_control_messages\n",
      "core           INFO \tFinished loading data for 20 drivers: ['1', '81', '4', '16', '11', '55', '44', '63', '22', '14', '40', '10', '23', '31', '20', '77', '18', '27', '24', '2']\n",
      "core           INFO \tLoading data for Emilia Romagna Grand Prix - Qualifying [v3.4.4]\n",
      "req            INFO \tUsing cached data for session_info\n",
      "req            INFO \tUsing cached data for driver_info\n",
      "req            INFO \tUsing cached data for session_status_data\n",
      "req            INFO \tUsing cached data for track_status_data\n",
      "req            INFO \tUsing cached data for _extended_timing_data\n",
      "req            INFO \tUsing cached data for timing_app_data\n",
      "core           INFO \tProcessing timing data...\n",
      "req            INFO \tUsing cached data for car_data\n",
      "req            INFO \tUsing cached data for position_data\n",
      "req            INFO \tUsing cached data for weather_data\n",
      "req            INFO \tUsing cached data for race_control_messages\n",
      "core           INFO \tFinished loading data for 20 drivers: ['44', '11', '33', '16', '10', '3', '4', '77', '31', '18', '55', '63', '5', '6', '14', '7', '99', '47', '9', '22']\n",
      "core           INFO \tLoading data for Emilia Romagna Grand Prix - Qualifying [v3.4.4]\n",
      "req            INFO \tUsing cached data for session_info\n",
      "req            INFO \tUsing cached data for driver_info\n",
      "req            INFO \tUsing cached data for session_status_data\n",
      "req            INFO \tUsing cached data for track_status_data\n",
      "req            INFO \tUsing cached data for _extended_timing_data\n",
      "req            INFO \tUsing cached data for timing_app_data\n",
      "core           INFO \tProcessing timing data...\n",
      "req            INFO \tUsing cached data for car_data\n",
      "req            INFO \tUsing cached data for position_data\n",
      "req            INFO \tUsing cached data for weather_data\n",
      "req            INFO \tUsing cached data for race_control_messages\n",
      "core           INFO \tFinished loading data for 20 drivers: ['1', '16', '4', '20', '14', '3', '11', '77', '5', '55', '63', '47', '44', '24', '18', '22', '10', '6', '31', '23']\n",
      "events      WARNING \tCorrecting user input 'Emilia Romagna Grand Prix' to 'Belgian Grand Prix'\n",
      "core           INFO \tLoading data for Belgian Grand Prix - Qualifying [v3.4.4]\n",
      "req            INFO \tUsing cached data for session_info\n",
      "req            INFO \tUsing cached data for driver_info\n",
      "req            INFO \tUsing cached data for session_status_data\n",
      "req            INFO \tUsing cached data for track_status_data\n",
      "req            INFO \tUsing cached data for _extended_timing_data\n",
      "req            INFO \tUsing cached data for timing_app_data\n",
      "core           INFO \tProcessing timing data...\n",
      "req            INFO \tUsing cached data for car_data\n",
      "req            INFO \tUsing cached data for position_data\n",
      "req            INFO \tUsing cached data for weather_data\n",
      "req            INFO \tUsing cached data for race_control_messages\n",
      "core           INFO \tFinished loading data for 20 drivers: ['1', '16', '11', '44', '55', '81', '4', '63', '14', '18', '22', '10', '20', '77', '31', '23', '24', '2', '3', '27']\n",
      "core           INFO \tLoading data for Monaco Grand Prix - Qualifying [v3.4.4]\n",
      "req            INFO \tUsing cached data for session_info\n",
      "req            INFO \tUsing cached data for driver_info\n",
      "req            INFO \tUsing cached data for session_status_data\n",
      "req            INFO \tUsing cached data for track_status_data\n",
      "req            INFO \tUsing cached data for _extended_timing_data\n",
      "req            INFO \tUsing cached data for timing_app_data\n",
      "core           INFO \tProcessing timing data...\n",
      "core        WARNING \tNo lap data for driver 47\n",
      "core        WARNING \tDriver  5: Lap timing integrity check failed for 1 lap(s)\n",
      "core        WARNING \tFailed to perform lap accuracy check - all laps marked as inaccurate (driver 47)\n",
      "req            INFO \tUsing cached data for car_data\n",
      "req            INFO \tUsing cached data for position_data\n",
      "req            INFO \tUsing cached data for weather_data\n",
      "req            INFO \tUsing cached data for race_control_messages\n",
      "core           INFO \tFinished loading data for 20 drivers: ['16', '33', '77', '55', '4', '10', '44', '5', '11', '99', '31', '3', '18', '7', '63', '22', '14', '6', '9', '47']\n",
      "core           INFO \tLoading data for Monaco Grand Prix - Qualifying [v3.4.4]\n",
      "req            INFO \tUsing cached data for session_info\n",
      "req            INFO \tUsing cached data for driver_info\n",
      "req            INFO \tUsing cached data for session_status_data\n",
      "req            INFO \tUsing cached data for track_status_data\n",
      "req            INFO \tUsing cached data for _extended_timing_data\n",
      "req            INFO \tUsing cached data for timing_app_data\n",
      "core           INFO \tProcessing timing data...\n",
      "req            INFO \tUsing cached data for car_data\n",
      "req            INFO \tUsing cached data for position_data\n",
      "req            INFO \tUsing cached data for weather_data\n",
      "req            INFO \tUsing cached data for race_control_messages\n",
      "core           INFO \tFinished loading data for 20 drivers: ['16', '55', '11', '1', '4', '63', '14', '44', '5', '31', '22', '77', '20', '3', '47', '23', '10', '18', '6', '24']\n",
      "core           INFO \tLoading data for Monaco Grand Prix - Qualifying [v3.4.4]\n",
      "req            INFO \tUsing cached data for session_info\n",
      "req            INFO \tUsing cached data for driver_info\n",
      "req            INFO \tUsing cached data for session_status_data\n",
      "req            INFO \tUsing cached data for track_status_data\n",
      "req            INFO \tUsing cached data for _extended_timing_data\n",
      "req            INFO \tUsing cached data for timing_app_data\n",
      "core           INFO \tProcessing timing data...\n",
      "req            INFO \tUsing cached data for car_data\n",
      "req            INFO \tUsing cached data for position_data\n",
      "req            INFO \tUsing cached data for weather_data\n",
      "req            INFO \tUsing cached data for race_control_messages\n",
      "core           INFO \tFinished loading data for 20 drivers: ['1', '14', '16', '31', '55', '44', '10', '63', '22', '4', '81', '21', '23', '18', '77', '2', '20', '27', '24', '11']\n",
      "events      WARNING \tCorrecting user input 'Canadian Grand Prix' to 'Hungarian Grand Prix'\n",
      "core           INFO \tLoading data for Hungarian Grand Prix - Qualifying [v3.4.4]\n",
      "req            INFO \tUsing cached data for session_info\n",
      "req            INFO \tUsing cached data for driver_info\n",
      "req            INFO \tUsing cached data for session_status_data\n",
      "req            INFO \tUsing cached data for track_status_data\n",
      "req            INFO \tUsing cached data for _extended_timing_data\n",
      "req            INFO \tUsing cached data for timing_app_data\n",
      "core           INFO \tProcessing timing data...\n",
      "core        WARNING \tNo lap data for driver 47\n",
      "core        WARNING \tFailed to perform lap accuracy check - all laps marked as inaccurate (driver 47)\n",
      "req            INFO \tUsing cached data for car_data\n",
      "req            INFO \tUsing cached data for position_data\n",
      "req            INFO \tUsing cached data for weather_data\n",
      "req            INFO \tUsing cached data for race_control_messages\n",
      "core           INFO \tFinished loading data for 20 drivers: ['44', '77', '33', '11', '10', '4', '16', '31', '14', '5', '3', '18', '7', '99', '55', '22', '63', '6', '9', '47']\n",
      "core           INFO \tLoading data for Canadian Grand Prix - Qualifying [v3.4.4]\n",
      "req            INFO \tUsing cached data for session_info\n",
      "req            INFO \tUsing cached data for driver_info\n",
      "req            INFO \tUsing cached data for session_status_data\n",
      "req            INFO \tUsing cached data for track_status_data\n",
      "req            INFO \tUsing cached data for _extended_timing_data\n",
      "req            INFO \tUsing cached data for timing_app_data\n",
      "core           INFO \tProcessing timing data...\n",
      "req            INFO \tUsing cached data for car_data\n",
      "req            INFO \tUsing cached data for position_data\n",
      "req            INFO \tUsing cached data for weather_data\n",
      "req            INFO \tUsing cached data for race_control_messages\n",
      "core           INFO \tFinished loading data for 20 drivers: ['1', '14', '55', '44', '20', '47', '31', '63', '3', '24', '77', '23', '11', '4', '16', '10', '5', '18', '6', '22']\n",
      "core           INFO \tLoading data for Canadian Grand Prix - Qualifying [v3.4.4]\n",
      "req            INFO \tUsing cached data for session_info\n",
      "req            INFO \tUsing cached data for driver_info\n",
      "req            INFO \tUsing cached data for session_status_data\n",
      "req            INFO \tUsing cached data for track_status_data\n",
      "req            INFO \tUsing cached data for _extended_timing_data\n",
      "req            INFO \tUsing cached data for timing_app_data\n",
      "core           INFO \tProcessing timing data...\n",
      "core        WARNING \tDriver  1: Lap timing integrity check failed for 1 lap(s)\n",
      "core        WARNING \tDriver 55: Lap timing integrity check failed for 1 lap(s)\n",
      "core        WARNING \tDriver 11: Lap timing integrity check failed for 1 lap(s)\n",
      "core        WARNING \tDriver  2: Lap timing integrity check failed for 1 lap(s)\n",
      "req            INFO \tUsing cached data for car_data\n",
      "req            INFO \tUsing cached data for position_data\n",
      "req            INFO \tUsing cached data for weather_data\n",
      "req            INFO \tUsing cached data for race_control_messages\n",
      "core           INFO \tFinished loading data for 20 drivers: ['1', '27', '14', '44', '63', '31', '4', '55', '81', '23', '16', '11', '18', '20', '77', '22', '10', '21', '2', '24']\n",
      "core           INFO \tLoading data for Spanish Grand Prix - Qualifying [v3.4.4]\n",
      "req            INFO \tUsing cached data for session_info\n",
      "req            INFO \tUsing cached data for driver_info\n",
      "req            INFO \tUsing cached data for session_status_data\n",
      "req            INFO \tUsing cached data for track_status_data\n",
      "req            INFO \tUsing cached data for _extended_timing_data\n",
      "req            INFO \tUsing cached data for timing_app_data\n",
      "core           INFO \tProcessing timing data...\n",
      "req            INFO \tUsing cached data for car_data\n",
      "req            INFO \tUsing cached data for position_data\n",
      "req            INFO \tUsing cached data for weather_data\n",
      "req            INFO \tUsing cached data for race_control_messages\n",
      "core           INFO \tFinished loading data for 20 drivers: ['44', '33', '77', '16', '31', '55', '3', '11', '4', '14', '18', '10', '5', '99', '63', '22', '7', '47', '6', '9']\n",
      "core           INFO \tLoading data for Spanish Grand Prix - Qualifying [v3.4.4]\n",
      "req            INFO \tUsing cached data for session_info\n",
      "req            INFO \tUsing cached data for driver_info\n",
      "req            INFO \tUsing cached data for session_status_data\n",
      "req            INFO \tUsing cached data for track_status_data\n",
      "req            INFO \tUsing cached data for _extended_timing_data\n",
      "req            INFO \tUsing cached data for timing_app_data\n",
      "core           INFO \tProcessing timing data...\n",
      "req            INFO \tUsing cached data for car_data\n",
      "req            INFO \tUsing cached data for position_data\n",
      "req            INFO \tUsing cached data for weather_data\n",
      "req            INFO \tUsing cached data for race_control_messages\n",
      "core           INFO \tFinished loading data for 20 drivers: ['16', '1', '55', '63', '11', '44', '77', '20', '3', '47', '4', '31', '22', '10', '24', '5', '14', '18', '23', '6']\n",
      "core           INFO \tLoading data for Spanish Grand Prix - Qualifying [v3.4.4]\n",
      "req            INFO \tUsing cached data for session_info\n",
      "req            INFO \tUsing cached data for driver_info\n",
      "req            INFO \tUsing cached data for session_status_data\n",
      "req            INFO \tUsing cached data for track_status_data\n",
      "req            INFO \tUsing cached data for _extended_timing_data\n",
      "req            INFO \tUsing cached data for timing_app_data\n",
      "core           INFO \tProcessing timing data...\n",
      "req            INFO \tUsing cached data for car_data\n",
      "req            INFO \tUsing cached data for position_data\n",
      "req            INFO \tUsing cached data for weather_data\n",
      "req            INFO \tUsing cached data for race_control_messages\n",
      "core           INFO \tFinished loading data for 20 drivers: ['1', '55', '4', '10', '44', '18', '31', '27', '14', '81', '11', '63', '24', '21', '22', '77', '20', '23', '16', '2']\n",
      "core           INFO \tLoading data for British Grand Prix - Qualifying [v3.4.4]\n",
      "req            INFO \tUsing cached data for session_info\n",
      "req            INFO \tUsing cached data for driver_info\n",
      "req            INFO \tUsing cached data for session_status_data\n",
      "req            INFO \tUsing cached data for track_status_data\n",
      "req            INFO \tUsing cached data for _extended_timing_data\n",
      "req            INFO \tUsing cached data for timing_app_data\n",
      "core           INFO \tProcessing timing data...\n",
      "req            INFO \tUsing cached data for car_data\n",
      "req            INFO \tUsing cached data for position_data\n",
      "req            INFO \tUsing cached data for weather_data\n",
      "req            INFO \tUsing cached data for race_control_messages\n",
      "core           INFO \tFinished loading data for 20 drivers: ['44', '33', '77', '16', '11', '4', '3', '63', '55', '5', '14', '10', '31', '99', '18', '22', '7', '6', '47', '9']\n",
      "core           INFO \tLoading data for British Grand Prix - Qualifying [v3.4.4]\n",
      "req            INFO \tUsing cached data for session_info\n",
      "req            INFO \tUsing cached data for driver_info\n",
      "req            INFO \tUsing cached data for session_status_data\n",
      "req            INFO \tUsing cached data for track_status_data\n",
      "req            INFO \tUsing cached data for _extended_timing_data\n",
      "req            INFO \tUsing cached data for timing_app_data\n",
      "core           INFO \tProcessing timing data...\n",
      "req            INFO \tUsing cached data for car_data\n",
      "req            INFO \tUsing cached data for position_data\n",
      "req            INFO \tUsing cached data for weather_data\n",
      "req            INFO \tUsing cached data for race_control_messages\n",
      "core           INFO \tFinished loading data for 20 drivers: ['55', '1', '16', '11', '44', '4', '14', '63', '24', '6', '10', '77', '22', '3', '31', '23', '20', '5', '47', '18']\n",
      "core           INFO \tLoading data for British Grand Prix - Qualifying [v3.4.4]\n",
      "req            INFO \tUsing cached data for session_info\n",
      "req            INFO \tUsing cached data for driver_info\n",
      "req            INFO \tUsing cached data for session_status_data\n",
      "req            INFO \tUsing cached data for track_status_data\n",
      "req            INFO \tUsing cached data for _extended_timing_data\n",
      "req            INFO \tUsing cached data for timing_app_data\n",
      "core           INFO \tProcessing timing data...\n",
      "req            INFO \tUsing cached data for car_data\n",
      "req            INFO \tUsing cached data for position_data\n",
      "req            INFO \tUsing cached data for weather_data\n",
      "req            INFO \tUsing cached data for race_control_messages\n",
      "core           INFO \tFinished loading data for 20 drivers: ['1', '4', '81', '16', '55', '63', '44', '23', '14', '10', '27', '18', '31', '2', '77', '11', '22', '24', '21', '20']\n",
      "core           INFO \tLoading data for Hungarian Grand Prix - Qualifying [v3.4.4]\n",
      "req            INFO \tUsing cached data for session_info\n",
      "req            INFO \tUsing cached data for driver_info\n",
      "req            INFO \tUsing cached data for session_status_data\n",
      "req            INFO \tUsing cached data for track_status_data\n",
      "req            INFO \tUsing cached data for _extended_timing_data\n",
      "req            INFO \tUsing cached data for timing_app_data\n",
      "core           INFO \tProcessing timing data...\n",
      "core        WARNING \tNo lap data for driver 47\n",
      "core        WARNING \tFailed to perform lap accuracy check - all laps marked as inaccurate (driver 47)\n",
      "req            INFO \tUsing cached data for car_data\n",
      "req            INFO \tUsing cached data for position_data\n",
      "req            INFO \tUsing cached data for weather_data\n",
      "req            INFO \tUsing cached data for race_control_messages\n",
      "core           INFO \tFinished loading data for 20 drivers: ['44', '77', '33', '11', '10', '4', '16', '31', '14', '5', '3', '18', '7', '99', '55', '22', '63', '6', '9', '47']\n",
      "core           INFO \tLoading data for Hungarian Grand Prix - Qualifying [v3.4.4]\n",
      "req            INFO \tUsing cached data for session_info\n",
      "req            INFO \tUsing cached data for driver_info\n",
      "req            INFO \tUsing cached data for session_status_data\n",
      "req            INFO \tUsing cached data for track_status_data\n",
      "req            INFO \tUsing cached data for _extended_timing_data\n",
      "req            INFO \tUsing cached data for timing_app_data\n",
      "core           INFO \tProcessing timing data...\n",
      "req            INFO \tUsing cached data for car_data\n",
      "req            INFO \tUsing cached data for position_data\n",
      "req            INFO \tUsing cached data for weather_data\n",
      "req            INFO \tUsing cached data for race_control_messages\n",
      "core           INFO \tFinished loading data for 20 drivers: ['63', '55', '16', '4', '31', '14', '44', '77', '3', '1', '11', '24', '20', '18', '47', '22', '23', '5', '10', '6']\n",
      "core           INFO \tLoading data for Hungarian Grand Prix - Qualifying [v3.4.4]\n",
      "req            INFO \tUsing cached data for session_info\n",
      "req            INFO \tUsing cached data for driver_info\n",
      "req            INFO \tUsing cached data for session_status_data\n",
      "req            INFO \tUsing cached data for track_status_data\n",
      "req            INFO \tUsing cached data for _extended_timing_data\n",
      "req            INFO \tUsing cached data for timing_app_data\n",
      "core           INFO \tProcessing timing data...\n",
      "req            INFO \tUsing cached data for car_data\n",
      "req            INFO \tUsing cached data for position_data\n",
      "req            INFO \tUsing cached data for weather_data\n",
      "req            INFO \tUsing cached data for race_control_messages\n",
      "core           INFO \tFinished loading data for 20 drivers: ['44', '1', '4', '81', '24', '16', '77', '14', '11', '27', '55', '31', '3', '18', '10', '23', '22', '63', '20', '2']\n",
      "core           INFO \tLoading data for Belgian Grand Prix - Qualifying [v3.4.4]\n",
      "req            INFO \tUsing cached data for session_info\n",
      "req            INFO \tUsing cached data for driver_info\n",
      "req            INFO \tUsing cached data for session_status_data\n",
      "req            INFO \tUsing cached data for track_status_data\n",
      "req            INFO \tUsing cached data for _extended_timing_data\n",
      "req            INFO \tUsing cached data for timing_app_data\n",
      "core           INFO \tProcessing timing data...\n",
      "req            INFO \tUsing cached data for car_data\n",
      "req            INFO \tUsing cached data for position_data\n",
      "req            INFO \tUsing cached data for weather_data\n",
      "req            INFO \tUsing cached data for race_control_messages\n",
      "core           INFO \tFinished loading data for 20 drivers: ['33', '63', '44', '3', '5', '10', '11', '77', '31', '4', '16', '6', '55', '14', '18', '99', '22', '47', '7', '9']\n",
      "core           INFO \tLoading data for Belgian Grand Prix - Qualifying [v3.4.4]\n",
      "req            INFO \tUsing cached data for session_info\n",
      "req            INFO \tUsing cached data for driver_info\n",
      "req            INFO \tUsing cached data for session_status_data\n",
      "req            INFO \tUsing cached data for track_status_data\n",
      "req            INFO \tUsing cached data for _extended_timing_data\n",
      "req            INFO \tUsing cached data for timing_app_data\n",
      "core           INFO \tProcessing timing data...\n",
      "req            INFO \tUsing cached data for car_data\n",
      "req            INFO \tUsing cached data for position_data\n",
      "req            INFO \tUsing cached data for weather_data\n",
      "req            INFO \tUsing cached data for race_control_messages\n",
      "core           INFO \tFinished loading data for 20 drivers: ['1', '55', '11', '16', '31', '14', '44', '63', '23', '4', '3', '10', '24', '18', '47', '5', '6', '20', '22', '77']\n",
      "core           INFO \tLoading data for Belgian Grand Prix - Qualifying [v3.4.4]\n",
      "req            INFO \tUsing cached data for session_info\n",
      "req            INFO \tUsing cached data for driver_info\n",
      "req            INFO \tUsing cached data for session_status_data\n",
      "req            INFO \tUsing cached data for track_status_data\n",
      "req            INFO \tUsing cached data for _extended_timing_data\n",
      "req            INFO \tUsing cached data for timing_app_data\n",
      "core           INFO \tProcessing timing data...\n",
      "req            INFO \tUsing cached data for car_data\n",
      "req            INFO \tUsing cached data for position_data\n",
      "req            INFO \tUsing cached data for weather_data\n",
      "req            INFO \tUsing cached data for race_control_messages\n",
      "core           INFO \tFinished loading data for 20 drivers: ['1', '16', '11', '44', '55', '81', '4', '63', '14', '18', '22', '10', '20', '77', '31', '23', '24', '2', '3', '27']\n",
      "core           INFO \tLoading data for Dutch Grand Prix - Qualifying [v3.4.4]\n",
      "req            INFO \tUsing cached data for session_info\n",
      "req            INFO \tUsing cached data for driver_info\n",
      "req            INFO \tUsing cached data for session_status_data\n",
      "req            INFO \tUsing cached data for track_status_data\n",
      "req            INFO \tUsing cached data for _extended_timing_data\n",
      "req            INFO \tUsing cached data for timing_app_data\n",
      "core           INFO \tProcessing timing data...\n",
      "req            INFO \tUsing cached data for car_data\n",
      "req            INFO \tUsing cached data for position_data\n",
      "req            INFO \tUsing cached data for weather_data\n",
      "req            INFO \tUsing cached data for race_control_messages\n",
      "core           INFO \tFinished loading data for 20 drivers: ['33', '44', '77', '10', '16', '55', '99', '31', '14', '3', '63', '18', '4', '6', '22', '11', '5', '88', '47', '9']\n",
      "core           INFO \tLoading data for Dutch Grand Prix - Qualifying [v3.4.4]\n",
      "req            INFO \tUsing cached data for session_info\n",
      "req            INFO \tUsing cached data for driver_info\n",
      "req            INFO \tUsing cached data for session_status_data\n",
      "req            INFO \tUsing cached data for track_status_data\n",
      "req            INFO \tUsing cached data for _extended_timing_data\n",
      "req            INFO \tUsing cached data for timing_app_data\n",
      "core           INFO \tProcessing timing data...\n",
      "req            INFO \tUsing cached data for car_data\n",
      "req            INFO \tUsing cached data for position_data\n",
      "req            INFO \tUsing cached data for weather_data\n",
      "req            INFO \tUsing cached data for race_control_messages\n",
      "core           INFO \tFinished loading data for 20 drivers: ['1', '16', '55', '44', '11', '63', '4', '47', '22', '18', '10', '31', '14', '24', '23', '77', '3', '20', '5', '6']\n",
      "core           INFO \tLoading data for Dutch Grand Prix - Qualifying [v3.4.4]\n",
      "req            INFO \tUsing cached data for session_info\n",
      "req            INFO \tUsing cached data for driver_info\n",
      "req            INFO \tUsing cached data for session_status_data\n",
      "req            INFO \tUsing cached data for track_status_data\n",
      "req            INFO \tUsing cached data for _extended_timing_data\n",
      "req            INFO \tUsing cached data for timing_app_data\n",
      "core           INFO \tProcessing timing data...\n",
      "req            INFO \tUsing cached data for car_data\n",
      "req            INFO \tUsing cached data for position_data\n",
      "req            INFO \tUsing cached data for weather_data\n",
      "req            INFO \tUsing cached data for race_control_messages\n",
      "core           INFO \tFinished loading data for 20 drivers: ['1', '4', '63', '23', '14', '55', '11', '81', '16', '2', '18', '10', '44', '22', '27', '24', '31', '20', '77', '40']\n",
      "core           INFO \tLoading data for Italian Grand Prix - Qualifying [v3.4.4]\n",
      "req            INFO \tUsing cached data for session_info\n",
      "req            INFO \tUsing cached data for driver_info\n",
      "req            INFO \tUsing cached data for session_status_data\n",
      "req            INFO \tUsing cached data for track_status_data\n",
      "req            INFO \tUsing cached data for _extended_timing_data\n",
      "req            INFO \tUsing cached data for timing_app_data\n",
      "core           INFO \tProcessing timing data...\n",
      "core        WARNING \tDriver 16: Lap timing integrity check failed for 1 lap(s)\n",
      "req            INFO \tUsing cached data for car_data\n",
      "req            INFO \tUsing cached data for position_data\n",
      "req            INFO \tUsing cached data for weather_data\n",
      "req            INFO \tUsing cached data for race_control_messages\n",
      "core           INFO \tFinished loading data for 20 drivers: ['77', '44', '33', '4', '3', '10', '55', '16', '11', '99', '5', '18', '14', '31', '63', '6', '22', '47', '88', '9']\n",
      "core           INFO \tLoading data for Italian Grand Prix - Qualifying [v3.4.4]\n",
      "req            INFO \tUsing cached data for session_info\n",
      "req            INFO \tUsing cached data for driver_info\n",
      "req            INFO \tUsing cached data for session_status_data\n",
      "req            INFO \tUsing cached data for track_status_data\n",
      "req            INFO \tUsing cached data for _extended_timing_data\n",
      "req            INFO \tUsing cached data for timing_app_data\n",
      "core           INFO \tProcessing timing data...\n",
      "req            INFO \tUsing cached data for car_data\n",
      "req            INFO \tUsing cached data for position_data\n",
      "req            INFO \tUsing cached data for weather_data\n",
      "req            INFO \tUsing cached data for race_control_messages\n",
      "core           INFO \tFinished loading data for 20 drivers: ['16', '1', '55', '11', '44', '63', '4', '3', '10', '14', '31', '77', '45', '24', '22', '6', '5', '18', '20', '47']\n",
      "core           INFO \tLoading data for Italian Grand Prix - Qualifying [v3.4.4]\n",
      "req            INFO \tUsing cached data for session_info\n",
      "req            INFO \tUsing cached data for driver_info\n",
      "req            INFO \tUsing cached data for session_status_data\n",
      "req            INFO \tUsing cached data for track_status_data\n",
      "req            INFO \tUsing cached data for _extended_timing_data\n",
      "req            INFO \tUsing cached data for timing_app_data\n",
      "core           INFO \tProcessing timing data...\n",
      "req            INFO \tUsing cached data for car_data\n",
      "req            INFO \tUsing cached data for position_data\n",
      "req            INFO \tUsing cached data for weather_data\n",
      "req            INFO \tUsing cached data for race_control_messages\n",
      "core           INFO \tFinished loading data for 20 drivers: ['55', '1', '16', '63', '11', '23', '81', '44', '4', '14', '22', '40', '27', '77', '2', '24', '10', '31', '20', '18']\n",
      "core           INFO \tLoading data for Azerbaijan Grand Prix - Qualifying [v3.4.4]\n",
      "req            INFO \tUsing cached data for session_info\n",
      "req            INFO \tUsing cached data for driver_info\n",
      "req            INFO \tUsing cached data for session_status_data\n",
      "req            INFO \tUsing cached data for track_status_data\n",
      "req            INFO \tUsing cached data for _extended_timing_data\n",
      "req            INFO \tUsing cached data for timing_app_data\n",
      "core           INFO \tProcessing timing data...\n",
      "req            INFO \tUsing cached data for car_data\n",
      "req            INFO \tUsing cached data for position_data\n",
      "req            INFO \tUsing cached data for weather_data\n",
      "req            INFO \tUsing cached data for race_control_messages\n",
      "core           INFO \tFinished loading data for 20 drivers: ['16', '44', '33', '10', '55', '4', '11', '22', '14', '77', '5', '31', '3', '7', '63', '6', '47', '9', '18', '99']\n",
      "core           INFO \tLoading data for Azerbaijan Grand Prix - Qualifying [v3.4.4]\n",
      "req            INFO \tUsing cached data for session_info\n",
      "req            INFO \tUsing cached data for driver_info\n",
      "req            INFO \tUsing cached data for session_status_data\n",
      "req            INFO \tUsing cached data for track_status_data\n",
      "req            INFO \tUsing cached data for _extended_timing_data\n",
      "req            INFO \tUsing cached data for timing_app_data\n",
      "core           INFO \tProcessing timing data...\n",
      "req            INFO \tUsing cached data for car_data\n",
      "req            INFO \tUsing cached data for position_data\n",
      "req            INFO \tUsing cached data for weather_data\n",
      "req            INFO \tUsing cached data for race_control_messages\n",
      "core           INFO \tFinished loading data for 20 drivers: ['16', '11', '1', '55', '63', '10', '44', '22', '5', '14', '4', '3', '31', '24', '77', '20', '23', '6', '18', '47']\n",
      "core           INFO \tLoading data for Azerbaijan Grand Prix - Qualifying [v3.4.4]\n",
      "req            INFO \tUsing cached data for session_info\n",
      "req            INFO \tUsing cached data for driver_info\n",
      "req            INFO \tUsing cached data for session_status_data\n",
      "req            INFO \tUsing cached data for track_status_data\n",
      "req            INFO \tUsing cached data for _extended_timing_data\n",
      "req            INFO \tUsing cached data for timing_app_data\n",
      "core           INFO \tProcessing timing data...\n",
      "req            INFO \tUsing cached data for car_data\n",
      "req            INFO \tUsing cached data for position_data\n",
      "req            INFO \tUsing cached data for weather_data\n",
      "req            INFO \tUsing cached data for race_control_messages\n",
      "core           INFO \tFinished loading data for 20 drivers: ['16', '1', '11', '55', '44', '14', '4', '22', '18', '81', '63', '31', '23', '77', '2', '24', '27', '20', '10', '21']\n",
      "events      WARNING \tCorrecting user input 'Singapore Grand Prix' to 'Hungarian Grand Prix'\n",
      "core           INFO \tLoading data for Hungarian Grand Prix - Qualifying [v3.4.4]\n",
      "req            INFO \tUsing cached data for session_info\n",
      "req            INFO \tUsing cached data for driver_info\n",
      "req            INFO \tUsing cached data for session_status_data\n",
      "req            INFO \tUsing cached data for track_status_data\n",
      "req            INFO \tUsing cached data for _extended_timing_data\n",
      "req            INFO \tUsing cached data for timing_app_data\n",
      "core           INFO \tProcessing timing data...\n",
      "core        WARNING \tNo lap data for driver 47\n",
      "core        WARNING \tFailed to perform lap accuracy check - all laps marked as inaccurate (driver 47)\n",
      "req            INFO \tUsing cached data for car_data\n",
      "req            INFO \tUsing cached data for position_data\n",
      "req            INFO \tUsing cached data for weather_data\n",
      "req            INFO \tUsing cached data for race_control_messages\n",
      "core           INFO \tFinished loading data for 20 drivers: ['44', '77', '33', '11', '10', '4', '16', '31', '14', '5', '3', '18', '7', '99', '55', '22', '63', '6', '9', '47']\n",
      "core           INFO \tLoading data for Singapore Grand Prix - Qualifying [v3.4.4]\n",
      "req            INFO \tUsing cached data for session_info\n",
      "req            INFO \tUsing cached data for driver_info\n",
      "req            INFO \tUsing cached data for session_status_data\n",
      "req            INFO \tUsing cached data for track_status_data\n",
      "req            INFO \tUsing cached data for _extended_timing_data\n",
      "req            INFO \tUsing cached data for timing_app_data\n",
      "core           INFO \tProcessing timing data...\n",
      "req            INFO \tUsing cached data for car_data\n",
      "req            INFO \tUsing cached data for position_data\n",
      "req            INFO \tUsing cached data for weather_data\n",
      "req            INFO \tUsing cached data for race_control_messages\n",
      "core           INFO \tFinished loading data for 20 drivers: ['16', '11', '44', '55', '14', '4', '10', '1', '20', '22', '63', '18', '47', '5', '24', '77', '3', '31', '23', '6']\n",
      "core           INFO \tLoading data for Singapore Grand Prix - Qualifying [v3.4.4]\n",
      "req            INFO \tUsing cached data for session_info\n",
      "req            INFO \tUsing cached data for driver_info\n",
      "req            INFO \tUsing cached data for session_status_data\n",
      "req            INFO \tUsing cached data for track_status_data\n",
      "req            INFO \tUsing cached data for _extended_timing_data\n",
      "req            INFO \tUsing cached data for timing_app_data\n",
      "core           INFO \tProcessing timing data...\n",
      "req            INFO \tUsing cached data for car_data\n",
      "req            INFO \tUsing cached data for position_data\n",
      "req            INFO \tUsing cached data for weather_data\n",
      "req            INFO \tUsing cached data for race_control_messages\n",
      "core           INFO \tFinished loading data for 20 drivers: ['55', '63', '16', '4', '44', '20', '14', '31', '27', '40', '1', '10', '11', '23', '22', '77', '81', '2', '24', '18']\n",
      "core           INFO \tLoading data for Mexico City Grand Prix - Qualifying [v3.4.4]\n",
      "req            INFO \tUsing cached data for session_info\n",
      "req            INFO \tUsing cached data for driver_info\n",
      "req            INFO \tUsing cached data for session_status_data\n",
      "req            INFO \tUsing cached data for track_status_data\n",
      "req            INFO \tUsing cached data for _extended_timing_data\n",
      "req            INFO \tUsing cached data for timing_app_data\n",
      "core           INFO \tProcessing timing data...\n",
      "req            INFO \tUsing cached data for car_data\n",
      "req            INFO \tUsing cached data for position_data\n",
      "req            INFO \tUsing cached data for weather_data\n",
      "req            INFO \tUsing cached data for race_control_messages\n",
      "core           INFO \tFinished loading data for 20 drivers: ['77', '44', '33', '11', '10', '55', '3', '16', '22', '4', '5', '7', '63', '99', '31', '14', '6', '47', '9', '18']\n",
      "core           INFO \tLoading data for Mexico City Grand Prix - Qualifying [v3.4.4]\n",
      "req            INFO \tUsing cached data for session_info\n",
      "req            INFO \tUsing cached data for driver_info\n",
      "req            INFO \tUsing cached data for session_status_data\n",
      "req            INFO \tUsing cached data for track_status_data\n",
      "req            INFO \tUsing cached data for _extended_timing_data\n",
      "req            INFO \tUsing cached data for timing_app_data\n",
      "core           INFO \tProcessing timing data...\n",
      "req            INFO \tUsing cached data for car_data\n",
      "req            INFO \tUsing cached data for position_data\n",
      "req            INFO \tUsing cached data for weather_data\n",
      "req            INFO \tUsing cached data for race_control_messages\n",
      "core           INFO \tFinished loading data for 20 drivers: ['1', '63', '44', '11', '55', '77', '16', '4', '14', '31', '3', '24', '22', '10', '20', '47', '5', '18', '23', '6']\n",
      "core           INFO \tLoading data for Mexico City Grand Prix - Qualifying [v3.4.4]\n",
      "req            INFO \tUsing cached data for session_info\n",
      "req            INFO \tUsing cached data for driver_info\n",
      "req            INFO \tUsing cached data for session_status_data\n",
      "req            INFO \tUsing cached data for track_status_data\n",
      "req            INFO \tUsing cached data for _extended_timing_data\n",
      "req            INFO \tUsing cached data for timing_app_data\n",
      "core           INFO \tProcessing timing data...\n",
      "req            INFO \tUsing cached data for car_data\n",
      "req            INFO \tUsing cached data for position_data\n",
      "req            INFO \tUsing cached data for weather_data\n",
      "req            INFO \tUsing cached data for race_control_messages\n",
      "core           INFO \tFinished loading data for 20 drivers: ['16', '55', '1', '3', '11', '44', '81', '63', '77', '24', '10', '27', '14', '23', '22', '31', '20', '18', '4', '2']\n",
      "events      WARNING \tCorrecting user input 'Las Vegas Grand Prix' to 'French Grand Prix'\n",
      "core           INFO \tLoading data for French Grand Prix - Qualifying [v3.4.4]\n",
      "req            INFO \tUsing cached data for session_info\n",
      "req            INFO \tUsing cached data for driver_info\n",
      "req            INFO \tUsing cached data for session_status_data\n",
      "req            INFO \tUsing cached data for track_status_data\n",
      "req            INFO \tUsing cached data for _extended_timing_data\n",
      "req            INFO \tUsing cached data for timing_app_data\n",
      "core           INFO \tProcessing timing data...\n",
      "req            INFO \tUsing cached data for car_data\n",
      "req            INFO \tUsing cached data for position_data\n",
      "req            INFO \tUsing cached data for weather_data\n",
      "req            INFO \tUsing cached data for race_control_messages\n",
      "core           INFO \tFinished loading data for 20 drivers: ['33', '44', '77', '11', '55', '10', '16', '4', '14', '3', '31', '5', '99', '63', '47', '6', '7', '9', '18', '22']\n",
      "events      WARNING \tCorrecting user input 'Las Vegas Grand Prix' to 'British Grand Prix'\n",
      "core           INFO \tLoading data for British Grand Prix - Qualifying [v3.4.4]\n",
      "req            INFO \tUsing cached data for session_info\n",
      "req            INFO \tUsing cached data for driver_info\n",
      "req            INFO \tUsing cached data for session_status_data\n",
      "req            INFO \tUsing cached data for track_status_data\n",
      "req            INFO \tUsing cached data for _extended_timing_data\n",
      "req            INFO \tUsing cached data for timing_app_data\n",
      "core           INFO \tProcessing timing data...\n",
      "req            INFO \tUsing cached data for car_data\n",
      "req            INFO \tUsing cached data for position_data\n",
      "req            INFO \tUsing cached data for weather_data\n",
      "req            INFO \tUsing cached data for race_control_messages\n",
      "core           INFO \tFinished loading data for 20 drivers: ['55', '1', '16', '11', '44', '4', '14', '63', '24', '6', '10', '77', '22', '3', '31', '23', '20', '5', '47', '18']\n",
      "core           INFO \tLoading data for Las Vegas Grand Prix - Qualifying [v3.4.4]\n",
      "req            INFO \tUsing cached data for session_info\n",
      "req            INFO \tUsing cached data for driver_info\n",
      "req            INFO \tUsing cached data for session_status_data\n",
      "req            INFO \tUsing cached data for track_status_data\n",
      "req            INFO \tUsing cached data for _extended_timing_data\n",
      "req            INFO \tUsing cached data for timing_app_data\n",
      "core           INFO \tProcessing timing data...\n",
      "req            INFO \tUsing cached data for car_data\n",
      "req            INFO \tUsing cached data for position_data\n",
      "req            INFO \tUsing cached data for weather_data\n",
      "req            INFO \tUsing cached data for race_control_messages\n",
      "core           INFO \tFinished loading data for 20 drivers: ['16', '55', '1', '63', '10', '23', '2', '77', '20', '14', '44', '11', '27', '18', '3', '4', '31', '24', '81', '22']\n"
     ]
    }
   ],
   "source": [
    "import fastf1\n",
    "import pandas as pd\n",
    "import numpy as np\n",
    "import os\n",
    "\n",
    "class Race:\n",
    "    def __init__(self, event_name, year=None) -> None:\n",
    "        # If year is not provided, try to infer it from the schedule\n",
    "        if year is None:\n",
    "            # Assume 'schedule' is a global DataFrame with columns 'EventName' and 'Year'\n",
    "            try:\n",
    "                year = schedule[schedule['EventName'] == event_name]['Year'].values[0]\n",
    "            except (NameError, IndexError):\n",
    "                # Fallback to current year if schedule is not available\n",
    "                import datetime\n",
    "                year = datetime.datetime.now().year\n",
    "\n",
    "        self.event_name = event_name\n",
    "        self.year = year\n",
    "        self.directory = f'{self.year}/{event_name}'\n",
    "\n",
    "        # Implement more robust error handling for data retrieval\n",
    "        try:\n",
    "            # Check if data files exist, if not, load and save them\n",
    "            if self.data_files_exist():\n",
    "                self.load_data_from_files()\n",
    "            else:\n",
    "                self.fp1 = self.get_fp(1)\n",
    "                self.fp2 = self.get_fp(2)\n",
    "                self.fp3 = self.get_fp(3)\n",
    "                self.quali = self.get_qualifying()\n",
    "                self.save_dataframes()\n",
    "\n",
    "            self.drivers = self.quali['Abbreviation'].unique()\n",
    "            self.teams = self.quali['TeamName'].unique()\n",
    "        \n",
    "        except Exception as e:\n",
    "            print(f\"Error initializing Race data for {event_name}: {e}\")\n",
    "            raise\n",
    "\n",
    "    def data_files_exist(self):\n",
    "        return (os.path.exists(f'{self.directory}/fp1.csv') and\n",
    "                os.path.exists(f'{self.directory}/fp2.csv') and\n",
    "                os.path.exists(f'{self.directory}/fp3.csv') and\n",
    "                os.path.exists(f'{self.directory}/quali.csv'))\n",
    "\n",
    "    def load_data_from_files(self):\n",
    "        self.fp1 = pd.read_csv(f'{self.directory}/fp1.csv')\n",
    "        self.fp2 = pd.read_csv(f'{self.directory}/fp2.csv')\n",
    "        self.fp3 = pd.read_csv(f'{self.directory}/fp3.csv')\n",
    "        self.quali = pd.read_csv(f'{self.directory}/quali.csv')\n",
    "\n",
    "    def save_dataframes(self):\n",
    "        os.makedirs(self.directory, exist_ok=True)\n",
    "        self.fp1.to_csv(f'{self.directory}/fp1.csv', index=False)\n",
    "        self.fp2.to_csv(f'{self.directory}/fp2.csv', index=False)\n",
    "        self.fp3.to_csv(f'{self.directory}/fp3.csv', index=False)\n",
    "        self.quali.to_csv(f'{self.directory}/quali.csv', index=False)\n",
    "\n",
    "    def get_fp(self, session_num):\n",
    "        session = fastf1.get_session(self.year, self.event_name, f'FP{session_num}')\n",
    "        session.load()\n",
    "        return session.laps.pick_quicklaps()\n",
    "\n",
    "    def get_qualifying(self):\n",
    "        session = fastf1.get_session(self.year, self.event_name, 'Q')\n",
    "        session.load()\n",
    "        quali = session.results[['Abbreviation', 'Position', 'TeamName','TeamColor', 'Q1', 'Q2', 'Q3']]\n",
    "        quali['Q1'] = pd.to_timedelta(quali['Q1']).dt.total_seconds()\n",
    "        quali['Q2'] = pd.to_timedelta(quali['Q2']).dt.total_seconds()\n",
    "        quali['Q3'] = pd.to_timedelta(quali['Q3']).dt.total_seconds()\n",
    "        # only take time from the last session the driver participated in\n",
    "        quali['Time'] = quali.apply(lambda row: row['Q3'] if pd.notna(row['Q3']) else (row['Q2'] if pd.notna(row['Q2']) else row['Q1']), axis=1)\n",
    "        quali = quali.drop(columns=['Q1', 'Q2', 'Q3'])\n",
    "        return quali.reset_index(drop=True)\n",
    "\n",
    "    def filter_fp(self, session, compounds=None):\n",
    "        # Get the session data\n",
    "        if session == 1:\n",
    "            sesh = self.fp1\n",
    "        elif session == 2:\n",
    "            sesh = self.fp2\n",
    "        elif session == 3:\n",
    "            sesh = self.fp3\n",
    "\n",
    "        # Filter by compounds if provided\n",
    "        if compounds is not None:\n",
    "            sesh = sesh[sesh['Compound'].isin(compounds)]\n",
    "\n",
    "        # Remove outlaps and inlaps\n",
    "        sesh = sesh[sesh['PitOutTime'].isna() & sesh['PitInTime'].isna()]\n",
    "\n",
    "        return sesh\n",
    "    \n",
    "    def combine_fp(self, compounds = None):\n",
    "        fp1 = self.filter_fp(1, compounds)\n",
    "        fp2 = self.filter_fp(2, compounds)\n",
    "        fp3 = self.filter_fp(3, compounds)\n",
    "\n",
    "        # combine all 3 fp sessions\n",
    "        combined = pd.concat([fp1, fp2, fp3])\n",
    "        combined['LapTime'] = pd.to_timedelta(combined['LapTime']).dt.total_seconds()\n",
    "        return combined\n",
    "\n",
    "    def get_driver_stats(self):\n",
    "        \"\"\"\n",
    "        Retrieve driver statistics using only FastF1 API\n",
    "        \"\"\"\n",
    "        try:\n",
    "            # Create driver-team mapping from qualifying results\n",
    "            driver_team = self.quali[['Abbreviation', 'TeamName']]\n",
    "            driver_team.columns = ['Driver', 'Team']\n",
    "\n",
    "            # Get historical session data to calculate additional stats\n",
    "            try:\n",
    "                # Fetch previous sessions for the same event in prior years\n",
    "                historical_sessions = []\n",
    "                for past_year in range(self.year-3, self.year):\n",
    "                    try:\n",
    "                        past_session = fastf1.get_session(past_year, self.event_name, 'Q')\n",
    "                        past_session.load()\n",
    "                        historical_sessions.append(past_session)\n",
    "                    except:\n",
    "                        continue\n",
    "\n",
    "                # Calculate historical qualifying performance\n",
    "                if historical_sessions:\n",
    "                    historical_positions = []\n",
    "                    for session in historical_sessions:\n",
    "                        historical_positions.append(session.results['Position'].to_dict())\n",
    "\n",
    "                    # Calculate average historical position\n",
    "                    drivers_avg_position = {}\n",
    "                    for d in self.drivers:\n",
    "                        positions = [hist.get(d, 20) for hist in historical_positions]\n",
    "                        drivers_avg_position[d] = np.mean(positions) if positions else 20\n",
    "\n",
    "                    driver_team['quali_avg'] = driver_team['Driver'].map(drivers_avg_position)\n",
    "                else:\n",
    "                    driver_team['quali_avg'] = 20\n",
    "\n",
    "            except Exception as hist_error:\n",
    "                print(f\"Error retrieving historical data: {hist_error}\")\n",
    "                driver_team['quali_avg'] = 20\n",
    "\n",
    "            # Add dummy points columns (since we can't get from Ergast)\n",
    "            driver_team['Driver_points'] = 0\n",
    "            driver_team['Team_points'] = 0\n",
    "\n",
    "            return driver_team\n",
    "\n",
    "        except Exception as e:\n",
    "            print(f\"Error in get_driver_stats: {e}\")\n",
    "            # Return a basic dataframe with zero values if everything fails\n",
    "            return pd.DataFrame({\n",
    "                'Driver': self.quali['Abbreviation'],\n",
    "                'Driver_points': 0,\n",
    "                'Team_points': 0,\n",
    "                'quali_avg': 20\n",
    "            })\n",
    "\n",
    "    def preprocess(self, compounds=['SOFT']):\n",
    "        \"\"\"\n",
    "        Preprocesses the combined free practice data to compute statistical features for each driver.\n",
    "        Returns a dataset with one row per driver containing features and the target variable.\n",
    "        \"\"\"\n",
    "        from scipy.stats import kurtosis\n",
    "        \n",
    "        # Combine all FP sessions, filtered by compounds if specified\n",
    "        df = self.combine_fp(compounds=compounds)\n",
    "        \n",
    "        # Group by 'Driver' and compute statistical features\n",
    "        features = df.groupby('Driver').agg({\n",
    "            'LapTime': ['mean', 'std', 'min', 'max', 'median', 'skew', lambda x: kurtosis(x, bias=False) ,'count'],\n",
    "            'SpeedST': ['mean', 'std']\n",
    "        })\n",
    "        \n",
    "        # Flatten the MultiIndex columns\n",
    "        features.columns = ['_'.join(col).strip() for col in features.columns.values]\n",
    "        features.rename(columns={'LapTime_<lambda_0>': 'LapTime_kurtosis'}, inplace=True)\n",
    "        \n",
    "        # Reset index to make 'Driver' a column\n",
    "        features = features.reset_index()\n",
    "        \n",
    "        # Prepare qualifying results with the target variable\n",
    "        # Rename 'Abbreviation' to 'Driver' to match with 'features' DataFrame\n",
    "        quali_results = self.quali[['Abbreviation', 'Position']].rename(columns={'Abbreviation': 'Driver'})\n",
    "        \n",
    "        # Merge features and qualifying results on 'Driver'\n",
    "        dataset = pd.merge(features, quali_results, on='Driver')\n",
    "\n",
    "        # merge driver stats to it as well\n",
    "        dataset = pd.merge(dataset, self.get_driver_stats(), on='Driver', how='left')\n",
    "        \n",
    "        # Return the final dataset\n",
    "        return dataset\n",
    "    \n",
    "\n",
    "# # round 1 and 15 are missing driver points these were rookie standins.\n",
    "# race_name =[]\n",
    "# race_data = []\n",
    "# for event in schedule['EventName'].to_list()[:-1]:\n",
    "#     race_name.append(event)\n",
    "#     race_data.append(Race(event).preprocess())\n",
    "\n",
    "# race_data[0]\n",
    "# Ensure you have enabled FastF1 caching\n",
    "fastf1.Cache.enable_cache('/Users/EmilyHuang/Desktop/NYU/fall 24/predictive/group project')\n",
    "\n",
    "# Assuming 'schedule' is a DataFrame with 'EventName' and 'Year' columns\n",
    "race_name = []\n",
    "race_data = []\n",
    "\n",
    "for event in schedule['EventName'].to_list()[:-1]:\n",
    "    try:\n",
    "        race_name.append(event)\n",
    "        race_data.append(Race(event, year=2024).preprocess())\n",
    "    except Exception as e:\n",
    "        print(f\"Could not process {event}: {e}\")\n",
    "\n"
   ]
  },
  {
   "cell_type": "code",
   "execution_count": 25,
   "metadata": {},
   "outputs": [],
   "source": [
    "def split_xy(drivers, y, X, race_ids, test_id):\n",
    "    \n",
    "    train_filter = race_ids != test_id\n",
    "    X_train = X[train_filter]\n",
    "    y_train = y[train_filter]\n",
    "\n",
    "    test_filter = race_ids == test_id\n",
    "    X_test = X[test_filter]\n",
    "    y_test = y[test_filter]\n",
    "\n",
    "    drivers_test = drivers[race_ids == test_id]\n",
    "\n",
    "    return X_train, y_train, X_test, y_test, drivers_test"
   ]
  },
  {
   "cell_type": "code",
   "execution_count": 26,
   "metadata": {},
   "outputs": [
    {
     "name": "stdout",
     "output_type": "stream",
     "text": [
      "17 17 17 17 17\n"
     ]
    }
   ],
   "source": [
    "driver_list = []\n",
    "group_size_list = []\n",
    "y_list = []\n",
    "X_list = []\n",
    "race_ids = []\n",
    "from sklearn.preprocessing import MinMaxScaler\n",
    "\n",
    "\n",
    "scaler = MinMaxScaler()\n",
    "\n",
    "race_id = 0 # will correspond to values in race_names\n",
    "for race in race_data:\n",
    "    # get driver ordering\n",
    "    driver = race['Driver'].values\n",
    "    driver_list.append(driver)\n",
    "    \n",
    "    # get group size\n",
    "    group_size = len(driver)\n",
    "    group_size_list.append(group_size)\n",
    "    \n",
    "    # get preference score\n",
    "    y = race['Position']\n",
    "    y = y.max() - y + 1 # Reverse the order so that the fastest driver has the highest value\n",
    "    y_list.append(y)\n",
    "    \n",
    "    # standardize X\n",
    "    X = race.drop(columns=['Driver', 'Position'])\n",
    "    \n",
    "    # Select only numeric columns\n",
    "    numeric_columns = X.select_dtypes(include=['float64', 'int64']).columns\n",
    "    X_numeric = X[numeric_columns]\n",
    "    \n",
    "    # Scale only the numeric columns\n",
    "    X_scaled = scaler.fit_transform(X_numeric)\n",
    "    \n",
    "    # Create a DataFrame with scaled values\n",
    "    X_scaled_df = pd.DataFrame(X_scaled, columns=numeric_columns, index=X.index)\n",
    "    \n",
    "    X_list.append(X_scaled_df)\n",
    "    \n",
    "    # add race id\n",
    "    race_ids.append([race_id]*group_size)\n",
    "    race_id += 1\n",
    "\n",
    "print(len(driver_list), len(group_size_list), len(y_list), len(X_list), len(race_ids))"
   ]
  },
  {
   "cell_type": "code",
   "execution_count": null,
   "metadata": {},
   "outputs": [],
   "source": [
    "def plot_fp(race_names, compounds=['SOFT']):\n",
    "    for name in race_names:\n",
    "        Race(name).plot_fp(compounds=compounds)\n",
    "\n",
    "\n",
    "from sklearn.preprocessing import MinMaxScaler, StandardScaler\n",
    "\n",
    "def split_xy(drivers, y, X, race_ids, test_id):\n",
    "    \n",
    "    train_filter = race_ids != test_id\n",
    "    X_train = X[train_filter]\n",
    "    y_train = y[train_filter]\n",
    "\n",
    "    test_filter = race_ids == test_id\n",
    "    X_test = X[test_filter]\n",
    "    y_test = y[test_filter]\n",
    "\n",
    "    drivers_test = drivers[race_ids == test_id]\n",
    "\n",
    "    return X_train, y_train, X_test, y_test, drivers_test\n",
    "\n",
    "def predict_rankings(model, X_test, y_test, drivers_test):\n",
    "    y_pred = model.predict(X_test)\n",
    "\n",
    "\n",
    "    # transform y_test back to original scale\n",
    "    y_true = y_test.max() - y_test + 1\n",
    "    predicted_rankings = (-y_pred).argsort().argsort() + 1\n",
    "\n",
    "\n",
    "    results_df = pd.DataFrame({'PredictedRank': predicted_rankings, 'ActualPosition': y_true, 'driver': drivers_test})\n",
    "    results_df = results_df.sort_values('ActualPosition').set_index('driver')\n",
    "    results_df['Distance'] =np.abs(results_df['PredictedRank'] - results_df['ActualPosition']) \n",
    "    return results_df\n",
    "\n",
    "\n",
    "def evaluate_model(results_df, race_name):\n",
    "    # Evaluate the model\n",
    "    from scipy.stats import spearmanr, kendalltau\n",
    "    from sklearn.metrics import mean_absolute_error\n",
    "\n",
    "    mean_ab_error = mean_absolute_error(results_df['ActualPosition'], results_df['PredictedRank'])\n",
    "    # mse = np.sqrt(np.mean((results_df['ActualPosition'] - results_df['PredictedRank'])**2))\n",
    "    spearman_corr, _ = spearmanr(results_df['PredictedRank'], results_df['ActualPosition'])\n",
    "    # kendall_corr, _ = kendalltau(results_df['PredictedRank'], results_df['ActualPosition'])\n",
    "\n",
    "    return {'Race' : race_name,\n",
    "            'mean_ab_error': mean_ab_error, \n",
    "            'spearman_corr': spearman_corr\n",
    "            }\n",
    "\n",
    "\n",
    "def filter_for_race(race_to_predict=None, driver_list=driver_list, group_size_list=group_size_list, y_list=y_list, X_list=X_list, race_ids=race_ids):\n",
    "    print(f\"Filtering for race: {race_to_predict}\")\n",
    "    print(f\"Number of races in data: {len(X_list)}\")\n",
    "\n",
    "    if race_to_predict is None or race_to_predict > len(X_list):\n",
    "        raise ValueError(f\"Invalid race_to_predict value: {race_to_predict}\")\n",
    "\n",
    "    try:\n",
    "        drivers_combined = np.concatenate(driver_list[:race_to_predict+1])\n",
    "        group_size_list = np.array(group_size_list[:race_to_predict+1])\n",
    "        y_combined = np.concatenate(y_list[:race_to_predict+1])\n",
    "        X_combined = np.concatenate(X_list[:race_to_predict+1])\n",
    "        race_ids_combined = np.concatenate(race_ids[:race_to_predict+1])\n",
    "\n",
    "        print(f\"Shapes after concatenation:\")\n",
    "        print(f\"drivers_combined: {drivers_combined.shape}\")\n",
    "        print(f\"y_combined: {y_combined.shape}\")\n",
    "        print(f\"X_combined: {X_combined.shape}\")\n",
    "        print(f\"race_ids_combined: {race_ids_combined.shape}\")\n",
    "\n",
    "        return drivers_combined, y_combined, X_combined, race_ids_combined, group_size_list\n",
    "\n",
    "    except ValueError as e:\n",
    "        print(f\"Error in concatenation: {e}\")\n",
    "        print(f\"Lengths of lists:\")\n",
    "        print(f\"driver_list: {len(driver_list)}\")\n",
    "        print(f\"group_size_list: {len(group_size_list)}\")\n",
    "        print(f\"y_list: {len(y_list)}\")\n",
    "        print(f\"X_list: {len(X_list)}\")\n",
    "        print(f\"race_ids: {len(race_ids)}\")\n",
    "        raise\n",
    "\n",
    "# plot data for model\n",
    "def display_results(summary):\n",
    "    # bar chart where x is the event name, and the y values are all the scores\n",
    "    summary_df = pd.DataFrame(summary).set_index('Race')\n",
    "    print('Means:')\n",
    "    print(summary_df.mean())\n",
    "    results = schedule[['RoundNumber', 'EventName']].merge(summary_df, left_on='EventName', right_index=True).set_index('EventName')\n",
    "    results.sort_values('RoundNumber', inplace=True)\n",
    "    results.drop(columns='RoundNumber', inplace=True)\n",
    "    fig = go.Figure()\n",
    "    for col in summary_df.columns:\n",
    "        fig.add_trace(go.Bar(x=summary_df.index, y=summary_df[col], name=col))\n",
    "\n",
    "    error = summary_df[['mean_ab_error', 'spearman_corr']]\n",
    "    error['cum_mae'] = summary_df['mean_ab_error'].cumsum() / range(1, len(summary_df) + 1)\n",
    "    error['cum_spearman'] = summary_df['spearman_corr'].cumsum() / range(1, len(summary_df) + 1)\n",
    "\n",
    "    fig.add_trace(go.Scatter(x=summary_df.index, y=error['cum_mae'], mode='lines+markers', name='Cumulative MAE', line=dict(color='blue')))\n",
    "    fig.add_trace(go.Scatter(x=summary_df.index, y=error['cum_spearman'], mode='lines+markers', name='Cumulative Spearman', line=dict(color='red')))\n",
    "    \n",
    "    fig.update_layout(barmode='group', xaxis_title='Event', yaxis_title='Score')\n",
    "    fig.update_layout(title='Model Evaluation Scores by Event')\n",
    "    fig.show()\n",
    "    return summary_df\n"
   ]
  },
  {
   "cell_type": "code",
   "execution_count": 22,
   "metadata": {},
   "outputs": [
    {
     "name": "stdout",
     "output_type": "stream",
     "text": [
      "17 17 17 17 17\n"
     ]
    }
   ],
   "source": [
    "driver_list = []\n",
    "group_size_list = []\n",
    "y_list = []\n",
    "X_list = []\n",
    "race_ids = []\n",
    "\n",
    "scaler = MinMaxScaler()\n",
    "\n",
    "race_id = 0 # will correspond to values in race_names\n",
    "for race in race_data:\n",
    "    # get driver ordering\n",
    "    driver = race['Driver'].values\n",
    "    driver_list.append(driver)\n",
    "    \n",
    "    # get group size\n",
    "    group_size = len(driver)\n",
    "    group_size_list.append(group_size)\n",
    "    \n",
    "    # get preference score\n",
    "    y = race['Position']\n",
    "    y = y.max() - y + 1 # Reverse the order so that the fastest driver has the highest value\n",
    "    y_list.append(y)\n",
    "    \n",
    "    # standardize X\n",
    "    X = race.drop(columns=['Driver', 'Position'])\n",
    "    \n",
    "    # Select only numeric columns\n",
    "    numeric_columns = X.select_dtypes(include=['float64', 'int64']).columns\n",
    "    X_numeric = X[numeric_columns]\n",
    "    \n",
    "    # Scale only the numeric columns\n",
    "    X_scaled = scaler.fit_transform(X_numeric)\n",
    "    \n",
    "    # Create a DataFrame with scaled values\n",
    "    X_scaled_df = pd.DataFrame(X_scaled, columns=numeric_columns, index=X.index)\n",
    "    \n",
    "    X_list.append(X_scaled_df)\n",
    "    \n",
    "    # add race id\n",
    "    race_ids.append([race_id]*group_size)\n",
    "    race_id += 1\n",
    "\n",
    "def filter_for_race(race_to_predict=None, driver_list=driver_list ,group_size_list=group_size_list ,y_list=y_list ,X_list=X_list ,race_ids=race_ids):\n",
    "\n",
    "    drivers_combined = np.concatenate(driver_list[:race_to_predict+1])\n",
    "    group_size_list = np.array(group_size_list[:race_to_predict+1])\n",
    "    y_combined = np.concatenate(y_list[:race_to_predict+1])\n",
    "    X_combined = np.concatenate(X_list[:race_to_predict+1])\n",
    "    race_ids_combined = np.concatenate(race_ids[:race_to_predict+1])\n",
    "\n",
    "\n",
    "    return drivers_combined, y_combined, X_combined, race_ids_combined, group_size_list\n",
    "\n",
    "\n",
    "\n",
    "len(driver_list), len(group_size_list), len(y_list), len(X_list), len(race_ids)\n",
    "\n",
    "\n",
    "print(len(driver_list), len(group_size_list), len(y_list), len(X_list), len(race_ids))"
   ]
  },
  {
   "cell_type": "code",
   "execution_count": 43,
   "metadata": {},
   "outputs": [],
   "source": [
    "import numpy as np\n",
    "import tensorflow as tf\n",
    "from sklearn.preprocessing import StandardScaler\n",
    "from sklearn.metrics import mean_absolute_error\n",
    "from scipy.stats import spearmanr\n",
    "import plotly.graph_objects as go\n",
    "\n",
    "class RankNetPredictor:\n",
    "    def __init__(self):\n",
    "        self.model = None\n",
    "        self.scaler = StandardScaler()\n",
    "\n",
    "    def build_model(self, input_dim):\n",
    "        \"\"\"\n",
    "        Builds the RankNet model using shared layers for pairwise ranking.\n",
    "        \"\"\"\n",
    "        l2_reg = 0.0001\n",
    "        dropout_rate = 0.2\n",
    "        base_network = tf.keras.Sequential([\n",
    "            tf.keras.layers.Dense(64, activation='relu', kernel_regularizer=tf.keras.regularizers.l2(l2_reg)),\n",
    "            tf.keras.layers.Dropout(dropout_rate),\n",
    "            tf.keras.layers.Dense(32, activation='relu', kernel_regularizer=tf.keras.regularizers.l2(l2_reg)),\n",
    "            tf.keras.layers.Dropout(dropout_rate),\n",
    "            tf.keras.layers.Dense(1)  # Single score output\n",
    "        ])\n",
    "        \n",
    "\n",
    "        # Input pairs\n",
    "        input1 = tf.keras.Input(shape=(input_dim,))\n",
    "        input2 = tf.keras.Input(shape=(input_dim,))\n",
    "\n",
    "        # Pass both inputs through the same network\n",
    "        score1 = base_network(input1)\n",
    "        score2 = base_network(input2)\n",
    "\n",
    "        # Calculate the score difference\n",
    "        score_diff = tf.keras.layers.Subtract()([score1, score2])\n",
    "\n",
    "        # Convert to probabilities using a sigmoid\n",
    "        output = tf.keras.layers.Activation('sigmoid')(score_diff)\n",
    "\n",
    "        # Build the model\n",
    "        self.model = tf.keras.Model(inputs=[input1, input2], outputs=output)\n",
    "        self.model.compile(\n",
    "            optimizer=tf.keras.optimizers.Adam(learning_rate=0.001),\n",
    "            loss='binary_crossentropy',\n",
    "            metrics=['accuracy']\n",
    "        )\n",
    "    \n",
    "\n",
    "    def _generate_pairs(self, X, y):\n",
    "        \"\"\"\n",
    "        Generates pairwise data from the training set.\n",
    "        \"\"\"\n",
    "        X1, X2, labels = [], [], []\n",
    "        for i in range(len(y)):\n",
    "            for j in range(len(y)):\n",
    "                if i != j:\n",
    "                    X1.append(X[i])\n",
    "                    X2.append(X[j])\n",
    "                    labels.append(1 if y[i] < y[j] else 0)  # 1 if i ranks higher than j\n",
    "        return np.array(X1), np.array(X2), np.array(labels)\n",
    "\n",
    "    def preprocess_data(self, drivers, y, X, race_ids, race_to_predict):\n",
    "        \"\"\"\n",
    "        Splits data into training and test sets, only using past data for training.\n",
    "        \"\"\"\n",
    "        # Training data includes only past races\n",
    "        train_filter = race_ids < race_to_predict\n",
    "        X_train = X[train_filter]\n",
    "        y_train = y[train_filter]\n",
    "\n",
    "        # Testing data is for the current race\n",
    "        test_filter = race_ids == race_to_predict\n",
    "        X_test = X[test_filter]\n",
    "        y_test = y[test_filter]\n",
    "        drivers_test = drivers[test_filter]\n",
    "\n",
    "        # Scale the features\n",
    "        X_train = self.scaler.fit_transform(X_train)\n",
    "        X_test = self.scaler.transform(X_test)\n",
    "\n",
    "        return X_train, y_train, X_test, y_test, drivers_test\n",
    "\n",
    "    def train(self, X_train, y_train, epochs=30, batch_size=64):\n",
    "        \"\"\"\n",
    "        Trains the RankNet model on pairwise data.\n",
    "        \"\"\"\n",
    "        # Generate pairwise training data\n",
    "        X1_train, X2_train, labels = self._generate_pairs(X_train, y_train)\n",
    "        history = self.model.fit(\n",
    "            [X1_train, X2_train], labels,\n",
    "            epochs=epochs,\n",
    "            batch_size=batch_size,\n",
    "            validation_split=0.2,\n",
    "            verbose=1\n",
    "        )\n",
    "        return history\n",
    "\n",
    "    def predict(self, X):\n",
    "        \"\"\"\n",
    "        Predicts scores for the given feature matrix.\n",
    "        \"\"\"\n",
    "        scores = self.model.predict([X, X])[:, 0]\n",
    "        return scores\n",
    "\n",
    "    def evaluate_model(self, results_df, race_name):\n",
    "        \"\"\"\n",
    "        Evaluates the model's performance for a single race.\n",
    "        \"\"\"\n",
    "        # Remove any remaining NaN values\n",
    "        results_df = results_df.dropna(subset=['ActualPosition', 'PredictedRank'])\n",
    "        \n",
    "        if results_df.empty:\n",
    "            print(f\"Warning: No valid data for race {race_name}\")\n",
    "            return {\n",
    "                'Race': race_name,\n",
    "                'mean_ab_error': np.nan,\n",
    "                'spearman_corr': np.nan\n",
    "            }\n",
    "        \n",
    "        mean_ab_error = mean_absolute_error(results_df['ActualPosition'], results_df['PredictedRank'])\n",
    "        spearman_corr, _ = spearmanr(results_df['PredictedRank'], results_df['ActualPosition'])\n",
    "\n",
    "        return {\n",
    "            'Race': race_name,\n",
    "            'mean_ab_error': mean_ab_error,\n",
    "            'spearman_corr': spearman_corr\n",
    "        }\n",
    "    \n",
    "    # plot data for model\n",
    "    def display_results(self, summary):\n",
    "        # bar chart where x is the event name, and the y values are all the scores\n",
    "        summary_df = pd.DataFrame(summary).set_index('Race')\n",
    "        print('Means:')\n",
    "        print(summary_df.mean())\n",
    "        results = schedule[['RoundNumber', 'EventName']].merge(summary_df, left_on='EventName', right_index=True).set_index('EventName')\n",
    "        results.sort_values('RoundNumber', inplace=True)\n",
    "        results.drop(columns='RoundNumber', inplace=True)\n",
    "        fig = go.Figure()\n",
    "        fig.add_trace(go.Bar(x=summary_df.index, y=summary_df['mean_ab_error'], name='MARE'))\n",
    "        fig.add_trace(go.Bar(x=summary_df.index, y=summary_df['spearman_corr'], name='Spearman'))\n",
    "\n",
    "        error = summary_df[['mean_ab_error', 'spearman_corr']]\n",
    "        error['cum_mae'] = summary_df['mean_ab_error'].cumsum() / range(1, len(summary_df) + 1)\n",
    "        error['cum_spearman'] = summary_df['spearman_corr'].cumsum() / range(1, len(summary_df) + 1)\n",
    "\n",
    "        fig.add_trace(go.Scatter(x=summary_df.index, y=error['cum_mae'], mode='lines+markers', name='Cumulative MARE', line=dict(color='blue')))\n",
    "        fig.add_trace(go.Scatter(x=summary_df.index, y=error['cum_spearman'], mode='lines+markers', name='Cumulative Spearman', line=dict(color='red')))\n",
    "        \n",
    "        fig.update_layout(barmode='group', xaxis_title='Event', yaxis_title='Score')\n",
    "        fig.update_layout(title='Model Evaluation Scores by Event')\n",
    "        fig.show()\n",
    "        return summary_df\n",
    "\n"
   ]
  },
  {
   "cell_type": "code",
   "execution_count": 39,
   "metadata": {},
   "outputs": [
    {
     "name": "stdout",
     "output_type": "stream",
     "text": [
      "\n",
      "Processing race 1\n",
      "Training data shape: (20, 13)\n",
      "Test data shape: (20, 13)\n",
      "Epoch 1/30\n",
      "\u001b[1m19/19\u001b[0m \u001b[32m━━━━━━━━━━━━━━━━━━━━\u001b[0m\u001b[37m\u001b[0m \u001b[1m1s\u001b[0m 9ms/step - accuracy: 0.5073 - loss: 0.7011 - val_accuracy: 0.8553 - val_loss: 0.6312\n",
      "Epoch 2/30\n",
      "\u001b[1m19/19\u001b[0m \u001b[32m━━━━━━━━━━━━━━━━━━━━\u001b[0m\u001b[37m\u001b[0m \u001b[1m0s\u001b[0m 2ms/step - accuracy: 0.7197 - loss: 0.6354 - val_accuracy: 0.8421 - val_loss: 0.5591\n",
      "Epoch 3/30\n",
      "\u001b[1m19/19\u001b[0m \u001b[32m━━━━━━━━━━━━━━━━━━━━\u001b[0m\u001b[37m\u001b[0m \u001b[1m0s\u001b[0m 2ms/step - accuracy: 0.7258 - loss: 0.5798 - val_accuracy: 0.8421 - val_loss: 0.4981\n",
      "Epoch 4/30\n",
      "\u001b[1m19/19\u001b[0m \u001b[32m━━━━━━━━━━━━━━━━━━━━\u001b[0m\u001b[37m\u001b[0m \u001b[1m0s\u001b[0m 2ms/step - accuracy: 0.7815 - loss: 0.5226 - val_accuracy: 0.8684 - val_loss: 0.4433\n",
      "Epoch 5/30\n",
      "\u001b[1m19/19\u001b[0m \u001b[32m━━━━━━━━━━━━━━━━━━━━\u001b[0m\u001b[37m\u001b[0m \u001b[1m0s\u001b[0m 2ms/step - accuracy: 0.7938 - loss: 0.4890 - val_accuracy: 0.8421 - val_loss: 0.4051\n",
      "Epoch 6/30\n",
      "\u001b[1m19/19\u001b[0m \u001b[32m━━━━━━━━━━━━━━━━━━━━\u001b[0m\u001b[37m\u001b[0m \u001b[1m0s\u001b[0m 2ms/step - accuracy: 0.8029 - loss: 0.4404 - val_accuracy: 0.8947 - val_loss: 0.3640\n",
      "Epoch 7/30\n",
      "\u001b[1m19/19\u001b[0m \u001b[32m━━━━━━━━━━━━━━━━━━━━\u001b[0m\u001b[37m\u001b[0m \u001b[1m0s\u001b[0m 2ms/step - accuracy: 0.8149 - loss: 0.4027 - val_accuracy: 0.8816 - val_loss: 0.3342\n",
      "Epoch 8/30\n",
      "\u001b[1m19/19\u001b[0m \u001b[32m━━━━━━━━━━━━━━━━━━━━\u001b[0m\u001b[37m\u001b[0m \u001b[1m0s\u001b[0m 2ms/step - accuracy: 0.8646 - loss: 0.3698 - val_accuracy: 0.8816 - val_loss: 0.3150\n",
      "Epoch 9/30\n",
      "\u001b[1m19/19\u001b[0m \u001b[32m━━━━━━━━━━━━━━━━━━━━\u001b[0m\u001b[37m\u001b[0m \u001b[1m0s\u001b[0m 3ms/step - accuracy: 0.8467 - loss: 0.3629 - val_accuracy: 0.8421 - val_loss: 0.3114\n",
      "Epoch 10/30\n",
      "\u001b[1m19/19\u001b[0m \u001b[32m━━━━━━━━━━━━━━━━━━━━\u001b[0m\u001b[37m\u001b[0m \u001b[1m0s\u001b[0m 2ms/step - accuracy: 0.8737 - loss: 0.3199 - val_accuracy: 0.8421 - val_loss: 0.2948\n",
      "Epoch 11/30\n",
      "\u001b[1m19/19\u001b[0m \u001b[32m━━━━━━━━━━━━━━━━━━━━\u001b[0m\u001b[37m\u001b[0m \u001b[1m0s\u001b[0m 3ms/step - accuracy: 0.8356 - loss: 0.3781 - val_accuracy: 0.8947 - val_loss: 0.2842\n",
      "Epoch 12/30\n",
      "\u001b[1m19/19\u001b[0m \u001b[32m━━━━━━━━━━━━━━━━━━━━\u001b[0m\u001b[37m\u001b[0m \u001b[1m0s\u001b[0m 2ms/step - accuracy: 0.8688 - loss: 0.3052 - val_accuracy: 0.8947 - val_loss: 0.2671\n",
      "Epoch 13/30\n",
      "\u001b[1m19/19\u001b[0m \u001b[32m━━━━━━━━━━━━━━━━━━━━\u001b[0m\u001b[37m\u001b[0m \u001b[1m0s\u001b[0m 2ms/step - accuracy: 0.8514 - loss: 0.3357 - val_accuracy: 0.9079 - val_loss: 0.2675\n",
      "Epoch 14/30\n",
      "\u001b[1m19/19\u001b[0m \u001b[32m━━━━━━━━━━━━━━━━━━━━\u001b[0m\u001b[37m\u001b[0m \u001b[1m0s\u001b[0m 2ms/step - accuracy: 0.8530 - loss: 0.3319 - val_accuracy: 0.9079 - val_loss: 0.2738\n",
      "Epoch 15/30\n",
      "\u001b[1m19/19\u001b[0m \u001b[32m━━━━━━━━━━━━━━━━━━━━\u001b[0m\u001b[37m\u001b[0m \u001b[1m0s\u001b[0m 2ms/step - accuracy: 0.8650 - loss: 0.3116 - val_accuracy: 0.9211 - val_loss: 0.2604\n",
      "Epoch 16/30\n",
      "\u001b[1m19/19\u001b[0m \u001b[32m━━━━━━━━━━━━━━━━━━━━\u001b[0m\u001b[37m\u001b[0m \u001b[1m0s\u001b[0m 2ms/step - accuracy: 0.8545 - loss: 0.2984 - val_accuracy: 0.9211 - val_loss: 0.2570\n",
      "Epoch 17/30\n",
      "\u001b[1m19/19\u001b[0m \u001b[32m━━━━━━━━━━━━━━━━━━━━\u001b[0m\u001b[37m\u001b[0m \u001b[1m0s\u001b[0m 2ms/step - accuracy: 0.8704 - loss: 0.2866 - val_accuracy: 0.9342 - val_loss: 0.2477\n",
      "Epoch 18/30\n",
      "\u001b[1m19/19\u001b[0m \u001b[32m━━━━━━━━━━━━━━━━━━━━\u001b[0m\u001b[37m\u001b[0m \u001b[1m0s\u001b[0m 2ms/step - accuracy: 0.8668 - loss: 0.2911 - val_accuracy: 0.9211 - val_loss: 0.2416\n",
      "Epoch 19/30\n",
      "\u001b[1m19/19\u001b[0m \u001b[32m━━━━━━━━━━━━━━━━━━━━\u001b[0m\u001b[37m\u001b[0m \u001b[1m0s\u001b[0m 2ms/step - accuracy: 0.8399 - loss: 0.3244 - val_accuracy: 0.9342 - val_loss: 0.2425\n",
      "Epoch 20/30\n",
      "\u001b[1m19/19\u001b[0m \u001b[32m━━━━━━━━━━━━━━━━━━━━\u001b[0m\u001b[37m\u001b[0m \u001b[1m0s\u001b[0m 2ms/step - accuracy: 0.8542 - loss: 0.2895 - val_accuracy: 0.9342 - val_loss: 0.2433\n",
      "Epoch 21/30\n",
      "\u001b[1m19/19\u001b[0m \u001b[32m━━━━━━━━━━━━━━━━━━━━\u001b[0m\u001b[37m\u001b[0m \u001b[1m0s\u001b[0m 2ms/step - accuracy: 0.8476 - loss: 0.2955 - val_accuracy: 0.9211 - val_loss: 0.2363\n",
      "Epoch 22/30\n",
      "\u001b[1m19/19\u001b[0m \u001b[32m━━━━━━━━━━━━━━━━━━━━\u001b[0m\u001b[37m\u001b[0m \u001b[1m0s\u001b[0m 2ms/step - accuracy: 0.8975 - loss: 0.2662 - val_accuracy: 0.9342 - val_loss: 0.2307\n",
      "Epoch 23/30\n",
      "\u001b[1m19/19\u001b[0m \u001b[32m━━━━━━━━━━━━━━━━━━━━\u001b[0m\u001b[37m\u001b[0m \u001b[1m0s\u001b[0m 2ms/step - accuracy: 0.8651 - loss: 0.2761 - val_accuracy: 0.9342 - val_loss: 0.2312\n",
      "Epoch 24/30\n",
      "\u001b[1m19/19\u001b[0m \u001b[32m━━━━━━━━━━━━━━━━━━━━\u001b[0m\u001b[37m\u001b[0m \u001b[1m0s\u001b[0m 2ms/step - accuracy: 0.8839 - loss: 0.2730 - val_accuracy: 0.9342 - val_loss: 0.2296\n",
      "Epoch 25/30\n",
      "\u001b[1m19/19\u001b[0m \u001b[32m━━━━━━━━━━━━━━━━━━━━\u001b[0m\u001b[37m\u001b[0m \u001b[1m0s\u001b[0m 2ms/step - accuracy: 0.9173 - loss: 0.2522 - val_accuracy: 0.9342 - val_loss: 0.2284\n",
      "Epoch 26/30\n",
      "\u001b[1m19/19\u001b[0m \u001b[32m━━━━━━━━━━━━━━━━━━━━\u001b[0m\u001b[37m\u001b[0m \u001b[1m0s\u001b[0m 2ms/step - accuracy: 0.9008 - loss: 0.2381 - val_accuracy: 0.9474 - val_loss: 0.2159\n",
      "Epoch 27/30\n",
      "\u001b[1m19/19\u001b[0m \u001b[32m━━━━━━━━━━━━━━━━━━━━\u001b[0m\u001b[37m\u001b[0m \u001b[1m0s\u001b[0m 2ms/step - accuracy: 0.8870 - loss: 0.2744 - val_accuracy: 0.9342 - val_loss: 0.2059\n",
      "Epoch 28/30\n",
      "\u001b[1m19/19\u001b[0m \u001b[32m━━━━━━━━━━━━━━━━━━━━\u001b[0m\u001b[37m\u001b[0m \u001b[1m0s\u001b[0m 2ms/step - accuracy: 0.8667 - loss: 0.2569 - val_accuracy: 0.9342 - val_loss: 0.2080\n",
      "Epoch 29/30\n",
      "\u001b[1m19/19\u001b[0m \u001b[32m━━━━━━━━━━━━━━━━━━━━\u001b[0m\u001b[37m\u001b[0m \u001b[1m0s\u001b[0m 2ms/step - accuracy: 0.8615 - loss: 0.2743 - val_accuracy: 0.9342 - val_loss: 0.2039\n",
      "Epoch 30/30\n",
      "\u001b[1m19/19\u001b[0m \u001b[32m━━━━━━━━━━━━━━━━━━━━\u001b[0m\u001b[37m\u001b[0m \u001b[1m0s\u001b[0m 2ms/step - accuracy: 0.8975 - loss: 0.2429 - val_accuracy: 0.9342 - val_loss: 0.2167\n",
      "\u001b[1m1/1\u001b[0m \u001b[32m━━━━━━━━━━━━━━━━━━━━\u001b[0m\u001b[37m\u001b[0m \u001b[1m0s\u001b[0m 47ms/step\n",
      "\n",
      "Processing race 2\n",
      "Training data shape: (40, 13)\n",
      "Test data shape: (19, 13)\n",
      "Epoch 1/30\n",
      "\u001b[1m78/78\u001b[0m \u001b[32m━━━━━━━━━━━━━━━━━━━━\u001b[0m\u001b[37m\u001b[0m \u001b[1m0s\u001b[0m 1ms/step - accuracy: 0.5228 - loss: nan - val_accuracy: 0.5064 - val_loss: nan\n",
      "Epoch 2/30\n",
      "\u001b[1m78/78\u001b[0m \u001b[32m━━━━━━━━━━━━━━━━━━━━\u001b[0m\u001b[37m\u001b[0m \u001b[1m0s\u001b[0m 933us/step - accuracy: 0.5333 - loss: nan - val_accuracy: 0.5064 - val_loss: nan\n",
      "Epoch 3/30\n",
      "\u001b[1m78/78\u001b[0m \u001b[32m━━━━━━━━━━━━━━━━━━━━\u001b[0m\u001b[37m\u001b[0m \u001b[1m0s\u001b[0m 922us/step - accuracy: 0.5372 - loss: nan - val_accuracy: 0.5064 - val_loss: nan\n",
      "Epoch 4/30\n",
      "\u001b[1m78/78\u001b[0m \u001b[32m━━━━━━━━━━━━━━━━━━━━\u001b[0m\u001b[37m\u001b[0m \u001b[1m0s\u001b[0m 940us/step - accuracy: 0.5025 - loss: nan - val_accuracy: 0.5064 - val_loss: nan\n",
      "Epoch 5/30\n",
      "\u001b[1m78/78\u001b[0m \u001b[32m━━━━━━━━━━━━━━━━━━━━\u001b[0m\u001b[37m\u001b[0m \u001b[1m0s\u001b[0m 939us/step - accuracy: 0.5087 - loss: nan - val_accuracy: 0.5064 - val_loss: nan\n",
      "Epoch 6/30\n",
      "\u001b[1m78/78\u001b[0m \u001b[32m━━━━━━━━━━━━━━━━━━━━\u001b[0m\u001b[37m\u001b[0m \u001b[1m0s\u001b[0m 1ms/step - accuracy: 0.5188 - loss: nan - val_accuracy: 0.5064 - val_loss: nan\n",
      "Epoch 7/30\n",
      "\u001b[1m78/78\u001b[0m \u001b[32m━━━━━━━━━━━━━━━━━━━━\u001b[0m\u001b[37m\u001b[0m \u001b[1m0s\u001b[0m 935us/step - accuracy: 0.5056 - loss: nan - val_accuracy: 0.5064 - val_loss: nan\n",
      "Epoch 8/30\n",
      "\u001b[1m78/78\u001b[0m \u001b[32m━━━━━━━━━━━━━━━━━━━━\u001b[0m\u001b[37m\u001b[0m \u001b[1m0s\u001b[0m 895us/step - accuracy: 0.5326 - loss: nan - val_accuracy: 0.5064 - val_loss: nan\n",
      "Epoch 9/30\n",
      "\u001b[1m78/78\u001b[0m \u001b[32m━━━━━━━━━━━━━━━━━━━━\u001b[0m\u001b[37m\u001b[0m \u001b[1m0s\u001b[0m 896us/step - accuracy: 0.5160 - loss: nan - val_accuracy: 0.5064 - val_loss: nan\n",
      "Epoch 10/30\n",
      "\u001b[1m78/78\u001b[0m \u001b[32m━━━━━━━━━━━━━━━━━━━━\u001b[0m\u001b[37m\u001b[0m \u001b[1m0s\u001b[0m 895us/step - accuracy: 0.5110 - loss: nan - val_accuracy: 0.5064 - val_loss: nan\n",
      "Epoch 11/30\n",
      "\u001b[1m78/78\u001b[0m \u001b[32m━━━━━━━━━━━━━━━━━━━━\u001b[0m\u001b[37m\u001b[0m \u001b[1m0s\u001b[0m 918us/step - accuracy: 0.5147 - loss: nan - val_accuracy: 0.5064 - val_loss: nan\n",
      "Epoch 12/30\n",
      "\u001b[1m78/78\u001b[0m \u001b[32m━━━━━━━━━━━━━━━━━━━━\u001b[0m\u001b[37m\u001b[0m \u001b[1m0s\u001b[0m 1ms/step - accuracy: 0.5198 - loss: nan - val_accuracy: 0.5064 - val_loss: nan\n",
      "Epoch 13/30\n",
      "\u001b[1m78/78\u001b[0m \u001b[32m━━━━━━━━━━━━━━━━━━━━\u001b[0m\u001b[37m\u001b[0m \u001b[1m0s\u001b[0m 1ms/step - accuracy: 0.5197 - loss: nan - val_accuracy: 0.5064 - val_loss: nan\n",
      "Epoch 14/30\n",
      "\u001b[1m78/78\u001b[0m \u001b[32m━━━━━━━━━━━━━━━━━━━━\u001b[0m\u001b[37m\u001b[0m \u001b[1m0s\u001b[0m 938us/step - accuracy: 0.4914 - loss: nan - val_accuracy: 0.5064 - val_loss: nan\n",
      "Epoch 15/30\n",
      "\u001b[1m78/78\u001b[0m \u001b[32m━━━━━━━━━━━━━━━━━━━━\u001b[0m\u001b[37m\u001b[0m \u001b[1m0s\u001b[0m 878us/step - accuracy: 0.5238 - loss: nan - val_accuracy: 0.5064 - val_loss: nan\n",
      "Epoch 16/30\n",
      "\u001b[1m78/78\u001b[0m \u001b[32m━━━━━━━━━━━━━━━━━━━━\u001b[0m\u001b[37m\u001b[0m \u001b[1m0s\u001b[0m 1ms/step - accuracy: 0.5317 - loss: nan - val_accuracy: 0.5064 - val_loss: nan\n",
      "Epoch 17/30\n",
      "\u001b[1m78/78\u001b[0m \u001b[32m━━━━━━━━━━━━━━━━━━━━\u001b[0m\u001b[37m\u001b[0m \u001b[1m0s\u001b[0m 868us/step - accuracy: 0.5301 - loss: nan - val_accuracy: 0.5064 - val_loss: nan\n",
      "Epoch 18/30\n",
      "\u001b[1m78/78\u001b[0m \u001b[32m━━━━━━━━━━━━━━━━━━━━\u001b[0m\u001b[37m\u001b[0m \u001b[1m0s\u001b[0m 876us/step - accuracy: 0.5137 - loss: nan - val_accuracy: 0.5064 - val_loss: nan\n",
      "Epoch 19/30\n",
      "\u001b[1m78/78\u001b[0m \u001b[32m━━━━━━━━━━━━━━━━━━━━\u001b[0m\u001b[37m\u001b[0m \u001b[1m0s\u001b[0m 877us/step - accuracy: 0.5220 - loss: nan - val_accuracy: 0.5064 - val_loss: nan\n",
      "Epoch 20/30\n",
      "\u001b[1m78/78\u001b[0m \u001b[32m━━━━━━━━━━━━━━━━━━━━\u001b[0m\u001b[37m\u001b[0m \u001b[1m0s\u001b[0m 868us/step - accuracy: 0.5208 - loss: nan - val_accuracy: 0.5064 - val_loss: nan\n",
      "Epoch 21/30\n",
      "\u001b[1m78/78\u001b[0m \u001b[32m━━━━━━━━━━━━━━━━━━━━\u001b[0m\u001b[37m\u001b[0m \u001b[1m0s\u001b[0m 871us/step - accuracy: 0.5191 - loss: nan - val_accuracy: 0.5064 - val_loss: nan\n",
      "Epoch 22/30\n",
      "\u001b[1m78/78\u001b[0m \u001b[32m━━━━━━━━━━━━━━━━━━━━\u001b[0m\u001b[37m\u001b[0m \u001b[1m0s\u001b[0m 878us/step - accuracy: 0.5230 - loss: nan - val_accuracy: 0.5064 - val_loss: nan\n",
      "Epoch 23/30\n",
      "\u001b[1m78/78\u001b[0m \u001b[32m━━━━━━━━━━━━━━━━━━━━\u001b[0m\u001b[37m\u001b[0m \u001b[1m0s\u001b[0m 870us/step - accuracy: 0.5132 - loss: nan - val_accuracy: 0.5064 - val_loss: nan\n",
      "Epoch 24/30\n",
      "\u001b[1m78/78\u001b[0m \u001b[32m━━━━━━━━━━━━━━━━━━━━\u001b[0m\u001b[37m\u001b[0m \u001b[1m0s\u001b[0m 870us/step - accuracy: 0.5071 - loss: nan - val_accuracy: 0.5064 - val_loss: nan\n",
      "Epoch 25/30\n",
      "\u001b[1m78/78\u001b[0m \u001b[32m━━━━━━━━━━━━━━━━━━━━\u001b[0m\u001b[37m\u001b[0m \u001b[1m0s\u001b[0m 865us/step - accuracy: 0.5023 - loss: nan - val_accuracy: 0.5064 - val_loss: nan\n",
      "Epoch 26/30\n",
      "\u001b[1m78/78\u001b[0m \u001b[32m━━━━━━━━━━━━━━━━━━━━\u001b[0m\u001b[37m\u001b[0m \u001b[1m0s\u001b[0m 867us/step - accuracy: 0.5217 - loss: nan - val_accuracy: 0.5064 - val_loss: nan\n",
      "Epoch 27/30\n",
      "\u001b[1m78/78\u001b[0m \u001b[32m━━━━━━━━━━━━━━━━━━━━\u001b[0m\u001b[37m\u001b[0m \u001b[1m0s\u001b[0m 865us/step - accuracy: 0.5247 - loss: nan - val_accuracy: 0.5064 - val_loss: nan\n",
      "Epoch 28/30\n",
      "\u001b[1m78/78\u001b[0m \u001b[32m━━━━━━━━━━━━━━━━━━━━\u001b[0m\u001b[37m\u001b[0m \u001b[1m0s\u001b[0m 860us/step - accuracy: 0.5202 - loss: nan - val_accuracy: 0.5064 - val_loss: nan\n",
      "Epoch 29/30\n",
      "\u001b[1m78/78\u001b[0m \u001b[32m━━━━━━━━━━━━━━━━━━━━\u001b[0m\u001b[37m\u001b[0m \u001b[1m0s\u001b[0m 864us/step - accuracy: 0.5449 - loss: nan - val_accuracy: 0.5064 - val_loss: nan\n",
      "Epoch 30/30\n",
      "\u001b[1m78/78\u001b[0m \u001b[32m━━━━━━━━━━━━━━━━━━━━\u001b[0m\u001b[37m\u001b[0m \u001b[1m0s\u001b[0m 892us/step - accuracy: 0.5168 - loss: nan - val_accuracy: 0.5064 - val_loss: nan\n",
      "\u001b[1m1/1\u001b[0m \u001b[32m━━━━━━━━━━━━━━━━━━━━\u001b[0m\u001b[37m\u001b[0m \u001b[1m0s\u001b[0m 49ms/step\n",
      "\n",
      "Processing race 3\n",
      "Training data shape: (59, 13)\n",
      "Test data shape: (20, 13)\n",
      "Epoch 1/30\n",
      "\u001b[1m172/172\u001b[0m \u001b[32m━━━━━━━━━━━━━━━━━━━━\u001b[0m\u001b[37m\u001b[0m \u001b[1m1s\u001b[0m 938us/step - accuracy: 0.5020 - loss: nan - val_accuracy: 0.5635 - val_loss: nan\n",
      "Epoch 2/30\n",
      "\u001b[1m172/172\u001b[0m \u001b[32m━━━━━━━━━━━━━━━━━━━━\u001b[0m\u001b[37m\u001b[0m \u001b[1m0s\u001b[0m 768us/step - accuracy: 0.5182 - loss: nan - val_accuracy: 0.5635 - val_loss: nan\n",
      "Epoch 3/30\n",
      "\u001b[1m172/172\u001b[0m \u001b[32m━━━━━━━━━━━━━━━━━━━━\u001b[0m\u001b[37m\u001b[0m \u001b[1m0s\u001b[0m 773us/step - accuracy: 0.4987 - loss: nan - val_accuracy: 0.5635 - val_loss: nan\n",
      "Epoch 4/30\n",
      "\u001b[1m172/172\u001b[0m \u001b[32m━━━━━━━━━━━━━━━━━━━━\u001b[0m\u001b[37m\u001b[0m \u001b[1m0s\u001b[0m 854us/step - accuracy: 0.4996 - loss: nan - val_accuracy: 0.5635 - val_loss: nan\n",
      "Epoch 5/30\n",
      "\u001b[1m172/172\u001b[0m \u001b[32m━━━━━━━━━━━━━━━━━━━━\u001b[0m\u001b[37m\u001b[0m \u001b[1m0s\u001b[0m 766us/step - accuracy: 0.5070 - loss: nan - val_accuracy: 0.5635 - val_loss: nan\n",
      "Epoch 6/30\n",
      "\u001b[1m172/172\u001b[0m \u001b[32m━━━━━━━━━━━━━━━━━━━━\u001b[0m\u001b[37m\u001b[0m \u001b[1m0s\u001b[0m 784us/step - accuracy: 0.5150 - loss: nan - val_accuracy: 0.5635 - val_loss: nan\n",
      "Epoch 7/30\n",
      "\u001b[1m172/172\u001b[0m \u001b[32m━━━━━━━━━━━━━━━━━━━━\u001b[0m\u001b[37m\u001b[0m \u001b[1m0s\u001b[0m 771us/step - accuracy: 0.5020 - loss: nan - val_accuracy: 0.5635 - val_loss: nan\n",
      "Epoch 8/30\n",
      "\u001b[1m172/172\u001b[0m \u001b[32m━━━━━━━━━━━━━━━━━━━━\u001b[0m\u001b[37m\u001b[0m \u001b[1m0s\u001b[0m 804us/step - accuracy: 0.5035 - loss: nan - val_accuracy: 0.5635 - val_loss: nan\n",
      "Epoch 9/30\n",
      "\u001b[1m172/172\u001b[0m \u001b[32m━━━━━━━━━━━━━━━━━━━━\u001b[0m\u001b[37m\u001b[0m \u001b[1m0s\u001b[0m 819us/step - accuracy: 0.5028 - loss: nan - val_accuracy: 0.5635 - val_loss: nan\n",
      "Epoch 10/30\n",
      "\u001b[1m172/172\u001b[0m \u001b[32m━━━━━━━━━━━━━━━━━━━━\u001b[0m\u001b[37m\u001b[0m \u001b[1m0s\u001b[0m 786us/step - accuracy: 0.5065 - loss: nan - val_accuracy: 0.5635 - val_loss: nan\n",
      "Epoch 11/30\n",
      "\u001b[1m172/172\u001b[0m \u001b[32m━━━━━━━━━━━━━━━━━━━━\u001b[0m\u001b[37m\u001b[0m \u001b[1m0s\u001b[0m 796us/step - accuracy: 0.5128 - loss: nan - val_accuracy: 0.5635 - val_loss: nan\n",
      "Epoch 12/30\n",
      "\u001b[1m172/172\u001b[0m \u001b[32m━━━━━━━━━━━━━━━━━━━━\u001b[0m\u001b[37m\u001b[0m \u001b[1m0s\u001b[0m 790us/step - accuracy: 0.5174 - loss: nan - val_accuracy: 0.5635 - val_loss: nan\n",
      "Epoch 13/30\n",
      "\u001b[1m172/172\u001b[0m \u001b[32m━━━━━━━━━━━━━━━━━━━━\u001b[0m\u001b[37m\u001b[0m \u001b[1m0s\u001b[0m 780us/step - accuracy: 0.4917 - loss: nan - val_accuracy: 0.5635 - val_loss: nan\n",
      "Epoch 14/30\n",
      "\u001b[1m172/172\u001b[0m \u001b[32m━━━━━━━━━━━━━━━━━━━━\u001b[0m\u001b[37m\u001b[0m \u001b[1m0s\u001b[0m 785us/step - accuracy: 0.4988 - loss: nan - val_accuracy: 0.5635 - val_loss: nan\n",
      "Epoch 15/30\n",
      "\u001b[1m172/172\u001b[0m \u001b[32m━━━━━━━━━━━━━━━━━━━━\u001b[0m\u001b[37m\u001b[0m \u001b[1m0s\u001b[0m 802us/step - accuracy: 0.5062 - loss: nan - val_accuracy: 0.5635 - val_loss: nan\n",
      "Epoch 16/30\n",
      "\u001b[1m172/172\u001b[0m \u001b[32m━━━━━━━━━━━━━━━━━━━━\u001b[0m\u001b[37m\u001b[0m \u001b[1m0s\u001b[0m 894us/step - accuracy: 0.4985 - loss: nan - val_accuracy: 0.5635 - val_loss: nan\n",
      "Epoch 17/30\n",
      "\u001b[1m172/172\u001b[0m \u001b[32m━━━━━━━━━━━━━━━━━━━━\u001b[0m\u001b[37m\u001b[0m \u001b[1m0s\u001b[0m 869us/step - accuracy: 0.4943 - loss: nan - val_accuracy: 0.5635 - val_loss: nan\n",
      "Epoch 18/30\n",
      "\u001b[1m172/172\u001b[0m \u001b[32m━━━━━━━━━━━━━━━━━━━━\u001b[0m\u001b[37m\u001b[0m \u001b[1m0s\u001b[0m 867us/step - accuracy: 0.4991 - loss: nan - val_accuracy: 0.5635 - val_loss: nan\n",
      "Epoch 19/30\n",
      "\u001b[1m172/172\u001b[0m \u001b[32m━━━━━━━━━━━━━━━━━━━━\u001b[0m\u001b[37m\u001b[0m \u001b[1m0s\u001b[0m 922us/step - accuracy: 0.5152 - loss: nan - val_accuracy: 0.5635 - val_loss: nan\n",
      "Epoch 20/30\n",
      "\u001b[1m172/172\u001b[0m \u001b[32m━━━━━━━━━━━━━━━━━━━━\u001b[0m\u001b[37m\u001b[0m \u001b[1m0s\u001b[0m 1ms/step - accuracy: 0.5020 - loss: nan - val_accuracy: 0.5635 - val_loss: nan\n",
      "Epoch 21/30\n",
      "\u001b[1m172/172\u001b[0m \u001b[32m━━━━━━━━━━━━━━━━━━━━\u001b[0m\u001b[37m\u001b[0m \u001b[1m0s\u001b[0m 1ms/step - accuracy: 0.5089 - loss: nan - val_accuracy: 0.5635 - val_loss: nan\n",
      "Epoch 22/30\n",
      "\u001b[1m172/172\u001b[0m \u001b[32m━━━━━━━━━━━━━━━━━━━━\u001b[0m\u001b[37m\u001b[0m \u001b[1m0s\u001b[0m 1ms/step - accuracy: 0.5156 - loss: nan - val_accuracy: 0.5635 - val_loss: nan\n",
      "Epoch 23/30\n",
      "\u001b[1m172/172\u001b[0m \u001b[32m━━━━━━━━━━━━━━━━━━━━\u001b[0m\u001b[37m\u001b[0m \u001b[1m0s\u001b[0m 868us/step - accuracy: 0.5079 - loss: nan - val_accuracy: 0.5635 - val_loss: nan\n",
      "Epoch 24/30\n",
      "\u001b[1m172/172\u001b[0m \u001b[32m━━━━━━━━━━━━━━━━━━━━\u001b[0m\u001b[37m\u001b[0m \u001b[1m0s\u001b[0m 779us/step - accuracy: 0.5055 - loss: nan - val_accuracy: 0.5635 - val_loss: nan\n",
      "Epoch 25/30\n",
      "\u001b[1m172/172\u001b[0m \u001b[32m━━━━━━━━━━━━━━━━━━━━\u001b[0m\u001b[37m\u001b[0m \u001b[1m0s\u001b[0m 794us/step - accuracy: 0.5020 - loss: nan - val_accuracy: 0.5635 - val_loss: nan\n",
      "Epoch 26/30\n",
      "\u001b[1m172/172\u001b[0m \u001b[32m━━━━━━━━━━━━━━━━━━━━\u001b[0m\u001b[37m\u001b[0m \u001b[1m0s\u001b[0m 899us/step - accuracy: 0.4921 - loss: nan - val_accuracy: 0.5635 - val_loss: nan\n",
      "Epoch 27/30\n",
      "\u001b[1m172/172\u001b[0m \u001b[32m━━━━━━━━━━━━━━━━━━━━\u001b[0m\u001b[37m\u001b[0m \u001b[1m0s\u001b[0m 793us/step - accuracy: 0.4982 - loss: nan - val_accuracy: 0.5635 - val_loss: nan\n",
      "Epoch 28/30\n",
      "\u001b[1m172/172\u001b[0m \u001b[32m━━━━━━━━━━━━━━━━━━━━\u001b[0m\u001b[37m\u001b[0m \u001b[1m0s\u001b[0m 790us/step - accuracy: 0.5148 - loss: nan - val_accuracy: 0.5635 - val_loss: nan\n",
      "Epoch 29/30\n",
      "\u001b[1m172/172\u001b[0m \u001b[32m━━━━━━━━━━━━━━━━━━━━\u001b[0m\u001b[37m\u001b[0m \u001b[1m0s\u001b[0m 791us/step - accuracy: 0.4881 - loss: nan - val_accuracy: 0.5635 - val_loss: nan\n",
      "Epoch 30/30\n",
      "\u001b[1m172/172\u001b[0m \u001b[32m━━━━━━━━━━━━━━━━━━━━\u001b[0m\u001b[37m\u001b[0m \u001b[1m0s\u001b[0m 955us/step - accuracy: 0.5159 - loss: nan - val_accuracy: 0.5635 - val_loss: nan\n",
      "\u001b[1m1/1\u001b[0m \u001b[32m━━━━━━━━━━━━━━━━━━━━\u001b[0m\u001b[37m\u001b[0m \u001b[1m0s\u001b[0m 17ms/step\n",
      "\n",
      "Processing race 4\n",
      "Training data shape: (79, 13)\n",
      "Test data shape: (20, 13)\n",
      "Epoch 1/30\n",
      "\u001b[1m309/309\u001b[0m \u001b[32m━━━━━━━━━━━━━━━━━━━━\u001b[0m\u001b[37m\u001b[0m \u001b[1m0s\u001b[0m 970us/step - accuracy: 0.5118 - loss: nan - val_accuracy: 0.5458 - val_loss: nan\n",
      "Epoch 2/30\n",
      "\u001b[1m309/309\u001b[0m \u001b[32m━━━━━━━━━━━━━━━━━━━━\u001b[0m\u001b[37m\u001b[0m \u001b[1m0s\u001b[0m 822us/step - accuracy: 0.5230 - loss: nan - val_accuracy: 0.5458 - val_loss: nan\n",
      "Epoch 3/30\n",
      "\u001b[1m309/309\u001b[0m \u001b[32m━━━━━━━━━━━━━━━━━━━━\u001b[0m\u001b[37m\u001b[0m \u001b[1m0s\u001b[0m 747us/step - accuracy: 0.5165 - loss: nan - val_accuracy: 0.5458 - val_loss: nan\n",
      "Epoch 4/30\n",
      "\u001b[1m309/309\u001b[0m \u001b[32m━━━━━━━━━━━━━━━━━━━━\u001b[0m\u001b[37m\u001b[0m \u001b[1m0s\u001b[0m 951us/step - accuracy: 0.5228 - loss: nan - val_accuracy: 0.5458 - val_loss: nan\n",
      "Epoch 5/30\n",
      "\u001b[1m309/309\u001b[0m \u001b[32m━━━━━━━━━━━━━━━━━━━━\u001b[0m\u001b[37m\u001b[0m \u001b[1m0s\u001b[0m 761us/step - accuracy: 0.5072 - loss: nan - val_accuracy: 0.5458 - val_loss: nan\n",
      "Epoch 6/30\n",
      "\u001b[1m309/309\u001b[0m \u001b[32m━━━━━━━━━━━━━━━━━━━━\u001b[0m\u001b[37m\u001b[0m \u001b[1m0s\u001b[0m 719us/step - accuracy: 0.4986 - loss: nan - val_accuracy: 0.5458 - val_loss: nan\n",
      "Epoch 7/30\n",
      "\u001b[1m309/309\u001b[0m \u001b[32m━━━━━━━━━━━━━━━━━━━━\u001b[0m\u001b[37m\u001b[0m \u001b[1m0s\u001b[0m 720us/step - accuracy: 0.5165 - loss: nan - val_accuracy: 0.5458 - val_loss: nan\n",
      "Epoch 8/30\n",
      "\u001b[1m309/309\u001b[0m \u001b[32m━━━━━━━━━━━━━━━━━━━━\u001b[0m\u001b[37m\u001b[0m \u001b[1m0s\u001b[0m 716us/step - accuracy: 0.5211 - loss: nan - val_accuracy: 0.5458 - val_loss: nan\n",
      "Epoch 9/30\n",
      "\u001b[1m309/309\u001b[0m \u001b[32m━━━━━━━━━━━━━━━━━━━━\u001b[0m\u001b[37m\u001b[0m \u001b[1m0s\u001b[0m 718us/step - accuracy: 0.5128 - loss: nan - val_accuracy: 0.5458 - val_loss: nan\n",
      "Epoch 10/30\n",
      "\u001b[1m309/309\u001b[0m \u001b[32m━━━━━━━━━━━━━━━━━━━━\u001b[0m\u001b[37m\u001b[0m \u001b[1m0s\u001b[0m 777us/step - accuracy: 0.5096 - loss: nan - val_accuracy: 0.5458 - val_loss: nan\n",
      "Epoch 11/30\n",
      "\u001b[1m309/309\u001b[0m \u001b[32m━━━━━━━━━━━━━━━━━━━━\u001b[0m\u001b[37m\u001b[0m \u001b[1m0s\u001b[0m 785us/step - accuracy: 0.5080 - loss: nan - val_accuracy: 0.5458 - val_loss: nan\n",
      "Epoch 12/30\n",
      "\u001b[1m309/309\u001b[0m \u001b[32m━━━━━━━━━━━━━━━━━━━━\u001b[0m\u001b[37m\u001b[0m \u001b[1m0s\u001b[0m 770us/step - accuracy: 0.5106 - loss: nan - val_accuracy: 0.5458 - val_loss: nan\n",
      "Epoch 13/30\n",
      "\u001b[1m309/309\u001b[0m \u001b[32m━━━━━━━━━━━━━━━━━━━━\u001b[0m\u001b[37m\u001b[0m \u001b[1m0s\u001b[0m 782us/step - accuracy: 0.5214 - loss: nan - val_accuracy: 0.5458 - val_loss: nan\n",
      "Epoch 14/30\n",
      "\u001b[1m309/309\u001b[0m \u001b[32m━━━━━━━━━━━━━━━━━━━━\u001b[0m\u001b[37m\u001b[0m \u001b[1m0s\u001b[0m 713us/step - accuracy: 0.5170 - loss: nan - val_accuracy: 0.5458 - val_loss: nan\n",
      "Epoch 15/30\n",
      "\u001b[1m309/309\u001b[0m \u001b[32m━━━━━━━━━━━━━━━━━━━━\u001b[0m\u001b[37m\u001b[0m \u001b[1m0s\u001b[0m 722us/step - accuracy: 0.5115 - loss: nan - val_accuracy: 0.5458 - val_loss: nan\n",
      "Epoch 16/30\n",
      "\u001b[1m309/309\u001b[0m \u001b[32m━━━━━━━━━━━━━━━━━━━━\u001b[0m\u001b[37m\u001b[0m \u001b[1m0s\u001b[0m 727us/step - accuracy: 0.5100 - loss: nan - val_accuracy: 0.5458 - val_loss: nan\n",
      "Epoch 17/30\n",
      "\u001b[1m309/309\u001b[0m \u001b[32m━━━━━━━━━━━━━━━━━━━━\u001b[0m\u001b[37m\u001b[0m \u001b[1m0s\u001b[0m 724us/step - accuracy: 0.5150 - loss: nan - val_accuracy: 0.5458 - val_loss: nan\n",
      "Epoch 18/30\n",
      "\u001b[1m309/309\u001b[0m \u001b[32m━━━━━━━━━━━━━━━━━━━━\u001b[0m\u001b[37m\u001b[0m \u001b[1m0s\u001b[0m 748us/step - accuracy: 0.5118 - loss: nan - val_accuracy: 0.5458 - val_loss: nan\n",
      "Epoch 19/30\n",
      "\u001b[1m309/309\u001b[0m \u001b[32m━━━━━━━━━━━━━━━━━━━━\u001b[0m\u001b[37m\u001b[0m \u001b[1m0s\u001b[0m 729us/step - accuracy: 0.5174 - loss: nan - val_accuracy: 0.5458 - val_loss: nan\n",
      "Epoch 20/30\n",
      "\u001b[1m309/309\u001b[0m \u001b[32m━━━━━━━━━━━━━━━━━━━━\u001b[0m\u001b[37m\u001b[0m \u001b[1m0s\u001b[0m 816us/step - accuracy: 0.5110 - loss: nan - val_accuracy: 0.5458 - val_loss: nan\n",
      "Epoch 21/30\n",
      "\u001b[1m309/309\u001b[0m \u001b[32m━━━━━━━━━━━━━━━━━━━━\u001b[0m\u001b[37m\u001b[0m \u001b[1m0s\u001b[0m 725us/step - accuracy: 0.5106 - loss: nan - val_accuracy: 0.5458 - val_loss: nan\n",
      "Epoch 22/30\n",
      "\u001b[1m309/309\u001b[0m \u001b[32m━━━━━━━━━━━━━━━━━━━━\u001b[0m\u001b[37m\u001b[0m \u001b[1m0s\u001b[0m 710us/step - accuracy: 0.5095 - loss: nan - val_accuracy: 0.5458 - val_loss: nan\n",
      "Epoch 23/30\n",
      "\u001b[1m309/309\u001b[0m \u001b[32m━━━━━━━━━━━━━━━━━━━━\u001b[0m\u001b[37m\u001b[0m \u001b[1m0s\u001b[0m 716us/step - accuracy: 0.5081 - loss: nan - val_accuracy: 0.5458 - val_loss: nan\n",
      "Epoch 24/30\n",
      "\u001b[1m309/309\u001b[0m \u001b[32m━━━━━━━━━━━━━━━━━━━━\u001b[0m\u001b[37m\u001b[0m \u001b[1m0s\u001b[0m 718us/step - accuracy: 0.5269 - loss: nan - val_accuracy: 0.5458 - val_loss: nan\n",
      "Epoch 25/30\n",
      "\u001b[1m309/309\u001b[0m \u001b[32m━━━━━━━━━━━━━━━━━━━━\u001b[0m\u001b[37m\u001b[0m \u001b[1m0s\u001b[0m 722us/step - accuracy: 0.5093 - loss: nan - val_accuracy: 0.5458 - val_loss: nan\n",
      "Epoch 26/30\n",
      "\u001b[1m309/309\u001b[0m \u001b[32m━━━━━━━━━━━━━━━━━━━━\u001b[0m\u001b[37m\u001b[0m \u001b[1m0s\u001b[0m 708us/step - accuracy: 0.5105 - loss: nan - val_accuracy: 0.5458 - val_loss: nan\n",
      "Epoch 27/30\n",
      "\u001b[1m309/309\u001b[0m \u001b[32m━━━━━━━━━━━━━━━━━━━━\u001b[0m\u001b[37m\u001b[0m \u001b[1m0s\u001b[0m 722us/step - accuracy: 0.5162 - loss: nan - val_accuracy: 0.5458 - val_loss: nan\n",
      "Epoch 28/30\n",
      "\u001b[1m309/309\u001b[0m \u001b[32m━━━━━━━━━━━━━━━━━━━━\u001b[0m\u001b[37m\u001b[0m \u001b[1m0s\u001b[0m 846us/step - accuracy: 0.5177 - loss: nan - val_accuracy: 0.5458 - val_loss: nan\n",
      "Epoch 29/30\n",
      "\u001b[1m309/309\u001b[0m \u001b[32m━━━━━━━━━━━━━━━━━━━━\u001b[0m\u001b[37m\u001b[0m \u001b[1m0s\u001b[0m 851us/step - accuracy: 0.5029 - loss: nan - val_accuracy: 0.5458 - val_loss: nan\n",
      "Epoch 30/30\n",
      "\u001b[1m309/309\u001b[0m \u001b[32m━━━━━━━━━━━━━━━━━━━━\u001b[0m\u001b[37m\u001b[0m \u001b[1m0s\u001b[0m 1ms/step - accuracy: 0.5075 - loss: nan - val_accuracy: 0.5458 - val_loss: nan\n",
      "\u001b[1m1/1\u001b[0m \u001b[32m━━━━━━━━━━━━━━━━━━━━\u001b[0m\u001b[37m\u001b[0m \u001b[1m0s\u001b[0m 15ms/step\n",
      "\n",
      "Processing race 5\n",
      "Training data shape: (99, 13)\n",
      "Test data shape: (20, 13)\n",
      "Epoch 1/30\n",
      "\u001b[1m486/486\u001b[0m \u001b[32m━━━━━━━━━━━━━━━━━━━━\u001b[0m\u001b[37m\u001b[0m \u001b[1m0s\u001b[0m 763us/step - accuracy: 0.5151 - loss: nan - val_accuracy: 0.5270 - val_loss: nan\n",
      "Epoch 2/30\n",
      "\u001b[1m486/486\u001b[0m \u001b[32m━━━━━━━━━━━━━━━━━━━━\u001b[0m\u001b[37m\u001b[0m \u001b[1m0s\u001b[0m 698us/step - accuracy: 0.5227 - loss: nan - val_accuracy: 0.5270 - val_loss: nan\n",
      "Epoch 3/30\n",
      "\u001b[1m486/486\u001b[0m \u001b[32m━━━━━━━━━━━━━━━━━━━━\u001b[0m\u001b[37m\u001b[0m \u001b[1m0s\u001b[0m 811us/step - accuracy: 0.5298 - loss: nan - val_accuracy: 0.5270 - val_loss: nan\n",
      "Epoch 4/30\n",
      "\u001b[1m486/486\u001b[0m \u001b[32m━━━━━━━━━━━━━━━━━━━━\u001b[0m\u001b[37m\u001b[0m \u001b[1m0s\u001b[0m 735us/step - accuracy: 0.5175 - loss: nan - val_accuracy: 0.5270 - val_loss: nan\n",
      "Epoch 5/30\n",
      "\u001b[1m486/486\u001b[0m \u001b[32m━━━━━━━━━━━━━━━━━━━━\u001b[0m\u001b[37m\u001b[0m \u001b[1m0s\u001b[0m 697us/step - accuracy: 0.5266 - loss: nan - val_accuracy: 0.5270 - val_loss: nan\n",
      "Epoch 6/30\n",
      "\u001b[1m486/486\u001b[0m \u001b[32m━━━━━━━━━━━━━━━━━━━━\u001b[0m\u001b[37m\u001b[0m \u001b[1m0s\u001b[0m 843us/step - accuracy: 0.5250 - loss: nan - val_accuracy: 0.5270 - val_loss: nan\n",
      "Epoch 7/30\n",
      "\u001b[1m486/486\u001b[0m \u001b[32m━━━━━━━━━━━━━━━━━━━━\u001b[0m\u001b[37m\u001b[0m \u001b[1m0s\u001b[0m 807us/step - accuracy: 0.5186 - loss: nan - val_accuracy: 0.5270 - val_loss: nan\n",
      "Epoch 8/30\n",
      "\u001b[1m486/486\u001b[0m \u001b[32m━━━━━━━━━━━━━━━━━━━━\u001b[0m\u001b[37m\u001b[0m \u001b[1m0s\u001b[0m 855us/step - accuracy: 0.5161 - loss: nan - val_accuracy: 0.5270 - val_loss: nan\n",
      "Epoch 9/30\n",
      "\u001b[1m486/486\u001b[0m \u001b[32m━━━━━━━━━━━━━━━━━━━━\u001b[0m\u001b[37m\u001b[0m \u001b[1m0s\u001b[0m 706us/step - accuracy: 0.5258 - loss: nan - val_accuracy: 0.5270 - val_loss: nan\n",
      "Epoch 10/30\n",
      "\u001b[1m486/486\u001b[0m \u001b[32m━━━━━━━━━━━━━━━━━━━━\u001b[0m\u001b[37m\u001b[0m \u001b[1m0s\u001b[0m 704us/step - accuracy: 0.5136 - loss: nan - val_accuracy: 0.5270 - val_loss: nan\n",
      "Epoch 11/30\n",
      "\u001b[1m486/486\u001b[0m \u001b[32m━━━━━━━━━━━━━━━━━━━━\u001b[0m\u001b[37m\u001b[0m \u001b[1m0s\u001b[0m 861us/step - accuracy: 0.5114 - loss: nan - val_accuracy: 0.5270 - val_loss: nan\n",
      "Epoch 12/30\n",
      "\u001b[1m486/486\u001b[0m \u001b[32m━━━━━━━━━━━━━━━━━━━━\u001b[0m\u001b[37m\u001b[0m \u001b[1m0s\u001b[0m 797us/step - accuracy: 0.5183 - loss: nan - val_accuracy: 0.5270 - val_loss: nan\n",
      "Epoch 13/30\n",
      "\u001b[1m486/486\u001b[0m \u001b[32m━━━━━━━━━━━━━━━━━━━━\u001b[0m\u001b[37m\u001b[0m \u001b[1m0s\u001b[0m 795us/step - accuracy: 0.5237 - loss: nan - val_accuracy: 0.5270 - val_loss: nan\n",
      "Epoch 14/30\n",
      "\u001b[1m486/486\u001b[0m \u001b[32m━━━━━━━━━━━━━━━━━━━━\u001b[0m\u001b[37m\u001b[0m \u001b[1m0s\u001b[0m 714us/step - accuracy: 0.5236 - loss: nan - val_accuracy: 0.5270 - val_loss: nan\n",
      "Epoch 15/30\n",
      "\u001b[1m486/486\u001b[0m \u001b[32m━━━━━━━━━━━━━━━━━━━━\u001b[0m\u001b[37m\u001b[0m \u001b[1m0s\u001b[0m 692us/step - accuracy: 0.5174 - loss: nan - val_accuracy: 0.5270 - val_loss: nan\n",
      "Epoch 16/30\n",
      "\u001b[1m486/486\u001b[0m \u001b[32m━━━━━━━━━━━━━━━━━━━━\u001b[0m\u001b[37m\u001b[0m \u001b[1m0s\u001b[0m 697us/step - accuracy: 0.5178 - loss: nan - val_accuracy: 0.5270 - val_loss: nan\n",
      "Epoch 17/30\n",
      "\u001b[1m486/486\u001b[0m \u001b[32m━━━━━━━━━━━━━━━━━━━━\u001b[0m\u001b[37m\u001b[0m \u001b[1m0s\u001b[0m 703us/step - accuracy: 0.5119 - loss: nan - val_accuracy: 0.5270 - val_loss: nan\n",
      "Epoch 18/30\n",
      "\u001b[1m486/486\u001b[0m \u001b[32m━━━━━━━━━━━━━━━━━━━━\u001b[0m\u001b[37m\u001b[0m \u001b[1m0s\u001b[0m 861us/step - accuracy: 0.5231 - loss: nan - val_accuracy: 0.5270 - val_loss: nan\n",
      "Epoch 19/30\n",
      "\u001b[1m486/486\u001b[0m \u001b[32m━━━━━━━━━━━━━━━━━━━━\u001b[0m\u001b[37m\u001b[0m \u001b[1m1s\u001b[0m 1ms/step - accuracy: 0.5175 - loss: nan - val_accuracy: 0.5270 - val_loss: nan\n",
      "Epoch 20/30\n",
      "\u001b[1m486/486\u001b[0m \u001b[32m━━━━━━━━━━━━━━━━━━━━\u001b[0m\u001b[37m\u001b[0m \u001b[1m0s\u001b[0m 688us/step - accuracy: 0.5164 - loss: nan - val_accuracy: 0.5270 - val_loss: nan\n",
      "Epoch 21/30\n",
      "\u001b[1m486/486\u001b[0m \u001b[32m━━━━━━━━━━━━━━━━━━━━\u001b[0m\u001b[37m\u001b[0m \u001b[1m0s\u001b[0m 701us/step - accuracy: 0.5201 - loss: nan - val_accuracy: 0.5270 - val_loss: nan\n",
      "Epoch 22/30\n",
      "\u001b[1m486/486\u001b[0m \u001b[32m━━━━━━━━━━━━━━━━━━━━\u001b[0m\u001b[37m\u001b[0m \u001b[1m0s\u001b[0m 770us/step - accuracy: 0.5220 - loss: nan - val_accuracy: 0.5270 - val_loss: nan\n",
      "Epoch 23/30\n",
      "\u001b[1m486/486\u001b[0m \u001b[32m━━━━━━━━━━━━━━━━━━━━\u001b[0m\u001b[37m\u001b[0m \u001b[1m0s\u001b[0m 710us/step - accuracy: 0.5160 - loss: nan - val_accuracy: 0.5270 - val_loss: nan\n",
      "Epoch 24/30\n",
      "\u001b[1m486/486\u001b[0m \u001b[32m━━━━━━━━━━━━━━━━━━━━\u001b[0m\u001b[37m\u001b[0m \u001b[1m0s\u001b[0m 719us/step - accuracy: 0.5122 - loss: nan - val_accuracy: 0.5270 - val_loss: nan\n",
      "Epoch 25/30\n",
      "\u001b[1m486/486\u001b[0m \u001b[32m━━━━━━━━━━━━━━━━━━━━\u001b[0m\u001b[37m\u001b[0m \u001b[1m0s\u001b[0m 703us/step - accuracy: 0.5193 - loss: nan - val_accuracy: 0.5270 - val_loss: nan\n",
      "Epoch 26/30\n",
      "\u001b[1m486/486\u001b[0m \u001b[32m━━━━━━━━━━━━━━━━━━━━\u001b[0m\u001b[37m\u001b[0m \u001b[1m0s\u001b[0m 711us/step - accuracy: 0.5125 - loss: nan - val_accuracy: 0.5270 - val_loss: nan\n",
      "Epoch 27/30\n",
      "\u001b[1m486/486\u001b[0m \u001b[32m━━━━━━━━━━━━━━━━━━━━\u001b[0m\u001b[37m\u001b[0m \u001b[1m0s\u001b[0m 840us/step - accuracy: 0.5076 - loss: nan - val_accuracy: 0.5270 - val_loss: nan\n",
      "Epoch 28/30\n",
      "\u001b[1m486/486\u001b[0m \u001b[32m━━━━━━━━━━━━━━━━━━━━\u001b[0m\u001b[37m\u001b[0m \u001b[1m1s\u001b[0m 1ms/step - accuracy: 0.5181 - loss: nan - val_accuracy: 0.5270 - val_loss: nan\n",
      "Epoch 29/30\n",
      "\u001b[1m486/486\u001b[0m \u001b[32m━━━━━━━━━━━━━━━━━━━━\u001b[0m\u001b[37m\u001b[0m \u001b[1m0s\u001b[0m 707us/step - accuracy: 0.5135 - loss: nan - val_accuracy: 0.5270 - val_loss: nan\n",
      "Epoch 30/30\n",
      "\u001b[1m486/486\u001b[0m \u001b[32m━━━━━━━━━━━━━━━━━━━━\u001b[0m\u001b[37m\u001b[0m \u001b[1m0s\u001b[0m 691us/step - accuracy: 0.5226 - loss: nan - val_accuracy: 0.5270 - val_loss: nan\n",
      "\u001b[1m1/1\u001b[0m \u001b[32m━━━━━━━━━━━━━━━━━━━━\u001b[0m\u001b[37m\u001b[0m \u001b[1m0s\u001b[0m 16ms/step\n",
      "\n",
      "Processing race 6\n",
      "Training data shape: (119, 13)\n",
      "Test data shape: (20, 13)\n",
      "Epoch 1/30\n",
      "\u001b[1m703/703\u001b[0m \u001b[32m━━━━━━━━━━━━━━━━━━━━\u001b[0m\u001b[37m\u001b[0m \u001b[1m1s\u001b[0m 904us/step - accuracy: 0.5209 - loss: nan - val_accuracy: 0.5347 - val_loss: nan\n",
      "Epoch 2/30\n",
      "\u001b[1m703/703\u001b[0m \u001b[32m━━━━━━━━━━━━━━━━━━━━\u001b[0m\u001b[37m\u001b[0m \u001b[1m1s\u001b[0m 950us/step - accuracy: 0.5134 - loss: nan - val_accuracy: 0.5347 - val_loss: nan\n",
      "Epoch 3/30\n",
      "\u001b[1m703/703\u001b[0m \u001b[32m━━━━━━━━━━━━━━━━━━━━\u001b[0m\u001b[37m\u001b[0m \u001b[1m1s\u001b[0m 735us/step - accuracy: 0.5233 - loss: nan - val_accuracy: 0.5347 - val_loss: nan\n",
      "Epoch 4/30\n",
      "\u001b[1m703/703\u001b[0m \u001b[32m━━━━━━━━━━━━━━━━━━━━\u001b[0m\u001b[37m\u001b[0m \u001b[1m1s\u001b[0m 755us/step - accuracy: 0.5155 - loss: nan - val_accuracy: 0.5347 - val_loss: nan\n",
      "Epoch 5/30\n",
      "\u001b[1m703/703\u001b[0m \u001b[32m━━━━━━━━━━━━━━━━━━━━\u001b[0m\u001b[37m\u001b[0m \u001b[1m1s\u001b[0m 734us/step - accuracy: 0.5137 - loss: nan - val_accuracy: 0.5347 - val_loss: nan\n",
      "Epoch 6/30\n",
      "\u001b[1m703/703\u001b[0m \u001b[32m━━━━━━━━━━━━━━━━━━━━\u001b[0m\u001b[37m\u001b[0m \u001b[1m1s\u001b[0m 849us/step - accuracy: 0.5174 - loss: nan - val_accuracy: 0.5347 - val_loss: nan\n",
      "Epoch 7/30\n",
      "\u001b[1m703/703\u001b[0m \u001b[32m━━━━━━━━━━━━━━━━━━━━\u001b[0m\u001b[37m\u001b[0m \u001b[1m1s\u001b[0m 826us/step - accuracy: 0.5211 - loss: nan - val_accuracy: 0.5347 - val_loss: nan\n",
      "Epoch 8/30\n",
      "\u001b[1m703/703\u001b[0m \u001b[32m━━━━━━━━━━━━━━━━━━━━\u001b[0m\u001b[37m\u001b[0m \u001b[1m1s\u001b[0m 744us/step - accuracy: 0.5215 - loss: nan - val_accuracy: 0.5347 - val_loss: nan\n",
      "Epoch 9/30\n",
      "\u001b[1m703/703\u001b[0m \u001b[32m━━━━━━━━━━━━━━━━━━━━\u001b[0m\u001b[37m\u001b[0m \u001b[1m1s\u001b[0m 819us/step - accuracy: 0.5174 - loss: nan - val_accuracy: 0.5347 - val_loss: nan\n",
      "Epoch 10/30\n",
      "\u001b[1m703/703\u001b[0m \u001b[32m━━━━━━━━━━━━━━━━━━━━\u001b[0m\u001b[37m\u001b[0m \u001b[1m1s\u001b[0m 777us/step - accuracy: 0.5132 - loss: nan - val_accuracy: 0.5347 - val_loss: nan\n",
      "Epoch 11/30\n",
      "\u001b[1m703/703\u001b[0m \u001b[32m━━━━━━━━━━━━━━━━━━━━\u001b[0m\u001b[37m\u001b[0m \u001b[1m1s\u001b[0m 719us/step - accuracy: 0.5210 - loss: nan - val_accuracy: 0.5347 - val_loss: nan\n",
      "Epoch 12/30\n",
      "\u001b[1m703/703\u001b[0m \u001b[32m━━━━━━━━━━━━━━━━━━━━\u001b[0m\u001b[37m\u001b[0m \u001b[1m1s\u001b[0m 775us/step - accuracy: 0.5239 - loss: nan - val_accuracy: 0.5347 - val_loss: nan\n",
      "Epoch 13/30\n",
      "\u001b[1m703/703\u001b[0m \u001b[32m━━━━━━━━━━━━━━━━━━━━\u001b[0m\u001b[37m\u001b[0m \u001b[1m1s\u001b[0m 837us/step - accuracy: 0.5178 - loss: nan - val_accuracy: 0.5347 - val_loss: nan\n",
      "Epoch 14/30\n",
      "\u001b[1m703/703\u001b[0m \u001b[32m━━━━━━━━━━━━━━━━━━━━\u001b[0m\u001b[37m\u001b[0m \u001b[1m1s\u001b[0m 771us/step - accuracy: 0.5177 - loss: nan - val_accuracy: 0.5347 - val_loss: nan\n",
      "Epoch 15/30\n",
      "\u001b[1m703/703\u001b[0m \u001b[32m━━━━━━━━━━━━━━━━━━━━\u001b[0m\u001b[37m\u001b[0m \u001b[1m1s\u001b[0m 862us/step - accuracy: 0.5111 - loss: nan - val_accuracy: 0.5347 - val_loss: nan\n",
      "Epoch 16/30\n",
      "\u001b[1m703/703\u001b[0m \u001b[32m━━━━━━━━━━━━━━━━━━━━\u001b[0m\u001b[37m\u001b[0m \u001b[1m1s\u001b[0m 762us/step - accuracy: 0.5215 - loss: nan - val_accuracy: 0.5347 - val_loss: nan\n",
      "Epoch 17/30\n",
      "\u001b[1m703/703\u001b[0m \u001b[32m━━━━━━━━━━━━━━━━━━━━\u001b[0m\u001b[37m\u001b[0m \u001b[1m1s\u001b[0m 779us/step - accuracy: 0.5147 - loss: nan - val_accuracy: 0.5347 - val_loss: nan\n",
      "Epoch 18/30\n",
      "\u001b[1m703/703\u001b[0m \u001b[32m━━━━━━━━━━━━━━━━━━━━\u001b[0m\u001b[37m\u001b[0m \u001b[1m1s\u001b[0m 770us/step - accuracy: 0.5200 - loss: nan - val_accuracy: 0.5347 - val_loss: nan\n",
      "Epoch 19/30\n",
      "\u001b[1m703/703\u001b[0m \u001b[32m━━━━━━━━━━━━━━━━━━━━\u001b[0m\u001b[37m\u001b[0m \u001b[1m1s\u001b[0m 756us/step - accuracy: 0.5124 - loss: nan - val_accuracy: 0.5347 - val_loss: nan\n",
      "Epoch 20/30\n",
      "\u001b[1m703/703\u001b[0m \u001b[32m━━━━━━━━━━━━━━━━━━━━\u001b[0m\u001b[37m\u001b[0m \u001b[1m1s\u001b[0m 740us/step - accuracy: 0.4996 - loss: nan - val_accuracy: 0.5347 - val_loss: nan\n",
      "Epoch 21/30\n",
      "\u001b[1m703/703\u001b[0m \u001b[32m━━━━━━━━━━━━━━━━━━━━\u001b[0m\u001b[37m\u001b[0m \u001b[1m1s\u001b[0m 1ms/step - accuracy: 0.5213 - loss: nan - val_accuracy: 0.5347 - val_loss: nan\n",
      "Epoch 22/30\n",
      "\u001b[1m703/703\u001b[0m \u001b[32m━━━━━━━━━━━━━━━━━━━━\u001b[0m\u001b[37m\u001b[0m \u001b[1m1s\u001b[0m 732us/step - accuracy: 0.5203 - loss: nan - val_accuracy: 0.5347 - val_loss: nan\n",
      "Epoch 23/30\n",
      "\u001b[1m703/703\u001b[0m \u001b[32m━━━━━━━━━━━━━━━━━━━━\u001b[0m\u001b[37m\u001b[0m \u001b[1m1s\u001b[0m 794us/step - accuracy: 0.5168 - loss: nan - val_accuracy: 0.5347 - val_loss: nan\n",
      "Epoch 24/30\n",
      "\u001b[1m703/703\u001b[0m \u001b[32m━━━━━━━━━━━━━━━━━━━━\u001b[0m\u001b[37m\u001b[0m \u001b[1m1s\u001b[0m 748us/step - accuracy: 0.5270 - loss: nan - val_accuracy: 0.5347 - val_loss: nan\n",
      "Epoch 25/30\n",
      "\u001b[1m703/703\u001b[0m \u001b[32m━━━━━━━━━━━━━━━━━━━━\u001b[0m\u001b[37m\u001b[0m \u001b[1m1s\u001b[0m 734us/step - accuracy: 0.5229 - loss: nan - val_accuracy: 0.5347 - val_loss: nan\n",
      "Epoch 26/30\n",
      "\u001b[1m703/703\u001b[0m \u001b[32m━━━━━━━━━━━━━━━━━━━━\u001b[0m\u001b[37m\u001b[0m \u001b[1m1s\u001b[0m 814us/step - accuracy: 0.5223 - loss: nan - val_accuracy: 0.5347 - val_loss: nan\n",
      "Epoch 27/30\n",
      "\u001b[1m703/703\u001b[0m \u001b[32m━━━━━━━━━━━━━━━━━━━━\u001b[0m\u001b[37m\u001b[0m \u001b[1m1s\u001b[0m 768us/step - accuracy: 0.5166 - loss: nan - val_accuracy: 0.5347 - val_loss: nan\n",
      "Epoch 28/30\n",
      "\u001b[1m703/703\u001b[0m \u001b[32m━━━━━━━━━━━━━━━━━━━━\u001b[0m\u001b[37m\u001b[0m \u001b[1m1s\u001b[0m 803us/step - accuracy: 0.5255 - loss: nan - val_accuracy: 0.5347 - val_loss: nan\n",
      "Epoch 29/30\n",
      "\u001b[1m703/703\u001b[0m \u001b[32m━━━━━━━━━━━━━━━━━━━━\u001b[0m\u001b[37m\u001b[0m \u001b[1m1s\u001b[0m 713us/step - accuracy: 0.5098 - loss: nan - val_accuracy: 0.5347 - val_loss: nan\n",
      "Epoch 30/30\n",
      "\u001b[1m703/703\u001b[0m \u001b[32m━━━━━━━━━━━━━━━━━━━━\u001b[0m\u001b[37m\u001b[0m \u001b[1m1s\u001b[0m 716us/step - accuracy: 0.5118 - loss: nan - val_accuracy: 0.5347 - val_loss: nan\n",
      "\u001b[1m1/1\u001b[0m \u001b[32m━━━━━━━━━━━━━━━━━━━━\u001b[0m\u001b[37m\u001b[0m \u001b[1m0s\u001b[0m 16ms/step\n",
      "\n",
      "Processing race 7\n",
      "Training data shape: (139, 13)\n",
      "Test data shape: (20, 13)\n",
      "Epoch 1/30\n",
      "\u001b[1m960/960\u001b[0m \u001b[32m━━━━━━━━━━━━━━━━━━━━\u001b[0m\u001b[37m\u001b[0m \u001b[1m1s\u001b[0m 797us/step - accuracy: 0.5205 - loss: nan - val_accuracy: 0.5223 - val_loss: nan\n",
      "Epoch 2/30\n",
      "\u001b[1m960/960\u001b[0m \u001b[32m━━━━━━━━━━━━━━━━━━━━\u001b[0m\u001b[37m\u001b[0m \u001b[1m1s\u001b[0m 727us/step - accuracy: 0.5236 - loss: nan - val_accuracy: 0.5223 - val_loss: nan\n",
      "Epoch 3/30\n",
      "\u001b[1m960/960\u001b[0m \u001b[32m━━━━━━━━━━━━━━━━━━━━\u001b[0m\u001b[37m\u001b[0m \u001b[1m1s\u001b[0m 777us/step - accuracy: 0.5211 - loss: nan - val_accuracy: 0.5223 - val_loss: nan\n",
      "Epoch 4/30\n",
      "\u001b[1m960/960\u001b[0m \u001b[32m━━━━━━━━━━━━━━━━━━━━\u001b[0m\u001b[37m\u001b[0m \u001b[1m1s\u001b[0m 748us/step - accuracy: 0.5284 - loss: nan - val_accuracy: 0.5223 - val_loss: nan\n",
      "Epoch 5/30\n",
      "\u001b[1m960/960\u001b[0m \u001b[32m━━━━━━━━━━━━━━━━━━━━\u001b[0m\u001b[37m\u001b[0m \u001b[1m1s\u001b[0m 773us/step - accuracy: 0.5301 - loss: nan - val_accuracy: 0.5223 - val_loss: nan\n",
      "Epoch 6/30\n",
      "\u001b[1m960/960\u001b[0m \u001b[32m━━━━━━━━━━━━━━━━━━━━\u001b[0m\u001b[37m\u001b[0m \u001b[1m1s\u001b[0m 746us/step - accuracy: 0.5265 - loss: nan - val_accuracy: 0.5223 - val_loss: nan\n",
      "Epoch 7/30\n",
      "\u001b[1m960/960\u001b[0m \u001b[32m━━━━━━━━━━━━━━━━━━━━\u001b[0m\u001b[37m\u001b[0m \u001b[1m1s\u001b[0m 937us/step - accuracy: 0.5292 - loss: nan - val_accuracy: 0.5223 - val_loss: nan\n",
      "Epoch 8/30\n",
      "\u001b[1m960/960\u001b[0m \u001b[32m━━━━━━━━━━━━━━━━━━━━\u001b[0m\u001b[37m\u001b[0m \u001b[1m1s\u001b[0m 724us/step - accuracy: 0.5241 - loss: nan - val_accuracy: 0.5223 - val_loss: nan\n",
      "Epoch 9/30\n",
      "\u001b[1m960/960\u001b[0m \u001b[32m━━━━━━━━━━━━━━━━━━━━\u001b[0m\u001b[37m\u001b[0m \u001b[1m1s\u001b[0m 802us/step - accuracy: 0.5244 - loss: nan - val_accuracy: 0.5223 - val_loss: nan\n",
      "Epoch 10/30\n",
      "\u001b[1m960/960\u001b[0m \u001b[32m━━━━━━━━━━━━━━━━━━━━\u001b[0m\u001b[37m\u001b[0m \u001b[1m1s\u001b[0m 715us/step - accuracy: 0.5160 - loss: nan - val_accuracy: 0.5223 - val_loss: nan\n",
      "Epoch 11/30\n",
      "\u001b[1m960/960\u001b[0m \u001b[32m━━━━━━━━━━━━━━━━━━━━\u001b[0m\u001b[37m\u001b[0m \u001b[1m1s\u001b[0m 738us/step - accuracy: 0.5216 - loss: nan - val_accuracy: 0.5223 - val_loss: nan\n",
      "Epoch 12/30\n",
      "\u001b[1m960/960\u001b[0m \u001b[32m━━━━━━━━━━━━━━━━━━━━\u001b[0m\u001b[37m\u001b[0m \u001b[1m1s\u001b[0m 914us/step - accuracy: 0.5127 - loss: nan - val_accuracy: 0.5223 - val_loss: nan\n",
      "Epoch 13/30\n",
      "\u001b[1m960/960\u001b[0m \u001b[32m━━━━━━━━━━━━━━━━━━━━\u001b[0m\u001b[37m\u001b[0m \u001b[1m1s\u001b[0m 821us/step - accuracy: 0.5256 - loss: nan - val_accuracy: 0.5223 - val_loss: nan\n",
      "Epoch 14/30\n",
      "\u001b[1m960/960\u001b[0m \u001b[32m━━━━━━━━━━━━━━━━━━━━\u001b[0m\u001b[37m\u001b[0m \u001b[1m1s\u001b[0m 701us/step - accuracy: 0.5206 - loss: nan - val_accuracy: 0.5223 - val_loss: nan\n",
      "Epoch 15/30\n",
      "\u001b[1m960/960\u001b[0m \u001b[32m━━━━━━━━━━━━━━━━━━━━\u001b[0m\u001b[37m\u001b[0m \u001b[1m1s\u001b[0m 722us/step - accuracy: 0.5299 - loss: nan - val_accuracy: 0.5223 - val_loss: nan\n",
      "Epoch 16/30\n",
      "\u001b[1m960/960\u001b[0m \u001b[32m━━━━━━━━━━━━━━━━━━━━\u001b[0m\u001b[37m\u001b[0m \u001b[1m1s\u001b[0m 772us/step - accuracy: 0.5192 - loss: nan - val_accuracy: 0.5223 - val_loss: nan\n",
      "Epoch 17/30\n",
      "\u001b[1m960/960\u001b[0m \u001b[32m━━━━━━━━━━━━━━━━━━━━\u001b[0m\u001b[37m\u001b[0m \u001b[1m1s\u001b[0m 723us/step - accuracy: 0.5172 - loss: nan - val_accuracy: 0.5223 - val_loss: nan\n",
      "Epoch 18/30\n",
      "\u001b[1m960/960\u001b[0m \u001b[32m━━━━━━━━━━━━━━━━━━━━\u001b[0m\u001b[37m\u001b[0m \u001b[1m1s\u001b[0m 759us/step - accuracy: 0.5145 - loss: nan - val_accuracy: 0.5223 - val_loss: nan\n",
      "Epoch 19/30\n",
      "\u001b[1m960/960\u001b[0m \u001b[32m━━━━━━━━━━━━━━━━━━━━\u001b[0m\u001b[37m\u001b[0m \u001b[1m1s\u001b[0m 716us/step - accuracy: 0.5257 - loss: nan - val_accuracy: 0.5223 - val_loss: nan\n",
      "Epoch 20/30\n",
      "\u001b[1m960/960\u001b[0m \u001b[32m━━━━━━━━━━━━━━━━━━━━\u001b[0m\u001b[37m\u001b[0m \u001b[1m1s\u001b[0m 688us/step - accuracy: 0.5230 - loss: nan - val_accuracy: 0.5223 - val_loss: nan\n",
      "Epoch 21/30\n",
      "\u001b[1m960/960\u001b[0m \u001b[32m━━━━━━━━━━━━━━━━━━━━\u001b[0m\u001b[37m\u001b[0m \u001b[1m1s\u001b[0m 671us/step - accuracy: 0.5216 - loss: nan - val_accuracy: 0.5223 - val_loss: nan\n",
      "Epoch 22/30\n",
      "\u001b[1m960/960\u001b[0m \u001b[32m━━━━━━━━━━━━━━━━━━━━\u001b[0m\u001b[37m\u001b[0m \u001b[1m1s\u001b[0m 670us/step - accuracy: 0.5178 - loss: nan - val_accuracy: 0.5223 - val_loss: nan\n",
      "Epoch 23/30\n",
      "\u001b[1m960/960\u001b[0m \u001b[32m━━━━━━━━━━━━━━━━━━━━\u001b[0m\u001b[37m\u001b[0m \u001b[1m1s\u001b[0m 727us/step - accuracy: 0.5246 - loss: nan - val_accuracy: 0.5223 - val_loss: nan\n",
      "Epoch 24/30\n",
      "\u001b[1m960/960\u001b[0m \u001b[32m━━━━━━━━━━━━━━━━━━━━\u001b[0m\u001b[37m\u001b[0m \u001b[1m1s\u001b[0m 815us/step - accuracy: 0.5245 - loss: nan - val_accuracy: 0.5223 - val_loss: nan\n",
      "Epoch 25/30\n",
      "\u001b[1m960/960\u001b[0m \u001b[32m━━━━━━━━━━━━━━━━━━━━\u001b[0m\u001b[37m\u001b[0m \u001b[1m1s\u001b[0m 707us/step - accuracy: 0.5215 - loss: nan - val_accuracy: 0.5223 - val_loss: nan\n",
      "Epoch 26/30\n",
      "\u001b[1m960/960\u001b[0m \u001b[32m━━━━━━━━━━━━━━━━━━━━\u001b[0m\u001b[37m\u001b[0m \u001b[1m1s\u001b[0m 842us/step - accuracy: 0.5184 - loss: nan - val_accuracy: 0.5223 - val_loss: nan\n",
      "Epoch 27/30\n",
      "\u001b[1m960/960\u001b[0m \u001b[32m━━━━━━━━━━━━━━━━━━━━\u001b[0m\u001b[37m\u001b[0m \u001b[1m1s\u001b[0m 682us/step - accuracy: 0.5228 - loss: nan - val_accuracy: 0.5223 - val_loss: nan\n",
      "Epoch 28/30\n",
      "\u001b[1m960/960\u001b[0m \u001b[32m━━━━━━━━━━━━━━━━━━━━\u001b[0m\u001b[37m\u001b[0m \u001b[1m1s\u001b[0m 723us/step - accuracy: 0.5212 - loss: nan - val_accuracy: 0.5223 - val_loss: nan\n",
      "Epoch 29/30\n",
      "\u001b[1m960/960\u001b[0m \u001b[32m━━━━━━━━━━━━━━━━━━━━\u001b[0m\u001b[37m\u001b[0m \u001b[1m1s\u001b[0m 725us/step - accuracy: 0.5264 - loss: nan - val_accuracy: 0.5223 - val_loss: nan\n",
      "Epoch 30/30\n",
      "\u001b[1m960/960\u001b[0m \u001b[32m━━━━━━━━━━━━━━━━━━━━\u001b[0m\u001b[37m\u001b[0m \u001b[1m1s\u001b[0m 908us/step - accuracy: 0.5167 - loss: nan - val_accuracy: 0.5223 - val_loss: nan\n",
      "\u001b[1m1/1\u001b[0m \u001b[32m━━━━━━━━━━━━━━━━━━━━\u001b[0m\u001b[37m\u001b[0m \u001b[1m0s\u001b[0m 21ms/step\n",
      "\n",
      "Processing race 8\n",
      "Training data shape: (159, 13)\n",
      "Test data shape: (20, 13)\n",
      "Epoch 1/30\n",
      "\u001b[1m1257/1257\u001b[0m \u001b[32m━━━━━━━━━━━━━━━━━━━━\u001b[0m\u001b[37m\u001b[0m \u001b[1m1s\u001b[0m 879us/step - accuracy: 0.5114 - loss: nan - val_accuracy: 0.5465 - val_loss: nan\n",
      "Epoch 2/30\n",
      "\u001b[1m1257/1257\u001b[0m \u001b[32m━━━━━━━━━━━━━━━━━━━━\u001b[0m\u001b[37m\u001b[0m \u001b[1m1s\u001b[0m 727us/step - accuracy: 0.5127 - loss: nan - val_accuracy: 0.5465 - val_loss: nan\n",
      "Epoch 3/30\n",
      "\u001b[1m1257/1257\u001b[0m \u001b[32m━━━━━━━━━━━━━━━━━━━━\u001b[0m\u001b[37m\u001b[0m \u001b[1m1s\u001b[0m 734us/step - accuracy: 0.5152 - loss: nan - val_accuracy: 0.5465 - val_loss: nan\n",
      "Epoch 4/30\n",
      "\u001b[1m1257/1257\u001b[0m \u001b[32m━━━━━━━━━━━━━━━━━━━━\u001b[0m\u001b[37m\u001b[0m \u001b[1m1s\u001b[0m 725us/step - accuracy: 0.5178 - loss: nan - val_accuracy: 0.5465 - val_loss: nan\n",
      "Epoch 5/30\n",
      "\u001b[1m1257/1257\u001b[0m \u001b[32m━━━━━━━━━━━━━━━━━━━━\u001b[0m\u001b[37m\u001b[0m \u001b[1m1s\u001b[0m 713us/step - accuracy: 0.5117 - loss: nan - val_accuracy: 0.5465 - val_loss: nan\n",
      "Epoch 6/30\n",
      "\u001b[1m1257/1257\u001b[0m \u001b[32m━━━━━━━━━━━━━━━━━━━━\u001b[0m\u001b[37m\u001b[0m \u001b[1m1s\u001b[0m 694us/step - accuracy: 0.5212 - loss: nan - val_accuracy: 0.5465 - val_loss: nan\n",
      "Epoch 7/30\n",
      "\u001b[1m1257/1257\u001b[0m \u001b[32m━━━━━━━━━━━━━━━━━━━━\u001b[0m\u001b[37m\u001b[0m \u001b[1m1s\u001b[0m 821us/step - accuracy: 0.5210 - loss: nan - val_accuracy: 0.5465 - val_loss: nan\n",
      "Epoch 8/30\n",
      "\u001b[1m1257/1257\u001b[0m \u001b[32m━━━━━━━━━━━━━━━━━━━━\u001b[0m\u001b[37m\u001b[0m \u001b[1m1s\u001b[0m 758us/step - accuracy: 0.5116 - loss: nan - val_accuracy: 0.5465 - val_loss: nan\n",
      "Epoch 9/30\n",
      "\u001b[1m1257/1257\u001b[0m \u001b[32m━━━━━━━━━━━━━━━━━━━━\u001b[0m\u001b[37m\u001b[0m \u001b[1m1s\u001b[0m 1ms/step - accuracy: 0.5176 - loss: nan - val_accuracy: 0.5465 - val_loss: nan\n",
      "Epoch 10/30\n",
      "\u001b[1m1257/1257\u001b[0m \u001b[32m━━━━━━━━━━━━━━━━━━━━\u001b[0m\u001b[37m\u001b[0m \u001b[1m1s\u001b[0m 1ms/step - accuracy: 0.5140 - loss: nan - val_accuracy: 0.5465 - val_loss: nan\n",
      "Epoch 11/30\n",
      "\u001b[1m1257/1257\u001b[0m \u001b[32m━━━━━━━━━━━━━━━━━━━━\u001b[0m\u001b[37m\u001b[0m \u001b[1m1s\u001b[0m 735us/step - accuracy: 0.5140 - loss: nan - val_accuracy: 0.5465 - val_loss: nan\n",
      "Epoch 12/30\n",
      "\u001b[1m1257/1257\u001b[0m \u001b[32m━━━━━━━━━━━━━━━━━━━━\u001b[0m\u001b[37m\u001b[0m \u001b[1m1s\u001b[0m 763us/step - accuracy: 0.5181 - loss: nan - val_accuracy: 0.5465 - val_loss: nan\n",
      "Epoch 13/30\n",
      "\u001b[1m1257/1257\u001b[0m \u001b[32m━━━━━━━━━━━━━━━━━━━━\u001b[0m\u001b[37m\u001b[0m \u001b[1m1s\u001b[0m 738us/step - accuracy: 0.5151 - loss: nan - val_accuracy: 0.5465 - val_loss: nan\n",
      "Epoch 14/30\n",
      "\u001b[1m1257/1257\u001b[0m \u001b[32m━━━━━━━━━━━━━━━━━━━━\u001b[0m\u001b[37m\u001b[0m \u001b[1m2s\u001b[0m 1ms/step - accuracy: 0.5097 - loss: nan - val_accuracy: 0.5465 - val_loss: nan\n",
      "Epoch 15/30\n",
      "\u001b[1m1257/1257\u001b[0m \u001b[32m━━━━━━━━━━━━━━━━━━━━\u001b[0m\u001b[37m\u001b[0m \u001b[1m2s\u001b[0m 1ms/step - accuracy: 0.5157 - loss: nan - val_accuracy: 0.5465 - val_loss: nan\n",
      "Epoch 16/30\n",
      "\u001b[1m1257/1257\u001b[0m \u001b[32m━━━━━━━━━━━━━━━━━━━━\u001b[0m\u001b[37m\u001b[0m \u001b[1m1s\u001b[0m 760us/step - accuracy: 0.5201 - loss: nan - val_accuracy: 0.5465 - val_loss: nan\n",
      "Epoch 17/30\n",
      "\u001b[1m1257/1257\u001b[0m \u001b[32m━━━━━━━━━━━━━━━━━━━━\u001b[0m\u001b[37m\u001b[0m \u001b[1m1s\u001b[0m 786us/step - accuracy: 0.5189 - loss: nan - val_accuracy: 0.5465 - val_loss: nan\n",
      "Epoch 18/30\n",
      "\u001b[1m1257/1257\u001b[0m \u001b[32m━━━━━━━━━━━━━━━━━━━━\u001b[0m\u001b[37m\u001b[0m \u001b[1m1s\u001b[0m 829us/step - accuracy: 0.5162 - loss: nan - val_accuracy: 0.5465 - val_loss: nan\n",
      "Epoch 19/30\n",
      "\u001b[1m1257/1257\u001b[0m \u001b[32m━━━━━━━━━━━━━━━━━━━━\u001b[0m\u001b[37m\u001b[0m \u001b[1m1s\u001b[0m 721us/step - accuracy: 0.5166 - loss: nan - val_accuracy: 0.5465 - val_loss: nan\n",
      "Epoch 20/30\n",
      "\u001b[1m1257/1257\u001b[0m \u001b[32m━━━━━━━━━━━━━━━━━━━━\u001b[0m\u001b[37m\u001b[0m \u001b[1m1s\u001b[0m 720us/step - accuracy: 0.5196 - loss: nan - val_accuracy: 0.5465 - val_loss: nan\n",
      "Epoch 21/30\n",
      "\u001b[1m1257/1257\u001b[0m \u001b[32m━━━━━━━━━━━━━━━━━━━━\u001b[0m\u001b[37m\u001b[0m \u001b[1m1s\u001b[0m 736us/step - accuracy: 0.5102 - loss: nan - val_accuracy: 0.5465 - val_loss: nan\n",
      "Epoch 22/30\n",
      "\u001b[1m1257/1257\u001b[0m \u001b[32m━━━━━━━━━━━━━━━━━━━━\u001b[0m\u001b[37m\u001b[0m \u001b[1m1s\u001b[0m 1ms/step - accuracy: 0.5221 - loss: nan - val_accuracy: 0.5465 - val_loss: nan\n",
      "Epoch 23/30\n",
      "\u001b[1m1257/1257\u001b[0m \u001b[32m━━━━━━━━━━━━━━━━━━━━\u001b[0m\u001b[37m\u001b[0m \u001b[1m1s\u001b[0m 781us/step - accuracy: 0.5164 - loss: nan - val_accuracy: 0.5465 - val_loss: nan\n",
      "Epoch 24/30\n",
      "\u001b[1m1257/1257\u001b[0m \u001b[32m━━━━━━━━━━━━━━━━━━━━\u001b[0m\u001b[37m\u001b[0m \u001b[1m1s\u001b[0m 726us/step - accuracy: 0.5148 - loss: nan - val_accuracy: 0.5465 - val_loss: nan\n",
      "Epoch 25/30\n",
      "\u001b[1m1257/1257\u001b[0m \u001b[32m━━━━━━━━━━━━━━━━━━━━\u001b[0m\u001b[37m\u001b[0m \u001b[1m1s\u001b[0m 766us/step - accuracy: 0.5149 - loss: nan - val_accuracy: 0.5465 - val_loss: nan\n",
      "Epoch 26/30\n",
      "\u001b[1m1257/1257\u001b[0m \u001b[32m━━━━━━━━━━━━━━━━━━━━\u001b[0m\u001b[37m\u001b[0m \u001b[1m1s\u001b[0m 741us/step - accuracy: 0.5224 - loss: nan - val_accuracy: 0.5465 - val_loss: nan\n",
      "Epoch 27/30\n",
      "\u001b[1m1257/1257\u001b[0m \u001b[32m━━━━━━━━━━━━━━━━━━━━\u001b[0m\u001b[37m\u001b[0m \u001b[1m1s\u001b[0m 796us/step - accuracy: 0.5155 - loss: nan - val_accuracy: 0.5465 - val_loss: nan\n",
      "Epoch 28/30\n",
      "\u001b[1m1257/1257\u001b[0m \u001b[32m━━━━━━━━━━━━━━━━━━━━\u001b[0m\u001b[37m\u001b[0m \u001b[1m1s\u001b[0m 1ms/step - accuracy: 0.5161 - loss: nan - val_accuracy: 0.5465 - val_loss: nan\n",
      "Epoch 29/30\n",
      "\u001b[1m1257/1257\u001b[0m \u001b[32m━━━━━━━━━━━━━━━━━━━━\u001b[0m\u001b[37m\u001b[0m \u001b[1m1s\u001b[0m 682us/step - accuracy: 0.5158 - loss: nan - val_accuracy: 0.5465 - val_loss: nan\n",
      "Epoch 30/30\n",
      "\u001b[1m1257/1257\u001b[0m \u001b[32m━━━━━━━━━━━━━━━━━━━━\u001b[0m\u001b[37m\u001b[0m \u001b[1m1s\u001b[0m 699us/step - accuracy: 0.5160 - loss: nan - val_accuracy: 0.5465 - val_loss: nan\n",
      "\u001b[1m1/1\u001b[0m \u001b[32m━━━━━━━━━━━━━━━━━━━━\u001b[0m\u001b[37m\u001b[0m \u001b[1m0s\u001b[0m 16ms/step\n",
      "\n",
      "Processing race 9\n",
      "Training data shape: (179, 13)\n",
      "Test data shape: (20, 13)\n",
      "Epoch 1/30\n",
      "\u001b[1m1594/1594\u001b[0m \u001b[32m━━━━━━━━━━━━━━━━━━━━\u001b[0m\u001b[37m\u001b[0m \u001b[1m4s\u001b[0m 2ms/step - accuracy: 0.5192 - loss: nan - val_accuracy: 0.5327 - val_loss: nan\n",
      "Epoch 2/30\n",
      "\u001b[1m1594/1594\u001b[0m \u001b[32m━━━━━━━━━━━━━━━━━━━━\u001b[0m\u001b[37m\u001b[0m \u001b[1m1s\u001b[0m 730us/step - accuracy: 0.5199 - loss: nan - val_accuracy: 0.5327 - val_loss: nan\n",
      "Epoch 3/30\n",
      "\u001b[1m1594/1594\u001b[0m \u001b[32m━━━━━━━━━━━━━━━━━━━━\u001b[0m\u001b[37m\u001b[0m \u001b[1m1s\u001b[0m 721us/step - accuracy: 0.5233 - loss: nan - val_accuracy: 0.5327 - val_loss: nan\n",
      "Epoch 4/30\n",
      "\u001b[1m1594/1594\u001b[0m \u001b[32m━━━━━━━━━━━━━━━━━━━━\u001b[0m\u001b[37m\u001b[0m \u001b[1m1s\u001b[0m 736us/step - accuracy: 0.5177 - loss: nan - val_accuracy: 0.5327 - val_loss: nan\n",
      "Epoch 5/30\n",
      "\u001b[1m1594/1594\u001b[0m \u001b[32m━━━━━━━━━━━━━━━━━━━━\u001b[0m\u001b[37m\u001b[0m \u001b[1m1s\u001b[0m 679us/step - accuracy: 0.5206 - loss: nan - val_accuracy: 0.5327 - val_loss: nan\n",
      "Epoch 6/30\n",
      "\u001b[1m1594/1594\u001b[0m \u001b[32m━━━━━━━━━━━━━━━━━━━━\u001b[0m\u001b[37m\u001b[0m \u001b[1m1s\u001b[0m 651us/step - accuracy: 0.5190 - loss: nan - val_accuracy: 0.5327 - val_loss: nan\n",
      "Epoch 7/30\n",
      "\u001b[1m1594/1594\u001b[0m \u001b[32m━━━━━━━━━━━━━━━━━━━━\u001b[0m\u001b[37m\u001b[0m \u001b[1m1s\u001b[0m 701us/step - accuracy: 0.5169 - loss: nan - val_accuracy: 0.5327 - val_loss: nan\n",
      "Epoch 8/30\n",
      "\u001b[1m1594/1594\u001b[0m \u001b[32m━━━━━━━━━━━━━━━━━━━━\u001b[0m\u001b[37m\u001b[0m \u001b[1m1s\u001b[0m 664us/step - accuracy: 0.5210 - loss: nan - val_accuracy: 0.5327 - val_loss: nan\n",
      "Epoch 9/30\n",
      "\u001b[1m1594/1594\u001b[0m \u001b[32m━━━━━━━━━━━━━━━━━━━━\u001b[0m\u001b[37m\u001b[0m \u001b[1m1s\u001b[0m 667us/step - accuracy: 0.5198 - loss: nan - val_accuracy: 0.5327 - val_loss: nan\n",
      "Epoch 10/30\n",
      "\u001b[1m1594/1594\u001b[0m \u001b[32m━━━━━━━━━━━━━━━━━━━━\u001b[0m\u001b[37m\u001b[0m \u001b[1m1s\u001b[0m 643us/step - accuracy: 0.5164 - loss: nan - val_accuracy: 0.5327 - val_loss: nan\n",
      "Epoch 11/30\n",
      "\u001b[1m1594/1594\u001b[0m \u001b[32m━━━━━━━━━━━━━━━━━━━━\u001b[0m\u001b[37m\u001b[0m \u001b[1m1s\u001b[0m 663us/step - accuracy: 0.5171 - loss: nan - val_accuracy: 0.5327 - val_loss: nan\n",
      "Epoch 12/30\n",
      "\u001b[1m1594/1594\u001b[0m \u001b[32m━━━━━━━━━━━━━━━━━━━━\u001b[0m\u001b[37m\u001b[0m \u001b[1m1s\u001b[0m 666us/step - accuracy: 0.5220 - loss: nan - val_accuracy: 0.5327 - val_loss: nan\n",
      "Epoch 13/30\n",
      "\u001b[1m1594/1594\u001b[0m \u001b[32m━━━━━━━━━━━━━━━━━━━━\u001b[0m\u001b[37m\u001b[0m \u001b[1m1s\u001b[0m 641us/step - accuracy: 0.5188 - loss: nan - val_accuracy: 0.5327 - val_loss: nan\n",
      "Epoch 14/30\n",
      "\u001b[1m1594/1594\u001b[0m \u001b[32m━━━━━━━━━━━━━━━━━━━━\u001b[0m\u001b[37m\u001b[0m \u001b[1m1s\u001b[0m 666us/step - accuracy: 0.5155 - loss: nan - val_accuracy: 0.5327 - val_loss: nan\n",
      "Epoch 15/30\n",
      "\u001b[1m1594/1594\u001b[0m \u001b[32m━━━━━━━━━━━━━━━━━━━━\u001b[0m\u001b[37m\u001b[0m \u001b[1m1s\u001b[0m 683us/step - accuracy: 0.5168 - loss: nan - val_accuracy: 0.5327 - val_loss: nan\n",
      "Epoch 16/30\n",
      "\u001b[1m1594/1594\u001b[0m \u001b[32m━━━━━━━━━━━━━━━━━━━━\u001b[0m\u001b[37m\u001b[0m \u001b[1m1s\u001b[0m 643us/step - accuracy: 0.5210 - loss: nan - val_accuracy: 0.5327 - val_loss: nan\n",
      "Epoch 17/30\n",
      "\u001b[1m1594/1594\u001b[0m \u001b[32m━━━━━━━━━━━━━━━━━━━━\u001b[0m\u001b[37m\u001b[0m \u001b[1m1s\u001b[0m 653us/step - accuracy: 0.5210 - loss: nan - val_accuracy: 0.5327 - val_loss: nan\n",
      "Epoch 18/30\n",
      "\u001b[1m1594/1594\u001b[0m \u001b[32m━━━━━━━━━━━━━━━━━━━━\u001b[0m\u001b[37m\u001b[0m \u001b[1m1s\u001b[0m 663us/step - accuracy: 0.5244 - loss: nan - val_accuracy: 0.5327 - val_loss: nan\n",
      "Epoch 19/30\n",
      "\u001b[1m1594/1594\u001b[0m \u001b[32m━━━━━━━━━━━━━━━━━━━━\u001b[0m\u001b[37m\u001b[0m \u001b[1m1s\u001b[0m 666us/step - accuracy: 0.5230 - loss: nan - val_accuracy: 0.5327 - val_loss: nan\n",
      "Epoch 20/30\n",
      "\u001b[1m1594/1594\u001b[0m \u001b[32m━━━━━━━━━━━━━━━━━━━━\u001b[0m\u001b[37m\u001b[0m \u001b[1m1s\u001b[0m 645us/step - accuracy: 0.5207 - loss: nan - val_accuracy: 0.5327 - val_loss: nan\n",
      "Epoch 21/30\n",
      "\u001b[1m1594/1594\u001b[0m \u001b[32m━━━━━━━━━━━━━━━━━━━━\u001b[0m\u001b[37m\u001b[0m \u001b[1m1s\u001b[0m 668us/step - accuracy: 0.5210 - loss: nan - val_accuracy: 0.5327 - val_loss: nan\n",
      "Epoch 22/30\n",
      "\u001b[1m1594/1594\u001b[0m \u001b[32m━━━━━━━━━━━━━━━━━━━━\u001b[0m\u001b[37m\u001b[0m \u001b[1m1s\u001b[0m 659us/step - accuracy: 0.5190 - loss: nan - val_accuracy: 0.5327 - val_loss: nan\n",
      "Epoch 23/30\n",
      "\u001b[1m1594/1594\u001b[0m \u001b[32m━━━━━━━━━━━━━━━━━━━━\u001b[0m\u001b[37m\u001b[0m \u001b[1m1s\u001b[0m 649us/step - accuracy: 0.5165 - loss: nan - val_accuracy: 0.5327 - val_loss: nan\n",
      "Epoch 24/30\n",
      "\u001b[1m1594/1594\u001b[0m \u001b[32m━━━━━━━━━━━━━━━━━━━━\u001b[0m\u001b[37m\u001b[0m \u001b[1m1s\u001b[0m 761us/step - accuracy: 0.5129 - loss: nan - val_accuracy: 0.5327 - val_loss: nan\n",
      "Epoch 25/30\n",
      "\u001b[1m1594/1594\u001b[0m \u001b[32m━━━━━━━━━━━━━━━━━━━━\u001b[0m\u001b[37m\u001b[0m \u001b[1m1s\u001b[0m 763us/step - accuracy: 0.5269 - loss: nan - val_accuracy: 0.5327 - val_loss: nan\n",
      "Epoch 26/30\n",
      "\u001b[1m1594/1594\u001b[0m \u001b[32m━━━━━━━━━━━━━━━━━━━━\u001b[0m\u001b[37m\u001b[0m \u001b[1m1s\u001b[0m 761us/step - accuracy: 0.5183 - loss: nan - val_accuracy: 0.5327 - val_loss: nan\n",
      "Epoch 27/30\n",
      "\u001b[1m1594/1594\u001b[0m \u001b[32m━━━━━━━━━━━━━━━━━━━━\u001b[0m\u001b[37m\u001b[0m \u001b[1m1s\u001b[0m 660us/step - accuracy: 0.5181 - loss: nan - val_accuracy: 0.5327 - val_loss: nan\n",
      "Epoch 28/30\n",
      "\u001b[1m1594/1594\u001b[0m \u001b[32m━━━━━━━━━━━━━━━━━━━━\u001b[0m\u001b[37m\u001b[0m \u001b[1m1s\u001b[0m 651us/step - accuracy: 0.5197 - loss: nan - val_accuracy: 0.5327 - val_loss: nan\n",
      "Epoch 29/30\n",
      "\u001b[1m1594/1594\u001b[0m \u001b[32m━━━━━━━━━━━━━━━━━━━━\u001b[0m\u001b[37m\u001b[0m \u001b[1m1s\u001b[0m 816us/step - accuracy: 0.5256 - loss: nan - val_accuracy: 0.5327 - val_loss: nan\n",
      "Epoch 30/30\n",
      "\u001b[1m1594/1594\u001b[0m \u001b[32m━━━━━━━━━━━━━━━━━━━━\u001b[0m\u001b[37m\u001b[0m \u001b[1m4s\u001b[0m 3ms/step - accuracy: 0.5175 - loss: nan - val_accuracy: 0.5327 - val_loss: nan\n",
      "\u001b[1m1/1\u001b[0m \u001b[32m━━━━━━━━━━━━━━━━━━━━\u001b[0m\u001b[37m\u001b[0m \u001b[1m0s\u001b[0m 16ms/step\n",
      "\n",
      "Processing race 10\n",
      "Training data shape: (199, 13)\n",
      "Test data shape: (20, 13)\n",
      "Epoch 1/30\n",
      "\u001b[1m1971/1971\u001b[0m \u001b[32m━━━━━━━━━━━━━━━━━━━━\u001b[0m\u001b[37m\u001b[0m \u001b[1m1s\u001b[0m 719us/step - accuracy: 0.5200 - loss: nan - val_accuracy: 0.5247 - val_loss: nan\n",
      "Epoch 2/30\n",
      "\u001b[1m1971/1971\u001b[0m \u001b[32m━━━━━━━━━━━━━━━━━━━━\u001b[0m\u001b[37m\u001b[0m \u001b[1m1s\u001b[0m 690us/step - accuracy: 0.5201 - loss: nan - val_accuracy: 0.5247 - val_loss: nan\n",
      "Epoch 3/30\n",
      "\u001b[1m1971/1971\u001b[0m \u001b[32m━━━━━━━━━━━━━━━━━━━━\u001b[0m\u001b[37m\u001b[0m \u001b[1m1s\u001b[0m 688us/step - accuracy: 0.5215 - loss: nan - val_accuracy: 0.5247 - val_loss: nan\n",
      "Epoch 4/30\n",
      "\u001b[1m1971/1971\u001b[0m \u001b[32m━━━━━━━━━━━━━━━━━━━━\u001b[0m\u001b[37m\u001b[0m \u001b[1m1s\u001b[0m 674us/step - accuracy: 0.5197 - loss: nan - val_accuracy: 0.5247 - val_loss: nan\n",
      "Epoch 5/30\n",
      "\u001b[1m1971/1971\u001b[0m \u001b[32m━━━━━━━━━━━━━━━━━━━━\u001b[0m\u001b[37m\u001b[0m \u001b[1m2s\u001b[0m 770us/step - accuracy: 0.5162 - loss: nan - val_accuracy: 0.5247 - val_loss: nan\n",
      "Epoch 6/30\n",
      "\u001b[1m1971/1971\u001b[0m \u001b[32m━━━━━━━━━━━━━━━━━━━━\u001b[0m\u001b[37m\u001b[0m \u001b[1m1s\u001b[0m 728us/step - accuracy: 0.5255 - loss: nan - val_accuracy: 0.5247 - val_loss: nan\n",
      "Epoch 7/30\n",
      "\u001b[1m1971/1971\u001b[0m \u001b[32m━━━━━━━━━━━━━━━━━━━━\u001b[0m\u001b[37m\u001b[0m \u001b[1m1s\u001b[0m 701us/step - accuracy: 0.5245 - loss: nan - val_accuracy: 0.5247 - val_loss: nan\n",
      "Epoch 8/30\n",
      "\u001b[1m1971/1971\u001b[0m \u001b[32m━━━━━━━━━━━━━━━━━━━━\u001b[0m\u001b[37m\u001b[0m \u001b[1m1s\u001b[0m 730us/step - accuracy: 0.5235 - loss: nan - val_accuracy: 0.5247 - val_loss: nan\n",
      "Epoch 9/30\n",
      "\u001b[1m1971/1971\u001b[0m \u001b[32m━━━━━━━━━━━━━━━━━━━━\u001b[0m\u001b[37m\u001b[0m \u001b[1m1s\u001b[0m 676us/step - accuracy: 0.5271 - loss: nan - val_accuracy: 0.5247 - val_loss: nan\n",
      "Epoch 10/30\n",
      "\u001b[1m1971/1971\u001b[0m \u001b[32m━━━━━━━━━━━━━━━━━━━━\u001b[0m\u001b[37m\u001b[0m \u001b[1m1s\u001b[0m 723us/step - accuracy: 0.5184 - loss: nan - val_accuracy: 0.5247 - val_loss: nan\n",
      "Epoch 11/30\n",
      "\u001b[1m1971/1971\u001b[0m \u001b[32m━━━━━━━━━━━━━━━━━━━━\u001b[0m\u001b[37m\u001b[0m \u001b[1m1s\u001b[0m 680us/step - accuracy: 0.5229 - loss: nan - val_accuracy: 0.5247 - val_loss: nan\n",
      "Epoch 12/30\n",
      "\u001b[1m1971/1971\u001b[0m \u001b[32m━━━━━━━━━━━━━━━━━━━━\u001b[0m\u001b[37m\u001b[0m \u001b[1m1s\u001b[0m 669us/step - accuracy: 0.5260 - loss: nan - val_accuracy: 0.5247 - val_loss: nan\n",
      "Epoch 13/30\n",
      "\u001b[1m1971/1971\u001b[0m \u001b[32m━━━━━━━━━━━━━━━━━━━━\u001b[0m\u001b[37m\u001b[0m \u001b[1m2s\u001b[0m 752us/step - accuracy: 0.5248 - loss: nan - val_accuracy: 0.5247 - val_loss: nan\n",
      "Epoch 14/30\n",
      "\u001b[1m1971/1971\u001b[0m \u001b[32m━━━━━━━━━━━━━━━━━━━━\u001b[0m\u001b[37m\u001b[0m \u001b[1m1s\u001b[0m 686us/step - accuracy: 0.5199 - loss: nan - val_accuracy: 0.5247 - val_loss: nan\n",
      "Epoch 15/30\n",
      "\u001b[1m1971/1971\u001b[0m \u001b[32m━━━━━━━━━━━━━━━━━━━━\u001b[0m\u001b[37m\u001b[0m \u001b[1m1s\u001b[0m 665us/step - accuracy: 0.5207 - loss: nan - val_accuracy: 0.5247 - val_loss: nan\n",
      "Epoch 16/30\n",
      "\u001b[1m1971/1971\u001b[0m \u001b[32m━━━━━━━━━━━━━━━━━━━━\u001b[0m\u001b[37m\u001b[0m \u001b[1m1s\u001b[0m 684us/step - accuracy: 0.5246 - loss: nan - val_accuracy: 0.5247 - val_loss: nan\n",
      "Epoch 17/30\n",
      "\u001b[1m1971/1971\u001b[0m \u001b[32m━━━━━━━━━━━━━━━━━━━━\u001b[0m\u001b[37m\u001b[0m \u001b[1m1s\u001b[0m 691us/step - accuracy: 0.5218 - loss: nan - val_accuracy: 0.5247 - val_loss: nan\n",
      "Epoch 18/30\n",
      "\u001b[1m1971/1971\u001b[0m \u001b[32m━━━━━━━━━━━━━━━━━━━━\u001b[0m\u001b[37m\u001b[0m \u001b[1m1s\u001b[0m 663us/step - accuracy: 0.5165 - loss: nan - val_accuracy: 0.5247 - val_loss: nan\n",
      "Epoch 19/30\n",
      "\u001b[1m1971/1971\u001b[0m \u001b[32m━━━━━━━━━━━━━━━━━━━━\u001b[0m\u001b[37m\u001b[0m \u001b[1m1s\u001b[0m 724us/step - accuracy: 0.5254 - loss: nan - val_accuracy: 0.5247 - val_loss: nan\n",
      "Epoch 20/30\n",
      "\u001b[1m1971/1971\u001b[0m \u001b[32m━━━━━━━━━━━━━━━━━━━━\u001b[0m\u001b[37m\u001b[0m \u001b[1m1s\u001b[0m 672us/step - accuracy: 0.5238 - loss: nan - val_accuracy: 0.5247 - val_loss: nan\n",
      "Epoch 21/30\n",
      "\u001b[1m1971/1971\u001b[0m \u001b[32m━━━━━━━━━━━━━━━━━━━━\u001b[0m\u001b[37m\u001b[0m \u001b[1m1s\u001b[0m 664us/step - accuracy: 0.5202 - loss: nan - val_accuracy: 0.5247 - val_loss: nan\n",
      "Epoch 22/30\n",
      "\u001b[1m1971/1971\u001b[0m \u001b[32m━━━━━━━━━━━━━━━━━━━━\u001b[0m\u001b[37m\u001b[0m \u001b[1m1s\u001b[0m 706us/step - accuracy: 0.5153 - loss: nan - val_accuracy: 0.5247 - val_loss: nan\n",
      "Epoch 23/30\n",
      "\u001b[1m1971/1971\u001b[0m \u001b[32m━━━━━━━━━━━━━━━━━━━━\u001b[0m\u001b[37m\u001b[0m \u001b[1m1s\u001b[0m 652us/step - accuracy: 0.5253 - loss: nan - val_accuracy: 0.5247 - val_loss: nan\n",
      "Epoch 24/30\n",
      "\u001b[1m1971/1971\u001b[0m \u001b[32m━━━━━━━━━━━━━━━━━━━━\u001b[0m\u001b[37m\u001b[0m \u001b[1m1s\u001b[0m 655us/step - accuracy: 0.5186 - loss: nan - val_accuracy: 0.5247 - val_loss: nan\n",
      "Epoch 25/30\n",
      "\u001b[1m1971/1971\u001b[0m \u001b[32m━━━━━━━━━━━━━━━━━━━━\u001b[0m\u001b[37m\u001b[0m \u001b[1m1s\u001b[0m 652us/step - accuracy: 0.5192 - loss: nan - val_accuracy: 0.5247 - val_loss: nan\n",
      "Epoch 26/30\n",
      "\u001b[1m1971/1971\u001b[0m \u001b[32m━━━━━━━━━━━━━━━━━━━━\u001b[0m\u001b[37m\u001b[0m \u001b[1m1s\u001b[0m 656us/step - accuracy: 0.5204 - loss: nan - val_accuracy: 0.5247 - val_loss: nan\n",
      "Epoch 27/30\n",
      "\u001b[1m1971/1971\u001b[0m \u001b[32m━━━━━━━━━━━━━━━━━━━━\u001b[0m\u001b[37m\u001b[0m \u001b[1m1s\u001b[0m 654us/step - accuracy: 0.5259 - loss: nan - val_accuracy: 0.5247 - val_loss: nan\n",
      "Epoch 28/30\n",
      "\u001b[1m1971/1971\u001b[0m \u001b[32m━━━━━━━━━━━━━━━━━━━━\u001b[0m\u001b[37m\u001b[0m \u001b[1m1s\u001b[0m 656us/step - accuracy: 0.5220 - loss: nan - val_accuracy: 0.5247 - val_loss: nan\n",
      "Epoch 29/30\n",
      "\u001b[1m1971/1971\u001b[0m \u001b[32m━━━━━━━━━━━━━━━━━━━━\u001b[0m\u001b[37m\u001b[0m \u001b[1m1s\u001b[0m 654us/step - accuracy: 0.5207 - loss: nan - val_accuracy: 0.5247 - val_loss: nan\n",
      "Epoch 30/30\n",
      "\u001b[1m1971/1971\u001b[0m \u001b[32m━━━━━━━━━━━━━━━━━━━━\u001b[0m\u001b[37m\u001b[0m \u001b[1m1s\u001b[0m 665us/step - accuracy: 0.5265 - loss: nan - val_accuracy: 0.5247 - val_loss: nan\n",
      "\u001b[1m1/1\u001b[0m \u001b[32m━━━━━━━━━━━━━━━━━━━━\u001b[0m\u001b[37m\u001b[0m \u001b[1m0s\u001b[0m 15ms/step\n",
      "\n",
      "Processing race 11\n",
      "Training data shape: (219, 13)\n",
      "Test data shape: (19, 13)\n",
      "Epoch 1/30\n",
      "\u001b[1m2388/2388\u001b[0m \u001b[32m━━━━━━━━━━━━━━━━━━━━\u001b[0m\u001b[37m\u001b[0m \u001b[1m2s\u001b[0m 681us/step - accuracy: 0.5217 - loss: nan - val_accuracy: 0.5278 - val_loss: nan\n",
      "Epoch 2/30\n",
      "\u001b[1m2388/2388\u001b[0m \u001b[32m━━━━━━━━━━━━━━━━━━━━\u001b[0m\u001b[37m\u001b[0m \u001b[1m2s\u001b[0m 693us/step - accuracy: 0.5208 - loss: nan - val_accuracy: 0.5278 - val_loss: nan\n",
      "Epoch 3/30\n",
      "\u001b[1m2388/2388\u001b[0m \u001b[32m━━━━━━━━━━━━━━━━━━━━\u001b[0m\u001b[37m\u001b[0m \u001b[1m2s\u001b[0m 677us/step - accuracy: 0.5221 - loss: nan - val_accuracy: 0.5278 - val_loss: nan\n",
      "Epoch 4/30\n",
      "\u001b[1m2388/2388\u001b[0m \u001b[32m━━━━━━━━━━━━━━━━━━━━\u001b[0m\u001b[37m\u001b[0m \u001b[1m2s\u001b[0m 658us/step - accuracy: 0.5196 - loss: nan - val_accuracy: 0.5278 - val_loss: nan\n",
      "Epoch 5/30\n",
      "\u001b[1m2388/2388\u001b[0m \u001b[32m━━━━━━━━━━━━━━━━━━━━\u001b[0m\u001b[37m\u001b[0m \u001b[1m2s\u001b[0m 660us/step - accuracy: 0.5221 - loss: nan - val_accuracy: 0.5278 - val_loss: nan\n",
      "Epoch 6/30\n",
      "\u001b[1m2388/2388\u001b[0m \u001b[32m━━━━━━━━━━━━━━━━━━━━\u001b[0m\u001b[37m\u001b[0m \u001b[1m2s\u001b[0m 661us/step - accuracy: 0.5215 - loss: nan - val_accuracy: 0.5278 - val_loss: nan\n",
      "Epoch 7/30\n",
      "\u001b[1m2388/2388\u001b[0m \u001b[32m━━━━━━━━━━━━━━━━━━━━\u001b[0m\u001b[37m\u001b[0m \u001b[1m2s\u001b[0m 662us/step - accuracy: 0.5247 - loss: nan - val_accuracy: 0.5278 - val_loss: nan\n",
      "Epoch 8/30\n",
      "\u001b[1m2388/2388\u001b[0m \u001b[32m━━━━━━━━━━━━━━━━━━━━\u001b[0m\u001b[37m\u001b[0m \u001b[1m2s\u001b[0m 676us/step - accuracy: 0.5242 - loss: nan - val_accuracy: 0.5278 - val_loss: nan\n",
      "Epoch 9/30\n",
      "\u001b[1m2388/2388\u001b[0m \u001b[32m━━━━━━━━━━━━━━━━━━━━\u001b[0m\u001b[37m\u001b[0m \u001b[1m2s\u001b[0m 659us/step - accuracy: 0.5201 - loss: nan - val_accuracy: 0.5278 - val_loss: nan\n",
      "Epoch 10/30\n",
      "\u001b[1m2388/2388\u001b[0m \u001b[32m━━━━━━━━━━━━━━━━━━━━\u001b[0m\u001b[37m\u001b[0m \u001b[1m2s\u001b[0m 663us/step - accuracy: 0.5192 - loss: nan - val_accuracy: 0.5278 - val_loss: nan\n",
      "Epoch 11/30\n",
      "\u001b[1m2388/2388\u001b[0m \u001b[32m━━━━━━━━━━━━━━━━━━━━\u001b[0m\u001b[37m\u001b[0m \u001b[1m2s\u001b[0m 660us/step - accuracy: 0.5204 - loss: nan - val_accuracy: 0.5278 - val_loss: nan\n",
      "Epoch 12/30\n",
      "\u001b[1m2388/2388\u001b[0m \u001b[32m━━━━━━━━━━━━━━━━━━━━\u001b[0m\u001b[37m\u001b[0m \u001b[1m2s\u001b[0m 670us/step - accuracy: 0.5221 - loss: nan - val_accuracy: 0.5278 - val_loss: nan\n",
      "Epoch 13/30\n",
      "\u001b[1m2388/2388\u001b[0m \u001b[32m━━━━━━━━━━━━━━━━━━━━\u001b[0m\u001b[37m\u001b[0m \u001b[1m2s\u001b[0m 663us/step - accuracy: 0.5200 - loss: nan - val_accuracy: 0.5278 - val_loss: nan\n",
      "Epoch 14/30\n",
      "\u001b[1m2388/2388\u001b[0m \u001b[32m━━━━━━━━━━━━━━━━━━━━\u001b[0m\u001b[37m\u001b[0m \u001b[1m2s\u001b[0m 654us/step - accuracy: 0.5196 - loss: nan - val_accuracy: 0.5278 - val_loss: nan\n",
      "Epoch 15/30\n",
      "\u001b[1m2388/2388\u001b[0m \u001b[32m━━━━━━━━━━━━━━━━━━━━\u001b[0m\u001b[37m\u001b[0m \u001b[1m2s\u001b[0m 674us/step - accuracy: 0.5214 - loss: nan - val_accuracy: 0.5278 - val_loss: nan\n",
      "Epoch 16/30\n",
      "\u001b[1m2388/2388\u001b[0m \u001b[32m━━━━━━━━━━━━━━━━━━━━\u001b[0m\u001b[37m\u001b[0m \u001b[1m2s\u001b[0m 651us/step - accuracy: 0.5163 - loss: nan - val_accuracy: 0.5278 - val_loss: nan\n",
      "Epoch 17/30\n",
      "\u001b[1m2388/2388\u001b[0m \u001b[32m━━━━━━━━━━━━━━━━━━━━\u001b[0m\u001b[37m\u001b[0m \u001b[1m2s\u001b[0m 662us/step - accuracy: 0.5163 - loss: nan - val_accuracy: 0.5278 - val_loss: nan\n",
      "Epoch 18/30\n",
      "\u001b[1m2388/2388\u001b[0m \u001b[32m━━━━━━━━━━━━━━━━━━━━\u001b[0m\u001b[37m\u001b[0m \u001b[1m2s\u001b[0m 660us/step - accuracy: 0.5203 - loss: nan - val_accuracy: 0.5278 - val_loss: nan\n",
      "Epoch 19/30\n",
      "\u001b[1m2388/2388\u001b[0m \u001b[32m━━━━━━━━━━━━━━━━━━━━\u001b[0m\u001b[37m\u001b[0m \u001b[1m2s\u001b[0m 683us/step - accuracy: 0.5181 - loss: nan - val_accuracy: 0.5278 - val_loss: nan\n",
      "Epoch 20/30\n",
      "\u001b[1m2388/2388\u001b[0m \u001b[32m━━━━━━━━━━━━━━━━━━━━\u001b[0m\u001b[37m\u001b[0m \u001b[1m2s\u001b[0m 650us/step - accuracy: 0.5202 - loss: nan - val_accuracy: 0.5278 - val_loss: nan\n",
      "Epoch 21/30\n",
      "\u001b[1m2388/2388\u001b[0m \u001b[32m━━━━━━━━━━━━━━━━━━━━\u001b[0m\u001b[37m\u001b[0m \u001b[1m2s\u001b[0m 652us/step - accuracy: 0.5171 - loss: nan - val_accuracy: 0.5278 - val_loss: nan\n",
      "Epoch 22/30\n",
      "\u001b[1m2388/2388\u001b[0m \u001b[32m━━━━━━━━━━━━━━━━━━━━\u001b[0m\u001b[37m\u001b[0m \u001b[1m2s\u001b[0m 666us/step - accuracy: 0.5216 - loss: nan - val_accuracy: 0.5278 - val_loss: nan\n",
      "Epoch 23/30\n",
      "\u001b[1m2388/2388\u001b[0m \u001b[32m━━━━━━━━━━━━━━━━━━━━\u001b[0m\u001b[37m\u001b[0m \u001b[1m2s\u001b[0m 651us/step - accuracy: 0.5215 - loss: nan - val_accuracy: 0.5278 - val_loss: nan\n",
      "Epoch 24/30\n",
      "\u001b[1m2388/2388\u001b[0m \u001b[32m━━━━━━━━━━━━━━━━━━━━\u001b[0m\u001b[37m\u001b[0m \u001b[1m2s\u001b[0m 649us/step - accuracy: 0.5239 - loss: nan - val_accuracy: 0.5278 - val_loss: nan\n",
      "Epoch 25/30\n",
      "\u001b[1m2388/2388\u001b[0m \u001b[32m━━━━━━━━━━━━━━━━━━━━\u001b[0m\u001b[37m\u001b[0m \u001b[1m2s\u001b[0m 728us/step - accuracy: 0.5221 - loss: nan - val_accuracy: 0.5278 - val_loss: nan\n",
      "Epoch 26/30\n",
      "\u001b[1m2388/2388\u001b[0m \u001b[32m━━━━━━━━━━━━━━━━━━━━\u001b[0m\u001b[37m\u001b[0m \u001b[1m3s\u001b[0m 1ms/step - accuracy: 0.5248 - loss: nan - val_accuracy: 0.5278 - val_loss: nan\n",
      "Epoch 27/30\n",
      "\u001b[1m2388/2388\u001b[0m \u001b[32m━━━━━━━━━━━━━━━━━━━━\u001b[0m\u001b[37m\u001b[0m \u001b[1m2s\u001b[0m 654us/step - accuracy: 0.5192 - loss: nan - val_accuracy: 0.5278 - val_loss: nan\n",
      "Epoch 28/30\n",
      "\u001b[1m2388/2388\u001b[0m \u001b[32m━━━━━━━━━━━━━━━━━━━━\u001b[0m\u001b[37m\u001b[0m \u001b[1m2s\u001b[0m 662us/step - accuracy: 0.5129 - loss: nan - val_accuracy: 0.5278 - val_loss: nan\n",
      "Epoch 29/30\n",
      "\u001b[1m2388/2388\u001b[0m \u001b[32m━━━━━━━━━━━━━━━━━━━━\u001b[0m\u001b[37m\u001b[0m \u001b[1m2s\u001b[0m 670us/step - accuracy: 0.5212 - loss: nan - val_accuracy: 0.5278 - val_loss: nan\n",
      "Epoch 30/30\n",
      "\u001b[1m2388/2388\u001b[0m \u001b[32m━━━━━━━━━━━━━━━━━━━━\u001b[0m\u001b[37m\u001b[0m \u001b[1m2s\u001b[0m 649us/step - accuracy: 0.5207 - loss: nan - val_accuracy: 0.5278 - val_loss: nan\n",
      "\u001b[1m1/1\u001b[0m \u001b[32m━━━━━━━━━━━━━━━━━━━━\u001b[0m\u001b[37m\u001b[0m \u001b[1m0s\u001b[0m 15ms/step\n",
      "\n",
      "Processing race 12\n",
      "Training data shape: (238, 13)\n",
      "Test data shape: (20, 13)\n",
      "Epoch 1/30\n",
      "\u001b[1m2821/2821\u001b[0m \u001b[32m━━━━━━━━━━━━━━━━━━━━\u001b[0m\u001b[37m\u001b[0m \u001b[1m2s\u001b[0m 670us/step - accuracy: 0.5225 - loss: nan - val_accuracy: 0.5368 - val_loss: nan\n",
      "Epoch 2/30\n",
      "\u001b[1m2821/2821\u001b[0m \u001b[32m━━━━━━━━━━━━━━━━━━━━\u001b[0m\u001b[37m\u001b[0m \u001b[1m2s\u001b[0m 681us/step - accuracy: 0.5269 - loss: nan - val_accuracy: 0.5368 - val_loss: nan\n",
      "Epoch 3/30\n",
      "\u001b[1m2821/2821\u001b[0m \u001b[32m━━━━━━━━━━━━━━━━━━━━\u001b[0m\u001b[37m\u001b[0m \u001b[1m2s\u001b[0m 652us/step - accuracy: 0.5241 - loss: nan - val_accuracy: 0.5368 - val_loss: nan\n",
      "Epoch 4/30\n",
      "\u001b[1m2821/2821\u001b[0m \u001b[32m━━━━━━━━━━━━━━━━━━━━\u001b[0m\u001b[37m\u001b[0m \u001b[1m2s\u001b[0m 681us/step - accuracy: 0.5204 - loss: nan - val_accuracy: 0.5368 - val_loss: nan\n",
      "Epoch 5/30\n",
      "\u001b[1m2821/2821\u001b[0m \u001b[32m━━━━━━━━━━━━━━━━━━━━\u001b[0m\u001b[37m\u001b[0m \u001b[1m2s\u001b[0m 681us/step - accuracy: 0.5253 - loss: nan - val_accuracy: 0.5368 - val_loss: nan\n",
      "Epoch 6/30\n",
      "\u001b[1m2821/2821\u001b[0m \u001b[32m━━━━━━━━━━━━━━━━━━━━\u001b[0m\u001b[37m\u001b[0m \u001b[1m2s\u001b[0m 662us/step - accuracy: 0.5245 - loss: nan - val_accuracy: 0.5368 - val_loss: nan\n",
      "Epoch 7/30\n",
      "\u001b[1m2821/2821\u001b[0m \u001b[32m━━━━━━━━━━━━━━━━━━━━\u001b[0m\u001b[37m\u001b[0m \u001b[1m2s\u001b[0m 651us/step - accuracy: 0.5249 - loss: nan - val_accuracy: 0.5368 - val_loss: nan\n",
      "Epoch 8/30\n",
      "\u001b[1m2821/2821\u001b[0m \u001b[32m━━━━━━━━━━━━━━━━━━━━\u001b[0m\u001b[37m\u001b[0m \u001b[1m2s\u001b[0m 705us/step - accuracy: 0.5309 - loss: nan - val_accuracy: 0.5368 - val_loss: nan\n",
      "Epoch 9/30\n",
      "\u001b[1m2821/2821\u001b[0m \u001b[32m━━━━━━━━━━━━━━━━━━━━\u001b[0m\u001b[37m\u001b[0m \u001b[1m2s\u001b[0m 655us/step - accuracy: 0.5257 - loss: nan - val_accuracy: 0.5368 - val_loss: nan\n",
      "Epoch 10/30\n",
      "\u001b[1m2821/2821\u001b[0m \u001b[32m━━━━━━━━━━━━━━━━━━━━\u001b[0m\u001b[37m\u001b[0m \u001b[1m2s\u001b[0m 670us/step - accuracy: 0.5228 - loss: nan - val_accuracy: 0.5368 - val_loss: nan\n",
      "Epoch 11/30\n",
      "\u001b[1m2821/2821\u001b[0m \u001b[32m━━━━━━━━━━━━━━━━━━━━\u001b[0m\u001b[37m\u001b[0m \u001b[1m2s\u001b[0m 655us/step - accuracy: 0.5205 - loss: nan - val_accuracy: 0.5368 - val_loss: nan\n",
      "Epoch 12/30\n",
      "\u001b[1m2821/2821\u001b[0m \u001b[32m━━━━━━━━━━━━━━━━━━━━\u001b[0m\u001b[37m\u001b[0m \u001b[1m2s\u001b[0m 743us/step - accuracy: 0.5285 - loss: nan - val_accuracy: 0.5368 - val_loss: nan\n",
      "Epoch 13/30\n",
      "\u001b[1m2821/2821\u001b[0m \u001b[32m━━━━━━━━━━━━━━━━━━━━\u001b[0m\u001b[37m\u001b[0m \u001b[1m2s\u001b[0m 660us/step - accuracy: 0.5230 - loss: nan - val_accuracy: 0.5368 - val_loss: nan\n",
      "Epoch 14/30\n",
      "\u001b[1m2821/2821\u001b[0m \u001b[32m━━━━━━━━━━━━━━━━━━━━\u001b[0m\u001b[37m\u001b[0m \u001b[1m2s\u001b[0m 670us/step - accuracy: 0.5260 - loss: nan - val_accuracy: 0.5368 - val_loss: nan\n",
      "Epoch 15/30\n",
      "\u001b[1m2821/2821\u001b[0m \u001b[32m━━━━━━━━━━━━━━━━━━━━\u001b[0m\u001b[37m\u001b[0m \u001b[1m2s\u001b[0m 651us/step - accuracy: 0.5243 - loss: nan - val_accuracy: 0.5368 - val_loss: nan\n",
      "Epoch 16/30\n",
      "\u001b[1m2821/2821\u001b[0m \u001b[32m━━━━━━━━━━━━━━━━━━━━\u001b[0m\u001b[37m\u001b[0m \u001b[1m2s\u001b[0m 663us/step - accuracy: 0.5215 - loss: nan - val_accuracy: 0.5368 - val_loss: nan\n",
      "Epoch 17/30\n",
      "\u001b[1m2821/2821\u001b[0m \u001b[32m━━━━━━━━━━━━━━━━━━━━\u001b[0m\u001b[37m\u001b[0m \u001b[1m2s\u001b[0m 651us/step - accuracy: 0.5217 - loss: nan - val_accuracy: 0.5368 - val_loss: nan\n",
      "Epoch 18/30\n",
      "\u001b[1m2821/2821\u001b[0m \u001b[32m━━━━━━━━━━━━━━━━━━━━\u001b[0m\u001b[37m\u001b[0m \u001b[1m2s\u001b[0m 672us/step - accuracy: 0.5233 - loss: nan - val_accuracy: 0.5368 - val_loss: nan\n",
      "Epoch 19/30\n",
      "\u001b[1m2821/2821\u001b[0m \u001b[32m━━━━━━━━━━━━━━━━━━━━\u001b[0m\u001b[37m\u001b[0m \u001b[1m2s\u001b[0m 665us/step - accuracy: 0.5224 - loss: nan - val_accuracy: 0.5368 - val_loss: nan\n",
      "Epoch 20/30\n",
      "\u001b[1m2821/2821\u001b[0m \u001b[32m━━━━━━━━━━━━━━━━━━━━\u001b[0m\u001b[37m\u001b[0m \u001b[1m2s\u001b[0m 670us/step - accuracy: 0.5237 - loss: nan - val_accuracy: 0.5368 - val_loss: nan\n",
      "Epoch 21/30\n",
      "\u001b[1m2821/2821\u001b[0m \u001b[32m━━━━━━━━━━━━━━━━━━━━\u001b[0m\u001b[37m\u001b[0m \u001b[1m2s\u001b[0m 656us/step - accuracy: 0.5213 - loss: nan - val_accuracy: 0.5368 - val_loss: nan\n",
      "Epoch 22/30\n",
      "\u001b[1m2821/2821\u001b[0m \u001b[32m━━━━━━━━━━━━━━━━━━━━\u001b[0m\u001b[37m\u001b[0m \u001b[1m2s\u001b[0m 666us/step - accuracy: 0.5208 - loss: nan - val_accuracy: 0.5368 - val_loss: nan\n",
      "Epoch 23/30\n",
      "\u001b[1m2821/2821\u001b[0m \u001b[32m━━━━━━━━━━━━━━━━━━━━\u001b[0m\u001b[37m\u001b[0m \u001b[1m2s\u001b[0m 655us/step - accuracy: 0.5273 - loss: nan - val_accuracy: 0.5368 - val_loss: nan\n",
      "Epoch 24/30\n",
      "\u001b[1m2821/2821\u001b[0m \u001b[32m━━━━━━━━━━━━━━━━━━━━\u001b[0m\u001b[37m\u001b[0m \u001b[1m2s\u001b[0m 853us/step - accuracy: 0.5259 - loss: nan - val_accuracy: 0.5368 - val_loss: nan\n",
      "Epoch 25/30\n",
      "\u001b[1m2821/2821\u001b[0m \u001b[32m━━━━━━━━━━━━━━━━━━━━\u001b[0m\u001b[37m\u001b[0m \u001b[1m2s\u001b[0m 660us/step - accuracy: 0.5223 - loss: nan - val_accuracy: 0.5368 - val_loss: nan\n",
      "Epoch 26/30\n",
      "\u001b[1m2821/2821\u001b[0m \u001b[32m━━━━━━━━━━━━━━━━━━━━\u001b[0m\u001b[37m\u001b[0m \u001b[1m2s\u001b[0m 716us/step - accuracy: 0.5248 - loss: nan - val_accuracy: 0.5368 - val_loss: nan\n",
      "Epoch 27/30\n",
      "\u001b[1m2821/2821\u001b[0m \u001b[32m━━━━━━━━━━━━━━━━━━━━\u001b[0m\u001b[37m\u001b[0m \u001b[1m2s\u001b[0m 735us/step - accuracy: 0.5256 - loss: nan - val_accuracy: 0.5368 - val_loss: nan\n",
      "Epoch 28/30\n",
      "\u001b[1m2821/2821\u001b[0m \u001b[32m━━━━━━━━━━━━━━━━━━━━\u001b[0m\u001b[37m\u001b[0m \u001b[1m2s\u001b[0m 844us/step - accuracy: 0.5233 - loss: nan - val_accuracy: 0.5368 - val_loss: nan\n",
      "Epoch 29/30\n",
      "\u001b[1m2821/2821\u001b[0m \u001b[32m━━━━━━━━━━━━━━━━━━━━\u001b[0m\u001b[37m\u001b[0m \u001b[1m2s\u001b[0m 663us/step - accuracy: 0.5221 - loss: nan - val_accuracy: 0.5368 - val_loss: nan\n",
      "Epoch 30/30\n",
      "\u001b[1m2821/2821\u001b[0m \u001b[32m━━━━━━━━━━━━━━━━━━━━\u001b[0m\u001b[37m\u001b[0m \u001b[1m2s\u001b[0m 754us/step - accuracy: 0.5262 - loss: nan - val_accuracy: 0.5368 - val_loss: nan\n",
      "\u001b[1m1/1\u001b[0m \u001b[32m━━━━━━━━━━━━━━━━━━━━\u001b[0m\u001b[37m\u001b[0m \u001b[1m0s\u001b[0m 16ms/step\n",
      "\n",
      "Processing race 13\n",
      "Training data shape: (258, 13)\n",
      "Test data shape: (20, 13)\n",
      "Epoch 1/30\n",
      "\u001b[1m3316/3316\u001b[0m \u001b[32m━━━━━━━━━━━━━━━━━━━━\u001b[0m\u001b[37m\u001b[0m \u001b[1m2s\u001b[0m 711us/step - accuracy: 0.5278 - loss: nan - val_accuracy: 0.5270 - val_loss: nan\n",
      "Epoch 2/30\n",
      "\u001b[1m3316/3316\u001b[0m \u001b[32m━━━━━━━━━━━━━━━━━━━━\u001b[0m\u001b[37m\u001b[0m \u001b[1m2s\u001b[0m 663us/step - accuracy: 0.5279 - loss: nan - val_accuracy: 0.5270 - val_loss: nan\n",
      "Epoch 3/30\n",
      "\u001b[1m3316/3316\u001b[0m \u001b[32m━━━━━━━━━━━━━━━━━━━━\u001b[0m\u001b[37m\u001b[0m \u001b[1m2s\u001b[0m 654us/step - accuracy: 0.5257 - loss: nan - val_accuracy: 0.5270 - val_loss: nan\n",
      "Epoch 4/30\n",
      "\u001b[1m3316/3316\u001b[0m \u001b[32m━━━━━━━━━━━━━━━━━━━━\u001b[0m\u001b[37m\u001b[0m \u001b[1m2s\u001b[0m 654us/step - accuracy: 0.5260 - loss: nan - val_accuracy: 0.5270 - val_loss: nan\n",
      "Epoch 5/30\n",
      "\u001b[1m3316/3316\u001b[0m \u001b[32m━━━━━━━━━━━━━━━━━━━━\u001b[0m\u001b[37m\u001b[0m \u001b[1m2s\u001b[0m 703us/step - accuracy: 0.5243 - loss: nan - val_accuracy: 0.5270 - val_loss: nan\n",
      "Epoch 6/30\n",
      "\u001b[1m3316/3316\u001b[0m \u001b[32m━━━━━━━━━━━━━━━━━━━━\u001b[0m\u001b[37m\u001b[0m \u001b[1m2s\u001b[0m 688us/step - accuracy: 0.5233 - loss: nan - val_accuracy: 0.5270 - val_loss: nan\n",
      "Epoch 7/30\n",
      "\u001b[1m3316/3316\u001b[0m \u001b[32m━━━━━━━━━━━━━━━━━━━━\u001b[0m\u001b[37m\u001b[0m \u001b[1m2s\u001b[0m 682us/step - accuracy: 0.5286 - loss: nan - val_accuracy: 0.5270 - val_loss: nan\n",
      "Epoch 8/30\n",
      "\u001b[1m3316/3316\u001b[0m \u001b[32m━━━━━━━━━━━━━━━━━━━━\u001b[0m\u001b[37m\u001b[0m \u001b[1m2s\u001b[0m 688us/step - accuracy: 0.5263 - loss: nan - val_accuracy: 0.5270 - val_loss: nan\n",
      "Epoch 9/30\n",
      "\u001b[1m3316/3316\u001b[0m \u001b[32m━━━━━━━━━━━━━━━━━━━━\u001b[0m\u001b[37m\u001b[0m \u001b[1m3s\u001b[0m 1ms/step - accuracy: 0.5296 - loss: nan - val_accuracy: 0.5270 - val_loss: nan\n",
      "Epoch 10/30\n",
      "\u001b[1m3316/3316\u001b[0m \u001b[32m━━━━━━━━━━━━━━━━━━━━\u001b[0m\u001b[37m\u001b[0m \u001b[1m2s\u001b[0m 692us/step - accuracy: 0.5277 - loss: nan - val_accuracy: 0.5270 - val_loss: nan\n",
      "Epoch 11/30\n",
      "\u001b[1m3316/3316\u001b[0m \u001b[32m━━━━━━━━━━━━━━━━━━━━\u001b[0m\u001b[37m\u001b[0m \u001b[1m2s\u001b[0m 657us/step - accuracy: 0.5283 - loss: nan - val_accuracy: 0.5270 - val_loss: nan\n",
      "Epoch 12/30\n",
      "\u001b[1m3316/3316\u001b[0m \u001b[32m━━━━━━━━━━━━━━━━━━━━\u001b[0m\u001b[37m\u001b[0m \u001b[1m2s\u001b[0m 652us/step - accuracy: 0.5274 - loss: nan - val_accuracy: 0.5270 - val_loss: nan\n",
      "Epoch 13/30\n",
      "\u001b[1m3316/3316\u001b[0m \u001b[32m━━━━━━━━━━━━━━━━━━━━\u001b[0m\u001b[37m\u001b[0m \u001b[1m2s\u001b[0m 666us/step - accuracy: 0.5268 - loss: nan - val_accuracy: 0.5270 - val_loss: nan\n",
      "Epoch 14/30\n",
      "\u001b[1m3316/3316\u001b[0m \u001b[32m━━━━━━━━━━━━━━━━━━━━\u001b[0m\u001b[37m\u001b[0m \u001b[1m2s\u001b[0m 648us/step - accuracy: 0.5301 - loss: nan - val_accuracy: 0.5270 - val_loss: nan\n",
      "Epoch 15/30\n",
      "\u001b[1m3316/3316\u001b[0m \u001b[32m━━━━━━━━━━━━━━━━━━━━\u001b[0m\u001b[37m\u001b[0m \u001b[1m2s\u001b[0m 648us/step - accuracy: 0.5263 - loss: nan - val_accuracy: 0.5270 - val_loss: nan\n",
      "Epoch 16/30\n",
      "\u001b[1m3316/3316\u001b[0m \u001b[32m━━━━━━━━━━━━━━━━━━━━\u001b[0m\u001b[37m\u001b[0m \u001b[1m2s\u001b[0m 659us/step - accuracy: 0.5279 - loss: nan - val_accuracy: 0.5270 - val_loss: nan\n",
      "Epoch 17/30\n",
      "\u001b[1m3316/3316\u001b[0m \u001b[32m━━━━━━━━━━━━━━━━━━━━\u001b[0m\u001b[37m\u001b[0m \u001b[1m2s\u001b[0m 662us/step - accuracy: 0.5281 - loss: nan - val_accuracy: 0.5270 - val_loss: nan\n",
      "Epoch 18/30\n",
      "\u001b[1m3316/3316\u001b[0m \u001b[32m━━━━━━━━━━━━━━━━━━━━\u001b[0m\u001b[37m\u001b[0m \u001b[1m2s\u001b[0m 658us/step - accuracy: 0.5283 - loss: nan - val_accuracy: 0.5270 - val_loss: nan\n",
      "Epoch 19/30\n",
      "\u001b[1m3316/3316\u001b[0m \u001b[32m━━━━━━━━━━━━━━━━━━━━\u001b[0m\u001b[37m\u001b[0m \u001b[1m2s\u001b[0m 674us/step - accuracy: 0.5258 - loss: nan - val_accuracy: 0.5270 - val_loss: nan\n",
      "Epoch 20/30\n",
      "\u001b[1m3316/3316\u001b[0m \u001b[32m━━━━━━━━━━━━━━━━━━━━\u001b[0m\u001b[37m\u001b[0m \u001b[1m2s\u001b[0m 670us/step - accuracy: 0.5268 - loss: nan - val_accuracy: 0.5270 - val_loss: nan\n",
      "Epoch 21/30\n",
      "\u001b[1m3316/3316\u001b[0m \u001b[32m━━━━━━━━━━━━━━━━━━━━\u001b[0m\u001b[37m\u001b[0m \u001b[1m2s\u001b[0m 684us/step - accuracy: 0.5234 - loss: nan - val_accuracy: 0.5270 - val_loss: nan\n",
      "Epoch 22/30\n",
      "\u001b[1m3316/3316\u001b[0m \u001b[32m━━━━━━━━━━━━━━━━━━━━\u001b[0m\u001b[37m\u001b[0m \u001b[1m3s\u001b[0m 763us/step - accuracy: 0.5283 - loss: nan - val_accuracy: 0.5270 - val_loss: nan\n",
      "Epoch 23/30\n",
      "\u001b[1m3316/3316\u001b[0m \u001b[32m━━━━━━━━━━━━━━━━━━━━\u001b[0m\u001b[37m\u001b[0m \u001b[1m2s\u001b[0m 706us/step - accuracy: 0.5256 - loss: nan - val_accuracy: 0.5270 - val_loss: nan\n",
      "Epoch 24/30\n",
      "\u001b[1m3316/3316\u001b[0m \u001b[32m━━━━━━━━━━━━━━━━━━━━\u001b[0m\u001b[37m\u001b[0m \u001b[1m2s\u001b[0m 677us/step - accuracy: 0.5248 - loss: nan - val_accuracy: 0.5270 - val_loss: nan\n",
      "Epoch 25/30\n",
      "\u001b[1m3316/3316\u001b[0m \u001b[32m━━━━━━━━━━━━━━━━━━━━\u001b[0m\u001b[37m\u001b[0m \u001b[1m2s\u001b[0m 696us/step - accuracy: 0.5282 - loss: nan - val_accuracy: 0.5270 - val_loss: nan\n",
      "Epoch 26/30\n",
      "\u001b[1m3316/3316\u001b[0m \u001b[32m━━━━━━━━━━━━━━━━━━━━\u001b[0m\u001b[37m\u001b[0m \u001b[1m2s\u001b[0m 691us/step - accuracy: 0.5268 - loss: nan - val_accuracy: 0.5270 - val_loss: nan\n",
      "Epoch 27/30\n",
      "\u001b[1m3316/3316\u001b[0m \u001b[32m━━━━━━━━━━━━━━━━━━━━\u001b[0m\u001b[37m\u001b[0m \u001b[1m2s\u001b[0m 684us/step - accuracy: 0.5221 - loss: nan - val_accuracy: 0.5270 - val_loss: nan\n",
      "Epoch 28/30\n",
      "\u001b[1m3316/3316\u001b[0m \u001b[32m━━━━━━━━━━━━━━━━━━━━\u001b[0m\u001b[37m\u001b[0m \u001b[1m2s\u001b[0m 674us/step - accuracy: 0.5279 - loss: nan - val_accuracy: 0.5270 - val_loss: nan\n",
      "Epoch 29/30\n",
      "\u001b[1m3316/3316\u001b[0m \u001b[32m━━━━━━━━━━━━━━━━━━━━\u001b[0m\u001b[37m\u001b[0m \u001b[1m2s\u001b[0m 713us/step - accuracy: 0.5306 - loss: nan - val_accuracy: 0.5270 - val_loss: nan\n",
      "Epoch 30/30\n",
      "\u001b[1m3316/3316\u001b[0m \u001b[32m━━━━━━━━━━━━━━━━━━━━\u001b[0m\u001b[37m\u001b[0m \u001b[1m3s\u001b[0m 804us/step - accuracy: 0.5273 - loss: nan - val_accuracy: 0.5270 - val_loss: nan\n",
      "\u001b[1m1/1\u001b[0m \u001b[32m━━━━━━━━━━━━━━━━━━━━\u001b[0m\u001b[37m\u001b[0m \u001b[1m0s\u001b[0m 16ms/step\n",
      "\n",
      "Processing race 14\n",
      "Training data shape: (278, 13)\n",
      "Test data shape: (20, 13)\n",
      "Epoch 1/30\n",
      "\u001b[1m3851/3851\u001b[0m \u001b[32m━━━━━━━━━━━━━━━━━━━━\u001b[0m\u001b[37m\u001b[0m \u001b[1m3s\u001b[0m 879us/step - accuracy: 0.5242 - loss: nan - val_accuracy: 0.5338 - val_loss: nan\n",
      "Epoch 2/30\n",
      "\u001b[1m3851/3851\u001b[0m \u001b[32m━━━━━━━━━━━━━━━━━━━━\u001b[0m\u001b[37m\u001b[0m \u001b[1m3s\u001b[0m 687us/step - accuracy: 0.5243 - loss: nan - val_accuracy: 0.5338 - val_loss: nan\n",
      "Epoch 3/30\n",
      "\u001b[1m3851/3851\u001b[0m \u001b[32m━━━━━━━━━━━━━━━━━━━━\u001b[0m\u001b[37m\u001b[0m \u001b[1m3s\u001b[0m 686us/step - accuracy: 0.5274 - loss: nan - val_accuracy: 0.5338 - val_loss: nan\n",
      "Epoch 4/30\n",
      "\u001b[1m3851/3851\u001b[0m \u001b[32m━━━━━━━━━━━━━━━━━━━━\u001b[0m\u001b[37m\u001b[0m \u001b[1m3s\u001b[0m 687us/step - accuracy: 0.5261 - loss: nan - val_accuracy: 0.5338 - val_loss: nan\n",
      "Epoch 5/30\n",
      "\u001b[1m3851/3851\u001b[0m \u001b[32m━━━━━━━━━━━━━━━━━━━━\u001b[0m\u001b[37m\u001b[0m \u001b[1m3s\u001b[0m 752us/step - accuracy: 0.5245 - loss: nan - val_accuracy: 0.5338 - val_loss: nan\n",
      "Epoch 6/30\n",
      "\u001b[1m3851/3851\u001b[0m \u001b[32m━━━━━━━━━━━━━━━━━━━━\u001b[0m\u001b[37m\u001b[0m \u001b[1m3s\u001b[0m 728us/step - accuracy: 0.5223 - loss: nan - val_accuracy: 0.5338 - val_loss: nan\n",
      "Epoch 7/30\n",
      "\u001b[1m3851/3851\u001b[0m \u001b[32m━━━━━━━━━━━━━━━━━━━━\u001b[0m\u001b[37m\u001b[0m \u001b[1m3s\u001b[0m 674us/step - accuracy: 0.5247 - loss: nan - val_accuracy: 0.5338 - val_loss: nan\n",
      "Epoch 8/30\n",
      "\u001b[1m3851/3851\u001b[0m \u001b[32m━━━━━━━━━━━━━━━━━━━━\u001b[0m\u001b[37m\u001b[0m \u001b[1m3s\u001b[0m 721us/step - accuracy: 0.5248 - loss: nan - val_accuracy: 0.5338 - val_loss: nan\n",
      "Epoch 9/30\n",
      "\u001b[1m3851/3851\u001b[0m \u001b[32m━━━━━━━━━━━━━━━━━━━━\u001b[0m\u001b[37m\u001b[0m \u001b[1m3s\u001b[0m 703us/step - accuracy: 0.5263 - loss: nan - val_accuracy: 0.5338 - val_loss: nan\n",
      "Epoch 10/30\n",
      "\u001b[1m3851/3851\u001b[0m \u001b[32m━━━━━━━━━━━━━━━━━━━━\u001b[0m\u001b[37m\u001b[0m \u001b[1m3s\u001b[0m 705us/step - accuracy: 0.5262 - loss: nan - val_accuracy: 0.5338 - val_loss: nan\n",
      "Epoch 11/30\n",
      "\u001b[1m3851/3851\u001b[0m \u001b[32m━━━━━━━━━━━━━━━━━━━━\u001b[0m\u001b[37m\u001b[0m \u001b[1m3s\u001b[0m 712us/step - accuracy: 0.5233 - loss: nan - val_accuracy: 0.5338 - val_loss: nan\n",
      "Epoch 12/30\n",
      "\u001b[1m3851/3851\u001b[0m \u001b[32m━━━━━━━━━━━━━━━━━━━━\u001b[0m\u001b[37m\u001b[0m \u001b[1m3s\u001b[0m 708us/step - accuracy: 0.5264 - loss: nan - val_accuracy: 0.5338 - val_loss: nan\n",
      "Epoch 13/30\n",
      "\u001b[1m3851/3851\u001b[0m \u001b[32m━━━━━━━━━━━━━━━━━━━━\u001b[0m\u001b[37m\u001b[0m \u001b[1m3s\u001b[0m 705us/step - accuracy: 0.5254 - loss: nan - val_accuracy: 0.5338 - val_loss: nan\n",
      "Epoch 14/30\n",
      "\u001b[1m3851/3851\u001b[0m \u001b[32m━━━━━━━━━━━━━━━━━━━━\u001b[0m\u001b[37m\u001b[0m \u001b[1m3s\u001b[0m 701us/step - accuracy: 0.5253 - loss: nan - val_accuracy: 0.5338 - val_loss: nan\n",
      "Epoch 15/30\n",
      "\u001b[1m3851/3851\u001b[0m \u001b[32m━━━━━━━━━━━━━━━━━━━━\u001b[0m\u001b[37m\u001b[0m \u001b[1m3s\u001b[0m 684us/step - accuracy: 0.5204 - loss: nan - val_accuracy: 0.5338 - val_loss: nan\n",
      "Epoch 16/30\n",
      "\u001b[1m3851/3851\u001b[0m \u001b[32m━━━━━━━━━━━━━━━━━━━━\u001b[0m\u001b[37m\u001b[0m \u001b[1m3s\u001b[0m 720us/step - accuracy: 0.5258 - loss: nan - val_accuracy: 0.5338 - val_loss: nan\n",
      "Epoch 17/30\n",
      "\u001b[1m3851/3851\u001b[0m \u001b[32m━━━━━━━━━━━━━━━━━━━━\u001b[0m\u001b[37m\u001b[0m \u001b[1m3s\u001b[0m 677us/step - accuracy: 0.5225 - loss: nan - val_accuracy: 0.5338 - val_loss: nan\n",
      "Epoch 18/30\n",
      "\u001b[1m3851/3851\u001b[0m \u001b[32m━━━━━━━━━━━━━━━━━━━━\u001b[0m\u001b[37m\u001b[0m \u001b[1m3s\u001b[0m 663us/step - accuracy: 0.5255 - loss: nan - val_accuracy: 0.5338 - val_loss: nan\n",
      "Epoch 19/30\n",
      "\u001b[1m3851/3851\u001b[0m \u001b[32m━━━━━━━━━━━━━━━━━━━━\u001b[0m\u001b[37m\u001b[0m \u001b[1m3s\u001b[0m 661us/step - accuracy: 0.5246 - loss: nan - val_accuracy: 0.5338 - val_loss: nan\n",
      "Epoch 20/30\n",
      "\u001b[1m3851/3851\u001b[0m \u001b[32m━━━━━━━━━━━━━━━━━━━━\u001b[0m\u001b[37m\u001b[0m \u001b[1m3s\u001b[0m 668us/step - accuracy: 0.5257 - loss: nan - val_accuracy: 0.5338 - val_loss: nan\n",
      "Epoch 21/30\n",
      "\u001b[1m3851/3851\u001b[0m \u001b[32m━━━━━━━━━━━━━━━━━━━━\u001b[0m\u001b[37m\u001b[0m \u001b[1m3s\u001b[0m 652us/step - accuracy: 0.5232 - loss: nan - val_accuracy: 0.5338 - val_loss: nan\n",
      "Epoch 22/30\n",
      "\u001b[1m3851/3851\u001b[0m \u001b[32m━━━━━━━━━━━━━━━━━━━━\u001b[0m\u001b[37m\u001b[0m \u001b[1m3s\u001b[0m 672us/step - accuracy: 0.5249 - loss: nan - val_accuracy: 0.5338 - val_loss: nan\n",
      "Epoch 23/30\n",
      "\u001b[1m3851/3851\u001b[0m \u001b[32m━━━━━━━━━━━━━━━━━━━━\u001b[0m\u001b[37m\u001b[0m \u001b[1m3s\u001b[0m 676us/step - accuracy: 0.5232 - loss: nan - val_accuracy: 0.5338 - val_loss: nan\n",
      "Epoch 24/30\n",
      "\u001b[1m3851/3851\u001b[0m \u001b[32m━━━━━━━━━━━━━━━━━━━━\u001b[0m\u001b[37m\u001b[0m \u001b[1m3s\u001b[0m 660us/step - accuracy: 0.5227 - loss: nan - val_accuracy: 0.5338 - val_loss: nan\n",
      "Epoch 25/30\n",
      "\u001b[1m3851/3851\u001b[0m \u001b[32m━━━━━━━━━━━━━━━━━━━━\u001b[0m\u001b[37m\u001b[0m \u001b[1m3s\u001b[0m 664us/step - accuracy: 0.5242 - loss: nan - val_accuracy: 0.5338 - val_loss: nan\n",
      "Epoch 26/30\n",
      "\u001b[1m3851/3851\u001b[0m \u001b[32m━━━━━━━━━━━━━━━━━━━━\u001b[0m\u001b[37m\u001b[0m \u001b[1m3s\u001b[0m 657us/step - accuracy: 0.5269 - loss: nan - val_accuracy: 0.5338 - val_loss: nan\n",
      "Epoch 27/30\n",
      "\u001b[1m3851/3851\u001b[0m \u001b[32m━━━━━━━━━━━━━━━━━━━━\u001b[0m\u001b[37m\u001b[0m \u001b[1m3s\u001b[0m 668us/step - accuracy: 0.5255 - loss: nan - val_accuracy: 0.5338 - val_loss: nan\n",
      "Epoch 28/30\n",
      "\u001b[1m3851/3851\u001b[0m \u001b[32m━━━━━━━━━━━━━━━━━━━━\u001b[0m\u001b[37m\u001b[0m \u001b[1m3s\u001b[0m 655us/step - accuracy: 0.5280 - loss: nan - val_accuracy: 0.5338 - val_loss: nan\n",
      "Epoch 29/30\n",
      "\u001b[1m3851/3851\u001b[0m \u001b[32m━━━━━━━━━━━━━━━━━━━━\u001b[0m\u001b[37m\u001b[0m \u001b[1m3s\u001b[0m 662us/step - accuracy: 0.5223 - loss: nan - val_accuracy: 0.5338 - val_loss: nan\n",
      "Epoch 30/30\n",
      "\u001b[1m3851/3851\u001b[0m \u001b[32m━━━━━━━━━━━━━━━━━━━━\u001b[0m\u001b[37m\u001b[0m \u001b[1m3s\u001b[0m 664us/step - accuracy: 0.5264 - loss: nan - val_accuracy: 0.5338 - val_loss: nan\n",
      "\u001b[1m1/1\u001b[0m \u001b[32m━━━━━━━━━━━━━━━━━━━━\u001b[0m\u001b[37m\u001b[0m \u001b[1m0s\u001b[0m 15ms/step\n",
      "\n",
      "Processing race 15\n",
      "Training data shape: (298, 13)\n",
      "Test data shape: (20, 13)\n",
      "Epoch 1/30\n",
      "\u001b[1m4426/4426\u001b[0m \u001b[32m━━━━━━━━━━━━━━━━━━━━\u001b[0m\u001b[37m\u001b[0m \u001b[1m3s\u001b[0m 681us/step - accuracy: 0.5275 - loss: nan - val_accuracy: 0.5275 - val_loss: nan\n",
      "Epoch 2/30\n",
      "\u001b[1m4426/4426\u001b[0m \u001b[32m━━━━━━━━━━━━━━━━━━━━\u001b[0m\u001b[37m\u001b[0m \u001b[1m3s\u001b[0m 683us/step - accuracy: 0.5253 - loss: nan - val_accuracy: 0.5275 - val_loss: nan\n",
      "Epoch 3/30\n",
      "\u001b[1m4426/4426\u001b[0m \u001b[32m━━━━━━━━━━━━━━━━━━━━\u001b[0m\u001b[37m\u001b[0m \u001b[1m3s\u001b[0m 684us/step - accuracy: 0.5244 - loss: nan - val_accuracy: 0.5275 - val_loss: nan\n",
      "Epoch 4/30\n",
      "\u001b[1m4426/4426\u001b[0m \u001b[32m━━━━━━━━━━━━━━━━━━━━\u001b[0m\u001b[37m\u001b[0m \u001b[1m3s\u001b[0m 680us/step - accuracy: 0.5234 - loss: nan - val_accuracy: 0.5275 - val_loss: nan\n",
      "Epoch 5/30\n",
      "\u001b[1m4426/4426\u001b[0m \u001b[32m━━━━━━━━━━━━━━━━━━━━\u001b[0m\u001b[37m\u001b[0m \u001b[1m3s\u001b[0m 678us/step - accuracy: 0.5244 - loss: nan - val_accuracy: 0.5275 - val_loss: nan\n",
      "Epoch 6/30\n",
      "\u001b[1m4426/4426\u001b[0m \u001b[32m━━━━━━━━━━━━━━━━━━━━\u001b[0m\u001b[37m\u001b[0m \u001b[1m3s\u001b[0m 687us/step - accuracy: 0.5263 - loss: nan - val_accuracy: 0.5275 - val_loss: nan\n",
      "Epoch 7/30\n",
      "\u001b[1m4426/4426\u001b[0m \u001b[32m━━━━━━━━━━━━━━━━━━━━\u001b[0m\u001b[37m\u001b[0m \u001b[1m3s\u001b[0m 747us/step - accuracy: 0.5275 - loss: nan - val_accuracy: 0.5275 - val_loss: nan\n",
      "Epoch 8/30\n",
      "\u001b[1m4426/4426\u001b[0m \u001b[32m━━━━━━━━━━━━━━━━━━━━\u001b[0m\u001b[37m\u001b[0m \u001b[1m4s\u001b[0m 813us/step - accuracy: 0.5246 - loss: nan - val_accuracy: 0.5275 - val_loss: nan\n",
      "Epoch 9/30\n",
      "\u001b[1m4426/4426\u001b[0m \u001b[32m━━━━━━━━━━━━━━━━━━━━\u001b[0m\u001b[37m\u001b[0m \u001b[1m3s\u001b[0m 666us/step - accuracy: 0.5269 - loss: nan - val_accuracy: 0.5275 - val_loss: nan\n",
      "Epoch 10/30\n",
      "\u001b[1m4426/4426\u001b[0m \u001b[32m━━━━━━━━━━━━━━━━━━━━\u001b[0m\u001b[37m\u001b[0m \u001b[1m3s\u001b[0m 674us/step - accuracy: 0.5275 - loss: nan - val_accuracy: 0.5275 - val_loss: nan\n",
      "Epoch 11/30\n",
      "\u001b[1m4426/4426\u001b[0m \u001b[32m━━━━━━━━━━━━━━━━━━━━\u001b[0m\u001b[37m\u001b[0m \u001b[1m3s\u001b[0m 664us/step - accuracy: 0.5259 - loss: nan - val_accuracy: 0.5275 - val_loss: nan\n",
      "Epoch 12/30\n",
      "\u001b[1m4426/4426\u001b[0m \u001b[32m━━━━━━━━━━━━━━━━━━━━\u001b[0m\u001b[37m\u001b[0m \u001b[1m3s\u001b[0m 659us/step - accuracy: 0.5235 - loss: nan - val_accuracy: 0.5275 - val_loss: nan\n",
      "Epoch 13/30\n",
      "\u001b[1m4426/4426\u001b[0m \u001b[32m━━━━━━━━━━━━━━━━━━━━\u001b[0m\u001b[37m\u001b[0m \u001b[1m3s\u001b[0m 660us/step - accuracy: 0.5251 - loss: nan - val_accuracy: 0.5275 - val_loss: nan\n",
      "Epoch 14/30\n",
      "\u001b[1m4426/4426\u001b[0m \u001b[32m━━━━━━━━━━━━━━━━━━━━\u001b[0m\u001b[37m\u001b[0m \u001b[1m3s\u001b[0m 665us/step - accuracy: 0.5253 - loss: nan - val_accuracy: 0.5275 - val_loss: nan\n",
      "Epoch 15/30\n",
      "\u001b[1m4426/4426\u001b[0m \u001b[32m━━━━━━━━━━━━━━━━━━━━\u001b[0m\u001b[37m\u001b[0m \u001b[1m3s\u001b[0m 677us/step - accuracy: 0.5262 - loss: nan - val_accuracy: 0.5275 - val_loss: nan\n",
      "Epoch 16/30\n",
      "\u001b[1m4426/4426\u001b[0m \u001b[32m━━━━━━━━━━━━━━━━━━━━\u001b[0m\u001b[37m\u001b[0m \u001b[1m3s\u001b[0m 667us/step - accuracy: 0.5225 - loss: nan - val_accuracy: 0.5275 - val_loss: nan\n",
      "Epoch 17/30\n",
      "\u001b[1m4426/4426\u001b[0m \u001b[32m━━━━━━━━━━━━━━━━━━━━\u001b[0m\u001b[37m\u001b[0m \u001b[1m4s\u001b[0m 852us/step - accuracy: 0.5270 - loss: nan - val_accuracy: 0.5275 - val_loss: nan\n",
      "Epoch 18/30\n",
      "\u001b[1m4426/4426\u001b[0m \u001b[32m━━━━━━━━━━━━━━━━━━━━\u001b[0m\u001b[37m\u001b[0m \u001b[1m3s\u001b[0m 656us/step - accuracy: 0.5283 - loss: nan - val_accuracy: 0.5275 - val_loss: nan\n",
      "Epoch 19/30\n",
      "\u001b[1m4426/4426\u001b[0m \u001b[32m━━━━━━━━━━━━━━━━━━━━\u001b[0m\u001b[37m\u001b[0m \u001b[1m3s\u001b[0m 680us/step - accuracy: 0.5261 - loss: nan - val_accuracy: 0.5275 - val_loss: nan\n",
      "Epoch 20/30\n",
      "\u001b[1m4426/4426\u001b[0m \u001b[32m━━━━━━━━━━━━━━━━━━━━\u001b[0m\u001b[37m\u001b[0m \u001b[1m3s\u001b[0m 671us/step - accuracy: 0.5249 - loss: nan - val_accuracy: 0.5275 - val_loss: nan\n",
      "Epoch 21/30\n",
      "\u001b[1m4426/4426\u001b[0m \u001b[32m━━━━━━━━━━━━━━━━━━━━\u001b[0m\u001b[37m\u001b[0m \u001b[1m3s\u001b[0m 663us/step - accuracy: 0.5266 - loss: nan - val_accuracy: 0.5275 - val_loss: nan\n",
      "Epoch 22/30\n",
      "\u001b[1m4426/4426\u001b[0m \u001b[32m━━━━━━━━━━━━━━━━━━━━\u001b[0m\u001b[37m\u001b[0m \u001b[1m3s\u001b[0m 665us/step - accuracy: 0.5260 - loss: nan - val_accuracy: 0.5275 - val_loss: nan\n",
      "Epoch 23/30\n",
      "\u001b[1m4426/4426\u001b[0m \u001b[32m━━━━━━━━━━━━━━━━━━━━\u001b[0m\u001b[37m\u001b[0m \u001b[1m3s\u001b[0m 668us/step - accuracy: 0.5285 - loss: nan - val_accuracy: 0.5275 - val_loss: nan\n",
      "Epoch 24/30\n",
      "\u001b[1m4426/4426\u001b[0m \u001b[32m━━━━━━━━━━━━━━━━━━━━\u001b[0m\u001b[37m\u001b[0m \u001b[1m3s\u001b[0m 670us/step - accuracy: 0.5255 - loss: nan - val_accuracy: 0.5275 - val_loss: nan\n",
      "Epoch 25/30\n",
      "\u001b[1m4426/4426\u001b[0m \u001b[32m━━━━━━━━━━━━━━━━━━━━\u001b[0m\u001b[37m\u001b[0m \u001b[1m3s\u001b[0m 665us/step - accuracy: 0.5268 - loss: nan - val_accuracy: 0.5275 - val_loss: nan\n",
      "Epoch 26/30\n",
      "\u001b[1m4426/4426\u001b[0m \u001b[32m━━━━━━━━━━━━━━━━━━━━\u001b[0m\u001b[37m\u001b[0m \u001b[1m3s\u001b[0m 673us/step - accuracy: 0.5276 - loss: nan - val_accuracy: 0.5275 - val_loss: nan\n",
      "Epoch 27/30\n",
      "\u001b[1m4426/4426\u001b[0m \u001b[32m━━━━━━━━━━━━━━━━━━━━\u001b[0m\u001b[37m\u001b[0m \u001b[1m3s\u001b[0m 690us/step - accuracy: 0.5277 - loss: nan - val_accuracy: 0.5275 - val_loss: nan\n",
      "Epoch 28/30\n",
      "\u001b[1m4426/4426\u001b[0m \u001b[32m━━━━━━━━━━━━━━━━━━━━\u001b[0m\u001b[37m\u001b[0m \u001b[1m3s\u001b[0m 666us/step - accuracy: 0.5262 - loss: nan - val_accuracy: 0.5275 - val_loss: nan\n",
      "Epoch 29/30\n",
      "\u001b[1m4426/4426\u001b[0m \u001b[32m━━━━━━━━━━━━━━━━━━━━\u001b[0m\u001b[37m\u001b[0m \u001b[1m3s\u001b[0m 671us/step - accuracy: 0.5278 - loss: nan - val_accuracy: 0.5275 - val_loss: nan\n",
      "Epoch 30/30\n",
      "\u001b[1m4426/4426\u001b[0m \u001b[32m━━━━━━━━━━━━━━━━━━━━\u001b[0m\u001b[37m\u001b[0m \u001b[1m3s\u001b[0m 663us/step - accuracy: 0.5267 - loss: nan - val_accuracy: 0.5275 - val_loss: nan\n",
      "\u001b[1m1/1\u001b[0m \u001b[32m━━━━━━━━━━━━━━━━━━━━\u001b[0m\u001b[37m\u001b[0m \u001b[1m0s\u001b[0m 15ms/step\n",
      "\n",
      "Processing race 16\n",
      "Training data shape: (318, 13)\n",
      "Test data shape: (20, 13)\n",
      "Epoch 1/30\n",
      "\u001b[1m5041/5041\u001b[0m \u001b[32m━━━━━━━━━━━━━━━━━━━━\u001b[0m\u001b[37m\u001b[0m \u001b[1m3s\u001b[0m 672us/step - accuracy: 0.5330 - loss: nan - val_accuracy: 0.5156 - val_loss: nan\n",
      "Epoch 2/30\n",
      "\u001b[1m5041/5041\u001b[0m \u001b[32m━━━━━━━━━━━━━━━━━━━━\u001b[0m\u001b[37m\u001b[0m \u001b[1m3s\u001b[0m 684us/step - accuracy: 0.5286 - loss: nan - val_accuracy: 0.5156 - val_loss: nan\n",
      "Epoch 3/30\n",
      "\u001b[1m5041/5041\u001b[0m \u001b[32m━━━━━━━━━━━━━━━━━━━━\u001b[0m\u001b[37m\u001b[0m \u001b[1m3s\u001b[0m 672us/step - accuracy: 0.5278 - loss: nan - val_accuracy: 0.5156 - val_loss: nan\n",
      "Epoch 4/30\n",
      "\u001b[1m5041/5041\u001b[0m \u001b[32m━━━━━━━━━━━━━━━━━━━━\u001b[0m\u001b[37m\u001b[0m \u001b[1m3s\u001b[0m 670us/step - accuracy: 0.5305 - loss: nan - val_accuracy: 0.5156 - val_loss: nan\n",
      "Epoch 5/30\n",
      "\u001b[1m5041/5041\u001b[0m \u001b[32m━━━━━━━━━━━━━━━━━━━━\u001b[0m\u001b[37m\u001b[0m \u001b[1m3s\u001b[0m 665us/step - accuracy: 0.5301 - loss: nan - val_accuracy: 0.5156 - val_loss: nan\n",
      "Epoch 6/30\n",
      "\u001b[1m5041/5041\u001b[0m \u001b[32m━━━━━━━━━━━━━━━━━━━━\u001b[0m\u001b[37m\u001b[0m \u001b[1m3s\u001b[0m 673us/step - accuracy: 0.5318 - loss: nan - val_accuracy: 0.5156 - val_loss: nan\n",
      "Epoch 7/30\n",
      "\u001b[1m5041/5041\u001b[0m \u001b[32m━━━━━━━━━━━━━━━━━━━━\u001b[0m\u001b[37m\u001b[0m \u001b[1m3s\u001b[0m 667us/step - accuracy: 0.5272 - loss: nan - val_accuracy: 0.5156 - val_loss: nan\n",
      "Epoch 8/30\n",
      "\u001b[1m5041/5041\u001b[0m \u001b[32m━━━━━━━━━━━━━━━━━━━━\u001b[0m\u001b[37m\u001b[0m \u001b[1m3s\u001b[0m 661us/step - accuracy: 0.5283 - loss: nan - val_accuracy: 0.5156 - val_loss: nan\n",
      "Epoch 9/30\n",
      "\u001b[1m5041/5041\u001b[0m \u001b[32m━━━━━━━━━━━━━━━━━━━━\u001b[0m\u001b[37m\u001b[0m \u001b[1m3s\u001b[0m 660us/step - accuracy: 0.5285 - loss: nan - val_accuracy: 0.5156 - val_loss: nan\n",
      "Epoch 10/30\n",
      "\u001b[1m5041/5041\u001b[0m \u001b[32m━━━━━━━━━━━━━━━━━━━━\u001b[0m\u001b[37m\u001b[0m \u001b[1m3s\u001b[0m 656us/step - accuracy: 0.5332 - loss: nan - val_accuracy: 0.5156 - val_loss: nan\n",
      "Epoch 11/30\n",
      "\u001b[1m5041/5041\u001b[0m \u001b[32m━━━━━━━━━━━━━━━━━━━━\u001b[0m\u001b[37m\u001b[0m \u001b[1m3s\u001b[0m 659us/step - accuracy: 0.5251 - loss: nan - val_accuracy: 0.5156 - val_loss: nan\n",
      "Epoch 12/30\n",
      "\u001b[1m5041/5041\u001b[0m \u001b[32m━━━━━━━━━━━━━━━━━━━━\u001b[0m\u001b[37m\u001b[0m \u001b[1m3s\u001b[0m 653us/step - accuracy: 0.5302 - loss: nan - val_accuracy: 0.5156 - val_loss: nan\n",
      "Epoch 13/30\n",
      "\u001b[1m5041/5041\u001b[0m \u001b[32m━━━━━━━━━━━━━━━━━━━━\u001b[0m\u001b[37m\u001b[0m \u001b[1m3s\u001b[0m 664us/step - accuracy: 0.5291 - loss: nan - val_accuracy: 0.5156 - val_loss: nan\n",
      "Epoch 14/30\n",
      "\u001b[1m5041/5041\u001b[0m \u001b[32m━━━━━━━━━━━━━━━━━━━━\u001b[0m\u001b[37m\u001b[0m \u001b[1m3s\u001b[0m 659us/step - accuracy: 0.5261 - loss: nan - val_accuracy: 0.5156 - val_loss: nan\n",
      "Epoch 15/30\n",
      "\u001b[1m5041/5041\u001b[0m \u001b[32m━━━━━━━━━━━━━━━━━━━━\u001b[0m\u001b[37m\u001b[0m \u001b[1m4s\u001b[0m 834us/step - accuracy: 0.5315 - loss: nan - val_accuracy: 0.5156 - val_loss: nan\n",
      "Epoch 16/30\n",
      "\u001b[1m5041/5041\u001b[0m \u001b[32m━━━━━━━━━━━━━━━━━━━━\u001b[0m\u001b[37m\u001b[0m \u001b[1m3s\u001b[0m 658us/step - accuracy: 0.5300 - loss: nan - val_accuracy: 0.5156 - val_loss: nan\n",
      "Epoch 17/30\n",
      "\u001b[1m5041/5041\u001b[0m \u001b[32m━━━━━━━━━━━━━━━━━━━━\u001b[0m\u001b[37m\u001b[0m \u001b[1m3s\u001b[0m 669us/step - accuracy: 0.5295 - loss: nan - val_accuracy: 0.5156 - val_loss: nan\n",
      "Epoch 18/30\n",
      "\u001b[1m5041/5041\u001b[0m \u001b[32m━━━━━━━━━━━━━━━━━━━━\u001b[0m\u001b[37m\u001b[0m \u001b[1m3s\u001b[0m 690us/step - accuracy: 0.5293 - loss: nan - val_accuracy: 0.5156 - val_loss: nan\n",
      "Epoch 19/30\n",
      "\u001b[1m5041/5041\u001b[0m \u001b[32m━━━━━━━━━━━━━━━━━━━━\u001b[0m\u001b[37m\u001b[0m \u001b[1m3s\u001b[0m 660us/step - accuracy: 0.5280 - loss: nan - val_accuracy: 0.5156 - val_loss: nan\n",
      "Epoch 20/30\n",
      "\u001b[1m5041/5041\u001b[0m \u001b[32m━━━━━━━━━━━━━━━━━━━━\u001b[0m\u001b[37m\u001b[0m \u001b[1m3s\u001b[0m 670us/step - accuracy: 0.5264 - loss: nan - val_accuracy: 0.5156 - val_loss: nan\n",
      "Epoch 21/30\n",
      "\u001b[1m5041/5041\u001b[0m \u001b[32m━━━━━━━━━━━━━━━━━━━━\u001b[0m\u001b[37m\u001b[0m \u001b[1m3s\u001b[0m 664us/step - accuracy: 0.5295 - loss: nan - val_accuracy: 0.5156 - val_loss: nan\n",
      "Epoch 22/30\n",
      "\u001b[1m5041/5041\u001b[0m \u001b[32m━━━━━━━━━━━━━━━━━━━━\u001b[0m\u001b[37m\u001b[0m \u001b[1m3s\u001b[0m 660us/step - accuracy: 0.5282 - loss: nan - val_accuracy: 0.5156 - val_loss: nan\n",
      "Epoch 23/30\n",
      "\u001b[1m5041/5041\u001b[0m \u001b[32m━━━━━━━━━━━━━━━━━━━━\u001b[0m\u001b[37m\u001b[0m \u001b[1m3s\u001b[0m 666us/step - accuracy: 0.5303 - loss: nan - val_accuracy: 0.5156 - val_loss: nan\n",
      "Epoch 24/30\n",
      "\u001b[1m5041/5041\u001b[0m \u001b[32m━━━━━━━━━━━━━━━━━━━━\u001b[0m\u001b[37m\u001b[0m \u001b[1m3s\u001b[0m 668us/step - accuracy: 0.5306 - loss: nan - val_accuracy: 0.5156 - val_loss: nan\n",
      "Epoch 25/30\n",
      "\u001b[1m5041/5041\u001b[0m \u001b[32m━━━━━━━━━━━━━━━━━━━━\u001b[0m\u001b[37m\u001b[0m \u001b[1m3s\u001b[0m 657us/step - accuracy: 0.5274 - loss: nan - val_accuracy: 0.5156 - val_loss: nan\n",
      "Epoch 26/30\n",
      "\u001b[1m5041/5041\u001b[0m \u001b[32m━━━━━━━━━━━━━━━━━━━━\u001b[0m\u001b[37m\u001b[0m \u001b[1m3s\u001b[0m 661us/step - accuracy: 0.5309 - loss: nan - val_accuracy: 0.5156 - val_loss: nan\n",
      "Epoch 27/30\n",
      "\u001b[1m5041/5041\u001b[0m \u001b[32m━━━━━━━━━━━━━━━━━━━━\u001b[0m\u001b[37m\u001b[0m \u001b[1m3s\u001b[0m 658us/step - accuracy: 0.5324 - loss: nan - val_accuracy: 0.5156 - val_loss: nan\n",
      "Epoch 28/30\n",
      "\u001b[1m5041/5041\u001b[0m \u001b[32m━━━━━━━━━━━━━━━━━━━━\u001b[0m\u001b[37m\u001b[0m \u001b[1m3s\u001b[0m 662us/step - accuracy: 0.5267 - loss: nan - val_accuracy: 0.5156 - val_loss: nan\n",
      "Epoch 29/30\n",
      "\u001b[1m5041/5041\u001b[0m \u001b[32m━━━━━━━━━━━━━━━━━━━━\u001b[0m\u001b[37m\u001b[0m \u001b[1m3s\u001b[0m 662us/step - accuracy: 0.5299 - loss: nan - val_accuracy: 0.5156 - val_loss: nan\n",
      "Epoch 30/30\n",
      "\u001b[1m5041/5041\u001b[0m \u001b[32m━━━━━━━━━━━━━━━━━━━━\u001b[0m\u001b[37m\u001b[0m \u001b[1m3s\u001b[0m 657us/step - accuracy: 0.5319 - loss: nan - val_accuracy: 0.5156 - val_loss: nan\n",
      "\u001b[1m1/1\u001b[0m \u001b[32m━━━━━━━━━━━━━━━━━━━━\u001b[0m\u001b[37m\u001b[0m \u001b[1m0s\u001b[0m 15ms/step\n"
     ]
    }
   ],
   "source": [
    "ranking_results = {}\n",
    "ranknet_predictor = RankNetPredictor()\n",
    "\n",
    "for test_id in range(1, 17):\n",
    "    print(f\"\\nProcessing race {test_id}\")\n",
    "    try:\n",
    "        # Get data only up to a particular round\n",
    "        drivers_combined, y_combined, X_combined, race_ids_combined, group_size_list = filter_for_race(race_to_predict=test_id)\n",
    "\n",
    "        # Split data\n",
    "        X_train, y_train, X_test, y_test, drivers_test = split_xy(drivers_combined, y_combined, X_combined, race_ids_combined, test_id)\n",
    "\n",
    "        print(f\"Training data shape: {X_train.shape}\")\n",
    "        print(f\"Test data shape: {X_test.shape}\")\n",
    "\n",
    "        # Build the RankNet model if not already built\n",
    "        if ranknet_predictor.model is None:\n",
    "            ranknet_predictor.build_model(input_dim=X_train.shape[1])\n",
    "\n",
    "        # Train the RankNet model\n",
    "        ranknet_predictor.train(X_train, y_train, epochs=30, batch_size=16)\n",
    "\n",
    "        # Predict rankings\n",
    "        y_pred_scores = ranknet_predictor.predict(X_test)\n",
    "        predicted_rankings = (-y_pred_scores).argsort().argsort() + 1  # Convert scores to rankings\n",
    "\n",
    "        # Create a results DataFrame\n",
    "        results_df = pd.DataFrame({\n",
    "            'PredictedRank': predicted_rankings,\n",
    "            'ActualPosition': y_test.max() - y_test + 1,  # Transform actual positions if needed\n",
    "            'driver': drivers_test\n",
    "        }).sort_values('ActualPosition').set_index('driver')\n",
    "\n",
    "        results_df['Distance'] = np.abs(results_df['PredictedRank'] - results_df['ActualPosition'])\n",
    "\n",
    "        # Store results\n",
    "        ranking_results[race_name[test_id]] = results_df\n",
    "\n",
    "    except Exception as e:\n",
    "        print(f\"Error processing race {test_id}: {e}\")\n",
    "        continue\n",
    "\n",
    "# Evaluate model performance for each race\n",
    "# summary = []\n",
    "# for race, result in ranking_results.items():\n",
    "#     summary.append(ranknet_predictor.evaluate_model(result, race))\n",
    "\n",
    "# # Display results\n",
    "# summary_df = ranknet_predictor.display_results(summary)\n",
    "# print(summary_df)"
   ]
  },
  {
   "cell_type": "code",
   "execution_count": 46,
   "metadata": {},
   "outputs": [
    {
     "name": "stdout",
     "output_type": "stream",
     "text": [
      "Warning: No valid data for race Dutch Grand Prix\n",
      "Means:\n",
      "mean_ab_error    6.357544\n",
      "spearman_corr    0.068555\n",
      "dtype: float64\n"
     ]
    },
    {
     "data": {
      "application/vnd.plotly.v1+json": {
       "config": {
        "plotlyServerURL": "https://plot.ly"
       },
       "data": [
        {
         "name": "MARE",
         "type": "bar",
         "x": [
          "Saudi Arabian Grand Prix",
          "Australian Grand Prix",
          "Japanese Grand Prix",
          "Emilia Romagna Grand Prix",
          "Monaco Grand Prix",
          "Canadian Grand Prix",
          "Spanish Grand Prix",
          "British Grand Prix",
          "Hungarian Grand Prix",
          "Belgian Grand Prix",
          "Dutch Grand Prix",
          "Italian Grand Prix",
          "Azerbaijan Grand Prix",
          "Singapore Grand Prix",
          "Mexico City Grand Prix",
          "Las Vegas Grand Prix"
         ],
         "y": [
          6.6,
          5.2631578947368425,
          6.8,
          5.7,
          5.9,
          5.9,
          7.8,
          6.9,
          7.1,
          7,
          null,
          5.5,
          6.3,
          6.5,
          6.1,
          6
         ]
        },
        {
         "name": "Spearman",
         "type": "bar",
         "x": [
          "Saudi Arabian Grand Prix",
          "Australian Grand Prix",
          "Japanese Grand Prix",
          "Emilia Romagna Grand Prix",
          "Monaco Grand Prix",
          "Canadian Grand Prix",
          "Spanish Grand Prix",
          "British Grand Prix",
          "Hungarian Grand Prix",
          "Belgian Grand Prix",
          "Dutch Grand Prix",
          "Italian Grand Prix",
          "Azerbaijan Grand Prix",
          "Singapore Grand Prix",
          "Mexico City Grand Prix",
          "Las Vegas Grand Prix"
         ],
         "y": [
          0.012030075187969924,
          0.30350877192982456,
          -0.0781954887218045,
          0.11278195488721804,
          0.22406015037593985,
          0.22105263157894736,
          -0.3924812030075188,
          0.09172932330827067,
          0.012030075187969924,
          -0.1639097744360902,
          null,
          0.26165413533834586,
          0.15488721804511277,
          0.06616541353383458,
          0.11879699248120301,
          0.08421052631578946
         ]
        },
        {
         "line": {
          "color": "blue"
         },
         "mode": "lines+markers",
         "name": "Cumulative MARE",
         "type": "scatter",
         "x": [
          "Saudi Arabian Grand Prix",
          "Australian Grand Prix",
          "Japanese Grand Prix",
          "Emilia Romagna Grand Prix",
          "Monaco Grand Prix",
          "Canadian Grand Prix",
          "Spanish Grand Prix",
          "British Grand Prix",
          "Hungarian Grand Prix",
          "Belgian Grand Prix",
          "Dutch Grand Prix",
          "Italian Grand Prix",
          "Azerbaijan Grand Prix",
          "Singapore Grand Prix",
          "Mexico City Grand Prix",
          "Las Vegas Grand Prix"
         ],
         "y": [
          6.6,
          5.931578947368421,
          6.221052631578947,
          6.09078947368421,
          6.052631578947368,
          6.02719298245614,
          6.280451127819548,
          6.357894736842105,
          6.440350877192982,
          6.496315789473684,
          null,
          5.871929824561403,
          5.9048582995951415,
          5.947368421052631,
          5.957543859649122,
          5.960197368421052
         ]
        },
        {
         "line": {
          "color": "red"
         },
         "mode": "lines+markers",
         "name": "Cumulative Spearman",
         "type": "scatter",
         "x": [
          "Saudi Arabian Grand Prix",
          "Australian Grand Prix",
          "Japanese Grand Prix",
          "Emilia Romagna Grand Prix",
          "Monaco Grand Prix",
          "Canadian Grand Prix",
          "Spanish Grand Prix",
          "British Grand Prix",
          "Hungarian Grand Prix",
          "Belgian Grand Prix",
          "Dutch Grand Prix",
          "Italian Grand Prix",
          "Azerbaijan Grand Prix",
          "Singapore Grand Prix",
          "Mexico City Grand Prix",
          "Las Vegas Grand Prix"
         ],
         "y": [
          0.012030075187969924,
          0.15776942355889725,
          0.07911445279866335,
          0.08753132832080202,
          0.11483709273182958,
          0.13253968253968254,
          0.05753669889008235,
          0.06181077694235589,
          0.05627958785853523,
          0.03426065162907268,
          null,
          0.05035505430242273,
          0.05839598997493734,
          0.058950948800572854,
          0.0629406850459482,
          0.06427005012531328
         ]
        }
       ],
       "layout": {
        "barmode": "group",
        "template": {
         "data": {
          "bar": [
           {
            "error_x": {
             "color": "#2a3f5f"
            },
            "error_y": {
             "color": "#2a3f5f"
            },
            "marker": {
             "line": {
              "color": "#E5ECF6",
              "width": 0.5
             },
             "pattern": {
              "fillmode": "overlay",
              "size": 10,
              "solidity": 0.2
             }
            },
            "type": "bar"
           }
          ],
          "barpolar": [
           {
            "marker": {
             "line": {
              "color": "#E5ECF6",
              "width": 0.5
             },
             "pattern": {
              "fillmode": "overlay",
              "size": 10,
              "solidity": 0.2
             }
            },
            "type": "barpolar"
           }
          ],
          "carpet": [
           {
            "aaxis": {
             "endlinecolor": "#2a3f5f",
             "gridcolor": "white",
             "linecolor": "white",
             "minorgridcolor": "white",
             "startlinecolor": "#2a3f5f"
            },
            "baxis": {
             "endlinecolor": "#2a3f5f",
             "gridcolor": "white",
             "linecolor": "white",
             "minorgridcolor": "white",
             "startlinecolor": "#2a3f5f"
            },
            "type": "carpet"
           }
          ],
          "choropleth": [
           {
            "colorbar": {
             "outlinewidth": 0,
             "ticks": ""
            },
            "type": "choropleth"
           }
          ],
          "contour": [
           {
            "colorbar": {
             "outlinewidth": 0,
             "ticks": ""
            },
            "colorscale": [
             [
              0,
              "#0d0887"
             ],
             [
              0.1111111111111111,
              "#46039f"
             ],
             [
              0.2222222222222222,
              "#7201a8"
             ],
             [
              0.3333333333333333,
              "#9c179e"
             ],
             [
              0.4444444444444444,
              "#bd3786"
             ],
             [
              0.5555555555555556,
              "#d8576b"
             ],
             [
              0.6666666666666666,
              "#ed7953"
             ],
             [
              0.7777777777777778,
              "#fb9f3a"
             ],
             [
              0.8888888888888888,
              "#fdca26"
             ],
             [
              1,
              "#f0f921"
             ]
            ],
            "type": "contour"
           }
          ],
          "contourcarpet": [
           {
            "colorbar": {
             "outlinewidth": 0,
             "ticks": ""
            },
            "type": "contourcarpet"
           }
          ],
          "heatmap": [
           {
            "colorbar": {
             "outlinewidth": 0,
             "ticks": ""
            },
            "colorscale": [
             [
              0,
              "#0d0887"
             ],
             [
              0.1111111111111111,
              "#46039f"
             ],
             [
              0.2222222222222222,
              "#7201a8"
             ],
             [
              0.3333333333333333,
              "#9c179e"
             ],
             [
              0.4444444444444444,
              "#bd3786"
             ],
             [
              0.5555555555555556,
              "#d8576b"
             ],
             [
              0.6666666666666666,
              "#ed7953"
             ],
             [
              0.7777777777777778,
              "#fb9f3a"
             ],
             [
              0.8888888888888888,
              "#fdca26"
             ],
             [
              1,
              "#f0f921"
             ]
            ],
            "type": "heatmap"
           }
          ],
          "heatmapgl": [
           {
            "colorbar": {
             "outlinewidth": 0,
             "ticks": ""
            },
            "colorscale": [
             [
              0,
              "#0d0887"
             ],
             [
              0.1111111111111111,
              "#46039f"
             ],
             [
              0.2222222222222222,
              "#7201a8"
             ],
             [
              0.3333333333333333,
              "#9c179e"
             ],
             [
              0.4444444444444444,
              "#bd3786"
             ],
             [
              0.5555555555555556,
              "#d8576b"
             ],
             [
              0.6666666666666666,
              "#ed7953"
             ],
             [
              0.7777777777777778,
              "#fb9f3a"
             ],
             [
              0.8888888888888888,
              "#fdca26"
             ],
             [
              1,
              "#f0f921"
             ]
            ],
            "type": "heatmapgl"
           }
          ],
          "histogram": [
           {
            "marker": {
             "pattern": {
              "fillmode": "overlay",
              "size": 10,
              "solidity": 0.2
             }
            },
            "type": "histogram"
           }
          ],
          "histogram2d": [
           {
            "colorbar": {
             "outlinewidth": 0,
             "ticks": ""
            },
            "colorscale": [
             [
              0,
              "#0d0887"
             ],
             [
              0.1111111111111111,
              "#46039f"
             ],
             [
              0.2222222222222222,
              "#7201a8"
             ],
             [
              0.3333333333333333,
              "#9c179e"
             ],
             [
              0.4444444444444444,
              "#bd3786"
             ],
             [
              0.5555555555555556,
              "#d8576b"
             ],
             [
              0.6666666666666666,
              "#ed7953"
             ],
             [
              0.7777777777777778,
              "#fb9f3a"
             ],
             [
              0.8888888888888888,
              "#fdca26"
             ],
             [
              1,
              "#f0f921"
             ]
            ],
            "type": "histogram2d"
           }
          ],
          "histogram2dcontour": [
           {
            "colorbar": {
             "outlinewidth": 0,
             "ticks": ""
            },
            "colorscale": [
             [
              0,
              "#0d0887"
             ],
             [
              0.1111111111111111,
              "#46039f"
             ],
             [
              0.2222222222222222,
              "#7201a8"
             ],
             [
              0.3333333333333333,
              "#9c179e"
             ],
             [
              0.4444444444444444,
              "#bd3786"
             ],
             [
              0.5555555555555556,
              "#d8576b"
             ],
             [
              0.6666666666666666,
              "#ed7953"
             ],
             [
              0.7777777777777778,
              "#fb9f3a"
             ],
             [
              0.8888888888888888,
              "#fdca26"
             ],
             [
              1,
              "#f0f921"
             ]
            ],
            "type": "histogram2dcontour"
           }
          ],
          "mesh3d": [
           {
            "colorbar": {
             "outlinewidth": 0,
             "ticks": ""
            },
            "type": "mesh3d"
           }
          ],
          "parcoords": [
           {
            "line": {
             "colorbar": {
              "outlinewidth": 0,
              "ticks": ""
             }
            },
            "type": "parcoords"
           }
          ],
          "pie": [
           {
            "automargin": true,
            "type": "pie"
           }
          ],
          "scatter": [
           {
            "fillpattern": {
             "fillmode": "overlay",
             "size": 10,
             "solidity": 0.2
            },
            "type": "scatter"
           }
          ],
          "scatter3d": [
           {
            "line": {
             "colorbar": {
              "outlinewidth": 0,
              "ticks": ""
             }
            },
            "marker": {
             "colorbar": {
              "outlinewidth": 0,
              "ticks": ""
             }
            },
            "type": "scatter3d"
           }
          ],
          "scattercarpet": [
           {
            "marker": {
             "colorbar": {
              "outlinewidth": 0,
              "ticks": ""
             }
            },
            "type": "scattercarpet"
           }
          ],
          "scattergeo": [
           {
            "marker": {
             "colorbar": {
              "outlinewidth": 0,
              "ticks": ""
             }
            },
            "type": "scattergeo"
           }
          ],
          "scattergl": [
           {
            "marker": {
             "colorbar": {
              "outlinewidth": 0,
              "ticks": ""
             }
            },
            "type": "scattergl"
           }
          ],
          "scattermapbox": [
           {
            "marker": {
             "colorbar": {
              "outlinewidth": 0,
              "ticks": ""
             }
            },
            "type": "scattermapbox"
           }
          ],
          "scatterpolar": [
           {
            "marker": {
             "colorbar": {
              "outlinewidth": 0,
              "ticks": ""
             }
            },
            "type": "scatterpolar"
           }
          ],
          "scatterpolargl": [
           {
            "marker": {
             "colorbar": {
              "outlinewidth": 0,
              "ticks": ""
             }
            },
            "type": "scatterpolargl"
           }
          ],
          "scatterternary": [
           {
            "marker": {
             "colorbar": {
              "outlinewidth": 0,
              "ticks": ""
             }
            },
            "type": "scatterternary"
           }
          ],
          "surface": [
           {
            "colorbar": {
             "outlinewidth": 0,
             "ticks": ""
            },
            "colorscale": [
             [
              0,
              "#0d0887"
             ],
             [
              0.1111111111111111,
              "#46039f"
             ],
             [
              0.2222222222222222,
              "#7201a8"
             ],
             [
              0.3333333333333333,
              "#9c179e"
             ],
             [
              0.4444444444444444,
              "#bd3786"
             ],
             [
              0.5555555555555556,
              "#d8576b"
             ],
             [
              0.6666666666666666,
              "#ed7953"
             ],
             [
              0.7777777777777778,
              "#fb9f3a"
             ],
             [
              0.8888888888888888,
              "#fdca26"
             ],
             [
              1,
              "#f0f921"
             ]
            ],
            "type": "surface"
           }
          ],
          "table": [
           {
            "cells": {
             "fill": {
              "color": "#EBF0F8"
             },
             "line": {
              "color": "white"
             }
            },
            "header": {
             "fill": {
              "color": "#C8D4E3"
             },
             "line": {
              "color": "white"
             }
            },
            "type": "table"
           }
          ]
         },
         "layout": {
          "annotationdefaults": {
           "arrowcolor": "#2a3f5f",
           "arrowhead": 0,
           "arrowwidth": 1
          },
          "autotypenumbers": "strict",
          "coloraxis": {
           "colorbar": {
            "outlinewidth": 0,
            "ticks": ""
           }
          },
          "colorscale": {
           "diverging": [
            [
             0,
             "#8e0152"
            ],
            [
             0.1,
             "#c51b7d"
            ],
            [
             0.2,
             "#de77ae"
            ],
            [
             0.3,
             "#f1b6da"
            ],
            [
             0.4,
             "#fde0ef"
            ],
            [
             0.5,
             "#f7f7f7"
            ],
            [
             0.6,
             "#e6f5d0"
            ],
            [
             0.7,
             "#b8e186"
            ],
            [
             0.8,
             "#7fbc41"
            ],
            [
             0.9,
             "#4d9221"
            ],
            [
             1,
             "#276419"
            ]
           ],
           "sequential": [
            [
             0,
             "#0d0887"
            ],
            [
             0.1111111111111111,
             "#46039f"
            ],
            [
             0.2222222222222222,
             "#7201a8"
            ],
            [
             0.3333333333333333,
             "#9c179e"
            ],
            [
             0.4444444444444444,
             "#bd3786"
            ],
            [
             0.5555555555555556,
             "#d8576b"
            ],
            [
             0.6666666666666666,
             "#ed7953"
            ],
            [
             0.7777777777777778,
             "#fb9f3a"
            ],
            [
             0.8888888888888888,
             "#fdca26"
            ],
            [
             1,
             "#f0f921"
            ]
           ],
           "sequentialminus": [
            [
             0,
             "#0d0887"
            ],
            [
             0.1111111111111111,
             "#46039f"
            ],
            [
             0.2222222222222222,
             "#7201a8"
            ],
            [
             0.3333333333333333,
             "#9c179e"
            ],
            [
             0.4444444444444444,
             "#bd3786"
            ],
            [
             0.5555555555555556,
             "#d8576b"
            ],
            [
             0.6666666666666666,
             "#ed7953"
            ],
            [
             0.7777777777777778,
             "#fb9f3a"
            ],
            [
             0.8888888888888888,
             "#fdca26"
            ],
            [
             1,
             "#f0f921"
            ]
           ]
          },
          "colorway": [
           "#636efa",
           "#EF553B",
           "#00cc96",
           "#ab63fa",
           "#FFA15A",
           "#19d3f3",
           "#FF6692",
           "#B6E880",
           "#FF97FF",
           "#FECB52"
          ],
          "font": {
           "color": "#2a3f5f"
          },
          "geo": {
           "bgcolor": "white",
           "lakecolor": "white",
           "landcolor": "#E5ECF6",
           "showlakes": true,
           "showland": true,
           "subunitcolor": "white"
          },
          "hoverlabel": {
           "align": "left"
          },
          "hovermode": "closest",
          "mapbox": {
           "style": "light"
          },
          "paper_bgcolor": "white",
          "plot_bgcolor": "#E5ECF6",
          "polar": {
           "angularaxis": {
            "gridcolor": "white",
            "linecolor": "white",
            "ticks": ""
           },
           "bgcolor": "#E5ECF6",
           "radialaxis": {
            "gridcolor": "white",
            "linecolor": "white",
            "ticks": ""
           }
          },
          "scene": {
           "xaxis": {
            "backgroundcolor": "#E5ECF6",
            "gridcolor": "white",
            "gridwidth": 2,
            "linecolor": "white",
            "showbackground": true,
            "ticks": "",
            "zerolinecolor": "white"
           },
           "yaxis": {
            "backgroundcolor": "#E5ECF6",
            "gridcolor": "white",
            "gridwidth": 2,
            "linecolor": "white",
            "showbackground": true,
            "ticks": "",
            "zerolinecolor": "white"
           },
           "zaxis": {
            "backgroundcolor": "#E5ECF6",
            "gridcolor": "white",
            "gridwidth": 2,
            "linecolor": "white",
            "showbackground": true,
            "ticks": "",
            "zerolinecolor": "white"
           }
          },
          "shapedefaults": {
           "line": {
            "color": "#2a3f5f"
           }
          },
          "ternary": {
           "aaxis": {
            "gridcolor": "white",
            "linecolor": "white",
            "ticks": ""
           },
           "baxis": {
            "gridcolor": "white",
            "linecolor": "white",
            "ticks": ""
           },
           "bgcolor": "#E5ECF6",
           "caxis": {
            "gridcolor": "white",
            "linecolor": "white",
            "ticks": ""
           }
          },
          "title": {
           "x": 0.05
          },
          "xaxis": {
           "automargin": true,
           "gridcolor": "white",
           "linecolor": "white",
           "ticks": "",
           "title": {
            "standoff": 15
           },
           "zerolinecolor": "white",
           "zerolinewidth": 2
          },
          "yaxis": {
           "automargin": true,
           "gridcolor": "white",
           "linecolor": "white",
           "ticks": "",
           "title": {
            "standoff": 15
           },
           "zerolinecolor": "white",
           "zerolinewidth": 2
          }
         }
        },
        "title": {
         "text": "Model Evaluation Scores by Event"
        },
        "xaxis": {
         "title": {
          "text": "Event"
         }
        },
        "yaxis": {
         "title": {
          "text": "Score"
         }
        }
       }
      }
     },
     "metadata": {},
     "output_type": "display_data"
    },
    {
     "name": "stdout",
     "output_type": "stream",
     "text": [
      "                           mean_ab_error  spearman_corr\n",
      "Race                                                   \n",
      "Saudi Arabian Grand Prix        6.600000       0.012030\n",
      "Australian Grand Prix           5.263158       0.303509\n",
      "Japanese Grand Prix             6.800000      -0.078195\n",
      "Emilia Romagna Grand Prix       5.700000       0.112782\n",
      "Monaco Grand Prix               5.900000       0.224060\n",
      "Canadian Grand Prix             5.900000       0.221053\n",
      "Spanish Grand Prix              7.800000      -0.392481\n",
      "British Grand Prix              6.900000       0.091729\n",
      "Hungarian Grand Prix            7.100000       0.012030\n",
      "Belgian Grand Prix              7.000000      -0.163910\n",
      "Dutch Grand Prix                     NaN            NaN\n",
      "Italian Grand Prix              5.500000       0.261654\n",
      "Azerbaijan Grand Prix           6.300000       0.154887\n",
      "Singapore Grand Prix            6.500000       0.066165\n",
      "Mexico City Grand Prix          6.100000       0.118797\n",
      "Las Vegas Grand Prix            6.000000       0.084211\n"
     ]
    }
   ],
   "source": [
    "def display_results(summary):\n",
    "    # bar chart where x is the event name, and the y values are all the scores\n",
    "        summary_df = pd.DataFrame(summary).set_index('Race')\n",
    "        print('Means:')\n",
    "        print(summary_df.mean())\n",
    "        results = schedule[['RoundNumber', 'EventName']].merge(summary_df, left_on='EventName', right_index=True).set_index('EventName')\n",
    "        results.sort_values('RoundNumber', inplace=True)\n",
    "        results.drop(columns='RoundNumber', inplace=True)\n",
    "        fig = go.Figure()\n",
    "        fig.add_trace(go.Bar(x=summary_df.index, y=summary_df['mean_ab_error'], name='MARE'))\n",
    "        fig.add_trace(go.Bar(x=summary_df.index, y=summary_df['spearman_corr'], name='Spearman'))\n",
    "\n",
    "        error = summary_df[['mean_ab_error', 'spearman_corr']]\n",
    "        error['cum_mae'] = summary_df['mean_ab_error'].cumsum() / range(1, len(summary_df) + 1)\n",
    "        error['cum_spearman'] = summary_df['spearman_corr'].cumsum() / range(1, len(summary_df) + 1)\n",
    "\n",
    "        fig.add_trace(go.Scatter(x=summary_df.index, y=error['cum_mae'], mode='lines+markers', name='Cumulative MARE', line=dict(color='blue')))\n",
    "        fig.add_trace(go.Scatter(x=summary_df.index, y=error['cum_spearman'], mode='lines+markers', name='Cumulative Spearman', line=dict(color='red')))\n",
    "        \n",
    "        fig.update_layout(barmode='group', xaxis_title='Event', yaxis_title='Score')\n",
    "        fig.update_layout(title='Model Evaluation Scores by Event')\n",
    "        fig.show()\n",
    "        return summary_df\n",
    "# Evaluate model performance for each race\n",
    "summary = []\n",
    "for race, result in ranking_results.items():\n",
    "    summary.append(ranknet_predictor.evaluate_model(result, race))\n",
    "\n",
    "# Display results\n",
    "summary_df = display_results(summary)\n",
    "print(summary_df)"
   ]
  },
  {
   "cell_type": "code",
   "execution_count": null,
   "metadata": {},
   "outputs": [],
   "source": [
    "summary = []\n",
    "for race, result in ranking_results.items():\n",
    "    summary.append(evaluate_model(result, race))\n",
    "\n",
    "summary_df = display_results(summary)\n",
    "summary_df\n"
   ]
  },
  {
   "cell_type": "code",
   "execution_count": null,
   "metadata": {},
   "outputs": [
    {
     "data": {
      "text/html": [
       "<pre style=\"white-space:pre;overflow-x:auto;line-height:normal;font-family:Menlo,'DejaVu Sans Mono',consolas,'Courier New',monospace\"><span style=\"font-weight: bold\">Model: \"functional_20\"</span>\n",
       "</pre>\n"
      ],
      "text/plain": [
       "\u001b[1mModel: \"functional_20\"\u001b[0m\n"
      ]
     },
     "metadata": {},
     "output_type": "display_data"
    },
    {
     "data": {
      "text/html": [
       "<pre style=\"white-space:pre;overflow-x:auto;line-height:normal;font-family:Menlo,'DejaVu Sans Mono',consolas,'Courier New',monospace\">┏━━━━━━━━━━━━━━━━━━━━━┳━━━━━━━━━━━━━━━━━━━┳━━━━━━━━━━━━┳━━━━━━━━━━━━━━━━━━━┓\n",
       "┃<span style=\"font-weight: bold\"> Layer (type)        </span>┃<span style=\"font-weight: bold\"> Output Shape      </span>┃<span style=\"font-weight: bold\">    Param # </span>┃<span style=\"font-weight: bold\"> Connected to      </span>┃\n",
       "┡━━━━━━━━━━━━━━━━━━━━━╇━━━━━━━━━━━━━━━━━━━╇━━━━━━━━━━━━╇━━━━━━━━━━━━━━━━━━━┩\n",
       "│ input_layer_18      │ (<span style=\"color: #00d7ff; text-decoration-color: #00d7ff\">None</span>, <span style=\"color: #00af00; text-decoration-color: #00af00\">13</span>)        │          <span style=\"color: #00af00; text-decoration-color: #00af00\">0</span> │ -                 │\n",
       "│ (<span style=\"color: #0087ff; text-decoration-color: #0087ff\">InputLayer</span>)        │                   │            │                   │\n",
       "├─────────────────────┼───────────────────┼────────────┼───────────────────┤\n",
       "│ input_layer_19      │ (<span style=\"color: #00d7ff; text-decoration-color: #00d7ff\">None</span>, <span style=\"color: #00af00; text-decoration-color: #00af00\">13</span>)        │          <span style=\"color: #00af00; text-decoration-color: #00af00\">0</span> │ -                 │\n",
       "│ (<span style=\"color: #0087ff; text-decoration-color: #0087ff\">InputLayer</span>)        │                   │            │                   │\n",
       "├─────────────────────┼───────────────────┼────────────┼───────────────────┤\n",
       "│ sequential_6        │ (<span style=\"color: #00d7ff; text-decoration-color: #00d7ff\">None</span>, <span style=\"color: #00af00; text-decoration-color: #00af00\">1</span>)         │      <span style=\"color: #00af00; text-decoration-color: #00af00\">3,009</span> │ input_layer_18[<span style=\"color: #00af00; text-decoration-color: #00af00\">0</span>… │\n",
       "│ (<span style=\"color: #0087ff; text-decoration-color: #0087ff\">Sequential</span>)        │                   │            │ input_layer_19[<span style=\"color: #00af00; text-decoration-color: #00af00\">0</span>… │\n",
       "├─────────────────────┼───────────────────┼────────────┼───────────────────┤\n",
       "│ subtract_6          │ (<span style=\"color: #00d7ff; text-decoration-color: #00d7ff\">None</span>, <span style=\"color: #00af00; text-decoration-color: #00af00\">1</span>)         │          <span style=\"color: #00af00; text-decoration-color: #00af00\">0</span> │ sequential_6[<span style=\"color: #00af00; text-decoration-color: #00af00\">0</span>][<span style=\"color: #00af00; text-decoration-color: #00af00\">…</span> │\n",
       "│ (<span style=\"color: #0087ff; text-decoration-color: #0087ff\">Subtract</span>)          │                   │            │ sequential_6[<span style=\"color: #00af00; text-decoration-color: #00af00\">1</span>][<span style=\"color: #00af00; text-decoration-color: #00af00\">…</span> │\n",
       "├─────────────────────┼───────────────────┼────────────┼───────────────────┤\n",
       "│ activation_6        │ (<span style=\"color: #00d7ff; text-decoration-color: #00d7ff\">None</span>, <span style=\"color: #00af00; text-decoration-color: #00af00\">1</span>)         │          <span style=\"color: #00af00; text-decoration-color: #00af00\">0</span> │ subtract_6[<span style=\"color: #00af00; text-decoration-color: #00af00\">0</span>][<span style=\"color: #00af00; text-decoration-color: #00af00\">0</span>]  │\n",
       "│ (<span style=\"color: #0087ff; text-decoration-color: #0087ff\">Activation</span>)        │                   │            │                   │\n",
       "└─────────────────────┴───────────────────┴────────────┴───────────────────┘\n",
       "</pre>\n"
      ],
      "text/plain": [
       "┏━━━━━━━━━━━━━━━━━━━━━┳━━━━━━━━━━━━━━━━━━━┳━━━━━━━━━━━━┳━━━━━━━━━━━━━━━━━━━┓\n",
       "┃\u001b[1m \u001b[0m\u001b[1mLayer (type)       \u001b[0m\u001b[1m \u001b[0m┃\u001b[1m \u001b[0m\u001b[1mOutput Shape     \u001b[0m\u001b[1m \u001b[0m┃\u001b[1m \u001b[0m\u001b[1m   Param #\u001b[0m\u001b[1m \u001b[0m┃\u001b[1m \u001b[0m\u001b[1mConnected to     \u001b[0m\u001b[1m \u001b[0m┃\n",
       "┡━━━━━━━━━━━━━━━━━━━━━╇━━━━━━━━━━━━━━━━━━━╇━━━━━━━━━━━━╇━━━━━━━━━━━━━━━━━━━┩\n",
       "│ input_layer_18      │ (\u001b[38;5;45mNone\u001b[0m, \u001b[38;5;34m13\u001b[0m)        │          \u001b[38;5;34m0\u001b[0m │ -                 │\n",
       "│ (\u001b[38;5;33mInputLayer\u001b[0m)        │                   │            │                   │\n",
       "├─────────────────────┼───────────────────┼────────────┼───────────────────┤\n",
       "│ input_layer_19      │ (\u001b[38;5;45mNone\u001b[0m, \u001b[38;5;34m13\u001b[0m)        │          \u001b[38;5;34m0\u001b[0m │ -                 │\n",
       "│ (\u001b[38;5;33mInputLayer\u001b[0m)        │                   │            │                   │\n",
       "├─────────────────────┼───────────────────┼────────────┼───────────────────┤\n",
       "│ sequential_6        │ (\u001b[38;5;45mNone\u001b[0m, \u001b[38;5;34m1\u001b[0m)         │      \u001b[38;5;34m3,009\u001b[0m │ input_layer_18[\u001b[38;5;34m0\u001b[0m… │\n",
       "│ (\u001b[38;5;33mSequential\u001b[0m)        │                   │            │ input_layer_19[\u001b[38;5;34m0\u001b[0m… │\n",
       "├─────────────────────┼───────────────────┼────────────┼───────────────────┤\n",
       "│ subtract_6          │ (\u001b[38;5;45mNone\u001b[0m, \u001b[38;5;34m1\u001b[0m)         │          \u001b[38;5;34m0\u001b[0m │ sequential_6[\u001b[38;5;34m0\u001b[0m][\u001b[38;5;34m…\u001b[0m │\n",
       "│ (\u001b[38;5;33mSubtract\u001b[0m)          │                   │            │ sequential_6[\u001b[38;5;34m1\u001b[0m][\u001b[38;5;34m…\u001b[0m │\n",
       "├─────────────────────┼───────────────────┼────────────┼───────────────────┤\n",
       "│ activation_6        │ (\u001b[38;5;45mNone\u001b[0m, \u001b[38;5;34m1\u001b[0m)         │          \u001b[38;5;34m0\u001b[0m │ subtract_6[\u001b[38;5;34m0\u001b[0m][\u001b[38;5;34m0\u001b[0m]  │\n",
       "│ (\u001b[38;5;33mActivation\u001b[0m)        │                   │            │                   │\n",
       "└─────────────────────┴───────────────────┴────────────┴───────────────────┘\n"
      ]
     },
     "metadata": {},
     "output_type": "display_data"
    },
    {
     "data": {
      "text/html": [
       "<pre style=\"white-space:pre;overflow-x:auto;line-height:normal;font-family:Menlo,'DejaVu Sans Mono',consolas,'Courier New',monospace\"><span style=\"font-weight: bold\"> Total params: </span><span style=\"color: #00af00; text-decoration-color: #00af00\">9,029</span> (35.27 KB)\n",
       "</pre>\n"
      ],
      "text/plain": [
       "\u001b[1m Total params: \u001b[0m\u001b[38;5;34m9,029\u001b[0m (35.27 KB)\n"
      ]
     },
     "metadata": {},
     "output_type": "display_data"
    },
    {
     "data": {
      "text/html": [
       "<pre style=\"white-space:pre;overflow-x:auto;line-height:normal;font-family:Menlo,'DejaVu Sans Mono',consolas,'Courier New',monospace\"><span style=\"font-weight: bold\"> Trainable params: </span><span style=\"color: #00af00; text-decoration-color: #00af00\">3,009</span> (11.75 KB)\n",
       "</pre>\n"
      ],
      "text/plain": [
       "\u001b[1m Trainable params: \u001b[0m\u001b[38;5;34m3,009\u001b[0m (11.75 KB)\n"
      ]
     },
     "metadata": {},
     "output_type": "display_data"
    },
    {
     "data": {
      "text/html": [
       "<pre style=\"white-space:pre;overflow-x:auto;line-height:normal;font-family:Menlo,'DejaVu Sans Mono',consolas,'Courier New',monospace\"><span style=\"font-weight: bold\"> Non-trainable params: </span><span style=\"color: #00af00; text-decoration-color: #00af00\">0</span> (0.00 B)\n",
       "</pre>\n"
      ],
      "text/plain": [
       "\u001b[1m Non-trainable params: \u001b[0m\u001b[38;5;34m0\u001b[0m (0.00 B)\n"
      ]
     },
     "metadata": {},
     "output_type": "display_data"
    },
    {
     "data": {
      "text/html": [
       "<pre style=\"white-space:pre;overflow-x:auto;line-height:normal;font-family:Menlo,'DejaVu Sans Mono',consolas,'Courier New',monospace\"><span style=\"font-weight: bold\"> Optimizer params: </span><span style=\"color: #00af00; text-decoration-color: #00af00\">6,020</span> (23.52 KB)\n",
       "</pre>\n"
      ],
      "text/plain": [
       "\u001b[1m Optimizer params: \u001b[0m\u001b[38;5;34m6,020\u001b[0m (23.52 KB)\n"
      ]
     },
     "metadata": {},
     "output_type": "display_data"
    }
   ],
   "source": [
    "ranknet_predictor.model.summary()"
   ]
  },
  {
   "cell_type": "code",
   "execution_count": 48,
   "metadata": {},
   "outputs": [
    {
     "data": {
      "application/vnd.plotly.v1+json": {
       "config": {
        "plotlyServerURL": "https://plot.ly"
       },
       "data": [
        {
         "cells": {
          "align": "left",
          "values": [
           [
            "Saudi Arabian Grand Prix",
            "Australian Grand Prix",
            "Japanese Grand Prix",
            "Emilia Romagna Grand Prix",
            "Monaco Grand Prix",
            "Canadian Grand Prix",
            "Spanish Grand Prix",
            "British Grand Prix",
            "Hungarian Grand Prix",
            "Belgian Grand Prix",
            "Dutch Grand Prix",
            "Italian Grand Prix",
            "Azerbaijan Grand Prix",
            "Singapore Grand Prix",
            "Mexico City Grand Prix",
            "Las Vegas Grand Prix"
           ],
           [
            6.6,
            5.26,
            6.8,
            5.7,
            5.9,
            5.9,
            7.8,
            6.9,
            7.1,
            7,
            null,
            5.5,
            6.3,
            6.5,
            6.1,
            6
           ],
           [
            0.01,
            0.3,
            -0.08,
            0.11,
            0.22,
            0.22,
            -0.39,
            0.09,
            0.01,
            -0.16,
            null,
            0.26,
            0.15,
            0.07,
            0.12,
            0.08
           ],
           [
            6.6,
            5.93,
            6.22,
            6.09,
            6.05,
            6.03,
            6.28,
            6.36,
            6.44,
            6.5,
            null,
            5.87,
            5.9,
            5.95,
            5.96,
            5.96
           ],
           [
            0.01,
            0.16,
            0.08,
            0.09,
            0.11,
            0.13,
            0.06,
            0.06,
            0.06,
            0.03,
            null,
            0.05,
            0.06,
            0.06,
            0.06,
            0.06
           ]
          ]
         },
         "header": {
          "align": "left",
          "values": [
           "Race",
           "MARE",
           "Spearman",
           " Cumulative MARE",
           "Cumulative Spearman"
          ]
         },
         "type": "table"
        }
       ],
       "layout": {
        "height": 850,
        "template": {
         "data": {
          "bar": [
           {
            "error_x": {
             "color": "#2a3f5f"
            },
            "error_y": {
             "color": "#2a3f5f"
            },
            "marker": {
             "line": {
              "color": "#E5ECF6",
              "width": 0.5
             },
             "pattern": {
              "fillmode": "overlay",
              "size": 10,
              "solidity": 0.2
             }
            },
            "type": "bar"
           }
          ],
          "barpolar": [
           {
            "marker": {
             "line": {
              "color": "#E5ECF6",
              "width": 0.5
             },
             "pattern": {
              "fillmode": "overlay",
              "size": 10,
              "solidity": 0.2
             }
            },
            "type": "barpolar"
           }
          ],
          "carpet": [
           {
            "aaxis": {
             "endlinecolor": "#2a3f5f",
             "gridcolor": "white",
             "linecolor": "white",
             "minorgridcolor": "white",
             "startlinecolor": "#2a3f5f"
            },
            "baxis": {
             "endlinecolor": "#2a3f5f",
             "gridcolor": "white",
             "linecolor": "white",
             "minorgridcolor": "white",
             "startlinecolor": "#2a3f5f"
            },
            "type": "carpet"
           }
          ],
          "choropleth": [
           {
            "colorbar": {
             "outlinewidth": 0,
             "ticks": ""
            },
            "type": "choropleth"
           }
          ],
          "contour": [
           {
            "colorbar": {
             "outlinewidth": 0,
             "ticks": ""
            },
            "colorscale": [
             [
              0,
              "#0d0887"
             ],
             [
              0.1111111111111111,
              "#46039f"
             ],
             [
              0.2222222222222222,
              "#7201a8"
             ],
             [
              0.3333333333333333,
              "#9c179e"
             ],
             [
              0.4444444444444444,
              "#bd3786"
             ],
             [
              0.5555555555555556,
              "#d8576b"
             ],
             [
              0.6666666666666666,
              "#ed7953"
             ],
             [
              0.7777777777777778,
              "#fb9f3a"
             ],
             [
              0.8888888888888888,
              "#fdca26"
             ],
             [
              1,
              "#f0f921"
             ]
            ],
            "type": "contour"
           }
          ],
          "contourcarpet": [
           {
            "colorbar": {
             "outlinewidth": 0,
             "ticks": ""
            },
            "type": "contourcarpet"
           }
          ],
          "heatmap": [
           {
            "colorbar": {
             "outlinewidth": 0,
             "ticks": ""
            },
            "colorscale": [
             [
              0,
              "#0d0887"
             ],
             [
              0.1111111111111111,
              "#46039f"
             ],
             [
              0.2222222222222222,
              "#7201a8"
             ],
             [
              0.3333333333333333,
              "#9c179e"
             ],
             [
              0.4444444444444444,
              "#bd3786"
             ],
             [
              0.5555555555555556,
              "#d8576b"
             ],
             [
              0.6666666666666666,
              "#ed7953"
             ],
             [
              0.7777777777777778,
              "#fb9f3a"
             ],
             [
              0.8888888888888888,
              "#fdca26"
             ],
             [
              1,
              "#f0f921"
             ]
            ],
            "type": "heatmap"
           }
          ],
          "heatmapgl": [
           {
            "colorbar": {
             "outlinewidth": 0,
             "ticks": ""
            },
            "colorscale": [
             [
              0,
              "#0d0887"
             ],
             [
              0.1111111111111111,
              "#46039f"
             ],
             [
              0.2222222222222222,
              "#7201a8"
             ],
             [
              0.3333333333333333,
              "#9c179e"
             ],
             [
              0.4444444444444444,
              "#bd3786"
             ],
             [
              0.5555555555555556,
              "#d8576b"
             ],
             [
              0.6666666666666666,
              "#ed7953"
             ],
             [
              0.7777777777777778,
              "#fb9f3a"
             ],
             [
              0.8888888888888888,
              "#fdca26"
             ],
             [
              1,
              "#f0f921"
             ]
            ],
            "type": "heatmapgl"
           }
          ],
          "histogram": [
           {
            "marker": {
             "pattern": {
              "fillmode": "overlay",
              "size": 10,
              "solidity": 0.2
             }
            },
            "type": "histogram"
           }
          ],
          "histogram2d": [
           {
            "colorbar": {
             "outlinewidth": 0,
             "ticks": ""
            },
            "colorscale": [
             [
              0,
              "#0d0887"
             ],
             [
              0.1111111111111111,
              "#46039f"
             ],
             [
              0.2222222222222222,
              "#7201a8"
             ],
             [
              0.3333333333333333,
              "#9c179e"
             ],
             [
              0.4444444444444444,
              "#bd3786"
             ],
             [
              0.5555555555555556,
              "#d8576b"
             ],
             [
              0.6666666666666666,
              "#ed7953"
             ],
             [
              0.7777777777777778,
              "#fb9f3a"
             ],
             [
              0.8888888888888888,
              "#fdca26"
             ],
             [
              1,
              "#f0f921"
             ]
            ],
            "type": "histogram2d"
           }
          ],
          "histogram2dcontour": [
           {
            "colorbar": {
             "outlinewidth": 0,
             "ticks": ""
            },
            "colorscale": [
             [
              0,
              "#0d0887"
             ],
             [
              0.1111111111111111,
              "#46039f"
             ],
             [
              0.2222222222222222,
              "#7201a8"
             ],
             [
              0.3333333333333333,
              "#9c179e"
             ],
             [
              0.4444444444444444,
              "#bd3786"
             ],
             [
              0.5555555555555556,
              "#d8576b"
             ],
             [
              0.6666666666666666,
              "#ed7953"
             ],
             [
              0.7777777777777778,
              "#fb9f3a"
             ],
             [
              0.8888888888888888,
              "#fdca26"
             ],
             [
              1,
              "#f0f921"
             ]
            ],
            "type": "histogram2dcontour"
           }
          ],
          "mesh3d": [
           {
            "colorbar": {
             "outlinewidth": 0,
             "ticks": ""
            },
            "type": "mesh3d"
           }
          ],
          "parcoords": [
           {
            "line": {
             "colorbar": {
              "outlinewidth": 0,
              "ticks": ""
             }
            },
            "type": "parcoords"
           }
          ],
          "pie": [
           {
            "automargin": true,
            "type": "pie"
           }
          ],
          "scatter": [
           {
            "fillpattern": {
             "fillmode": "overlay",
             "size": 10,
             "solidity": 0.2
            },
            "type": "scatter"
           }
          ],
          "scatter3d": [
           {
            "line": {
             "colorbar": {
              "outlinewidth": 0,
              "ticks": ""
             }
            },
            "marker": {
             "colorbar": {
              "outlinewidth": 0,
              "ticks": ""
             }
            },
            "type": "scatter3d"
           }
          ],
          "scattercarpet": [
           {
            "marker": {
             "colorbar": {
              "outlinewidth": 0,
              "ticks": ""
             }
            },
            "type": "scattercarpet"
           }
          ],
          "scattergeo": [
           {
            "marker": {
             "colorbar": {
              "outlinewidth": 0,
              "ticks": ""
             }
            },
            "type": "scattergeo"
           }
          ],
          "scattergl": [
           {
            "marker": {
             "colorbar": {
              "outlinewidth": 0,
              "ticks": ""
             }
            },
            "type": "scattergl"
           }
          ],
          "scattermapbox": [
           {
            "marker": {
             "colorbar": {
              "outlinewidth": 0,
              "ticks": ""
             }
            },
            "type": "scattermapbox"
           }
          ],
          "scatterpolar": [
           {
            "marker": {
             "colorbar": {
              "outlinewidth": 0,
              "ticks": ""
             }
            },
            "type": "scatterpolar"
           }
          ],
          "scatterpolargl": [
           {
            "marker": {
             "colorbar": {
              "outlinewidth": 0,
              "ticks": ""
             }
            },
            "type": "scatterpolargl"
           }
          ],
          "scatterternary": [
           {
            "marker": {
             "colorbar": {
              "outlinewidth": 0,
              "ticks": ""
             }
            },
            "type": "scatterternary"
           }
          ],
          "surface": [
           {
            "colorbar": {
             "outlinewidth": 0,
             "ticks": ""
            },
            "colorscale": [
             [
              0,
              "#0d0887"
             ],
             [
              0.1111111111111111,
              "#46039f"
             ],
             [
              0.2222222222222222,
              "#7201a8"
             ],
             [
              0.3333333333333333,
              "#9c179e"
             ],
             [
              0.4444444444444444,
              "#bd3786"
             ],
             [
              0.5555555555555556,
              "#d8576b"
             ],
             [
              0.6666666666666666,
              "#ed7953"
             ],
             [
              0.7777777777777778,
              "#fb9f3a"
             ],
             [
              0.8888888888888888,
              "#fdca26"
             ],
             [
              1,
              "#f0f921"
             ]
            ],
            "type": "surface"
           }
          ],
          "table": [
           {
            "cells": {
             "fill": {
              "color": "#EBF0F8"
             },
             "line": {
              "color": "white"
             }
            },
            "header": {
             "fill": {
              "color": "#C8D4E3"
             },
             "line": {
              "color": "white"
             }
            },
            "type": "table"
           }
          ]
         },
         "layout": {
          "annotationdefaults": {
           "arrowcolor": "#2a3f5f",
           "arrowhead": 0,
           "arrowwidth": 1
          },
          "autotypenumbers": "strict",
          "coloraxis": {
           "colorbar": {
            "outlinewidth": 0,
            "ticks": ""
           }
          },
          "colorscale": {
           "diverging": [
            [
             0,
             "#8e0152"
            ],
            [
             0.1,
             "#c51b7d"
            ],
            [
             0.2,
             "#de77ae"
            ],
            [
             0.3,
             "#f1b6da"
            ],
            [
             0.4,
             "#fde0ef"
            ],
            [
             0.5,
             "#f7f7f7"
            ],
            [
             0.6,
             "#e6f5d0"
            ],
            [
             0.7,
             "#b8e186"
            ],
            [
             0.8,
             "#7fbc41"
            ],
            [
             0.9,
             "#4d9221"
            ],
            [
             1,
             "#276419"
            ]
           ],
           "sequential": [
            [
             0,
             "#0d0887"
            ],
            [
             0.1111111111111111,
             "#46039f"
            ],
            [
             0.2222222222222222,
             "#7201a8"
            ],
            [
             0.3333333333333333,
             "#9c179e"
            ],
            [
             0.4444444444444444,
             "#bd3786"
            ],
            [
             0.5555555555555556,
             "#d8576b"
            ],
            [
             0.6666666666666666,
             "#ed7953"
            ],
            [
             0.7777777777777778,
             "#fb9f3a"
            ],
            [
             0.8888888888888888,
             "#fdca26"
            ],
            [
             1,
             "#f0f921"
            ]
           ],
           "sequentialminus": [
            [
             0,
             "#0d0887"
            ],
            [
             0.1111111111111111,
             "#46039f"
            ],
            [
             0.2222222222222222,
             "#7201a8"
            ],
            [
             0.3333333333333333,
             "#9c179e"
            ],
            [
             0.4444444444444444,
             "#bd3786"
            ],
            [
             0.5555555555555556,
             "#d8576b"
            ],
            [
             0.6666666666666666,
             "#ed7953"
            ],
            [
             0.7777777777777778,
             "#fb9f3a"
            ],
            [
             0.8888888888888888,
             "#fdca26"
            ],
            [
             1,
             "#f0f921"
            ]
           ]
          },
          "colorway": [
           "#636efa",
           "#EF553B",
           "#00cc96",
           "#ab63fa",
           "#FFA15A",
           "#19d3f3",
           "#FF6692",
           "#B6E880",
           "#FF97FF",
           "#FECB52"
          ],
          "font": {
           "color": "#2a3f5f"
          },
          "geo": {
           "bgcolor": "white",
           "lakecolor": "white",
           "landcolor": "#E5ECF6",
           "showlakes": true,
           "showland": true,
           "subunitcolor": "white"
          },
          "hoverlabel": {
           "align": "left"
          },
          "hovermode": "closest",
          "mapbox": {
           "style": "light"
          },
          "paper_bgcolor": "white",
          "plot_bgcolor": "#E5ECF6",
          "polar": {
           "angularaxis": {
            "gridcolor": "white",
            "linecolor": "white",
            "ticks": ""
           },
           "bgcolor": "#E5ECF6",
           "radialaxis": {
            "gridcolor": "white",
            "linecolor": "white",
            "ticks": ""
           }
          },
          "scene": {
           "xaxis": {
            "backgroundcolor": "#E5ECF6",
            "gridcolor": "white",
            "gridwidth": 2,
            "linecolor": "white",
            "showbackground": true,
            "ticks": "",
            "zerolinecolor": "white"
           },
           "yaxis": {
            "backgroundcolor": "#E5ECF6",
            "gridcolor": "white",
            "gridwidth": 2,
            "linecolor": "white",
            "showbackground": true,
            "ticks": "",
            "zerolinecolor": "white"
           },
           "zaxis": {
            "backgroundcolor": "#E5ECF6",
            "gridcolor": "white",
            "gridwidth": 2,
            "linecolor": "white",
            "showbackground": true,
            "ticks": "",
            "zerolinecolor": "white"
           }
          },
          "shapedefaults": {
           "line": {
            "color": "#2a3f5f"
           }
          },
          "ternary": {
           "aaxis": {
            "gridcolor": "white",
            "linecolor": "white",
            "ticks": ""
           },
           "baxis": {
            "gridcolor": "white",
            "linecolor": "white",
            "ticks": ""
           },
           "bgcolor": "#E5ECF6",
           "caxis": {
            "gridcolor": "white",
            "linecolor": "white",
            "ticks": ""
           }
          },
          "title": {
           "x": 0.05
          },
          "xaxis": {
           "automargin": true,
           "gridcolor": "white",
           "linecolor": "white",
           "ticks": "",
           "title": {
            "standoff": 15
           },
           "zerolinecolor": "white",
           "zerolinewidth": 2
          },
          "yaxis": {
           "automargin": true,
           "gridcolor": "white",
           "linecolor": "white",
           "ticks": "",
           "title": {
            "standoff": 15
           },
           "zerolinecolor": "white",
           "zerolinewidth": 2
          }
         }
        },
        "width": 1090
       }
      }
     },
     "metadata": {},
     "output_type": "display_data"
    }
   ],
   "source": [
    "import plotly.graph_objects as go\n",
    "sum_copy = summary_df. copy ()\n",
    "sum_copy.rename(columns={'mean_ab_error': 'MARE', 'spearman_corr': 'Spearman'}, inplace=True)\n",
    "sum_copy.reset_index(inplace=True)\n",
    "sum_copy[' Cumulative MARE'] = sum_copy['MARE']. cumsum() / range(1, len(sum_copy) + 1)\n",
    "sum_copy['Cumulative Spearman'] = sum_copy['Spearman'].cumsum() / range(1, len(sum_copy) + 1)\n",
    "sum_copy= sum_copy.round(2)\n",
    "fig = go.Figure (data= [go.Table(\n",
    "    header=dict (values=list (sum_copy.columns) ,\n",
    "    align='left'),\n",
    "    cells=dict(values=[sum_copy[col] for col in sum_copy.columns], align='left'))\n",
    "    ], layout=go.Layout(width=1090, height=850))\n",
    "fig.show()"
   ]
  }
 ],
 "metadata": {
  "kernelspec": {
   "display_name": "base",
   "language": "python",
   "name": "python3"
  },
  "language_info": {
   "codemirror_mode": {
    "name": "ipython",
    "version": 3
   },
   "file_extension": ".py",
   "mimetype": "text/x-python",
   "name": "python",
   "nbconvert_exporter": "python",
   "pygments_lexer": "ipython3",
   "version": "3.11.9"
  },
  "orig_nbformat": 4
 },
 "nbformat": 4,
 "nbformat_minor": 2
}
